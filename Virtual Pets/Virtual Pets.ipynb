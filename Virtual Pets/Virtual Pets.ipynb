{
 "cells": [
  {
   "cell_type": "markdown",
   "metadata": {},
   "source": [
    "# Virtual Pets\n",
    "**Jin Yeom**  \n",
    "jin.yeom@hudl.com"
   ]
  },
  {
   "cell_type": "markdown",
   "metadata": {},
   "source": [
    "In this notebook, we create a prototype for a virtual pet game, similar to existing virtual pet toys like [Digimon](https://en.wikipedia.org/wiki/Digimon) and [Tamagochi](https://en.wikipedia.org/wiki/Tamagotchi). This project is also inspired by [this tweet](https://twitter.com/lexaloffle/status/1129071867610853376). Most importantly, however, we aim to create such a game that is a bit more intelligent, by applying more advanced techniques for generating sprites and their behaviours."
   ]
  },
  {
   "cell_type": "markdown",
   "metadata": {},
   "source": [
    "## Motivation"
   ]
  },
  {
   "cell_type": "markdown",
   "metadata": {},
   "source": [
    "A \"tweetcart\" for Pico-8 by @lexaloffle:\n",
    "\n",
    "```lua\n",
    "function rnd_spr(r,x,y)\n",
    "srand(r)pal(1,13)pal(2,7)\n",
    "for v=0,7 do for u=0,3 do\n",
    "c=rnd(3) pset(x+u,y+v,c) pset(x+7-u,y+v,c)\n",
    "end end end\n",
    "\n",
    "cls()p=0::_::\n",
    "for y=0,11 do for x=0,11 do\n",
    "rnd_spr(p*144+x+y*12,4+x*10,4+y*10)\n",
    "end end if(btnp(5))p+=1 goto _\n",
    "```\n",
    "\n",
    "<img src=\"images/example.png\" align=left width=30%></img>"
   ]
  },
  {
   "cell_type": "markdown",
   "metadata": {},
   "source": [
    "Let's start by taking a better look at the random sprite generation algorithm in the tweet:\n",
    "\n",
    "```lua\n",
    "function rnd_spr(r,x,y)\n",
    "    -- Seed the random number generator.\n",
    "    srand(r)\n",
    "    \n",
    "    -- `pal` seems to be specific to Pico-8.\n",
    "    --\n",
    "    -- According to https://pico-8.fandom.com/wiki/Pal:\n",
    "    --   \"Changes the draw state so all instances of a \n",
    "    --   given color are replaced with a new color.\"\n",
    "    pal(1,13)\n",
    "    pal(2,7) \n",
    "    \n",
    "    for v=0,7 do \n",
    "        for u=0,3 do\n",
    "            -- Simply assigning random colors,\n",
    "            -- but with vertical symmetry.\n",
    "            c=rnd(3) \n",
    "            pset(x+u,y+v,c) \n",
    "            pset(x+7-u,y+v,c)\n",
    "        end \n",
    "    end \n",
    "end\n",
    "\n",
    "cls()\n",
    "p = 0\n",
    "::_::\n",
    "for y=0,11 do \n",
    "    for x=0,11 do\n",
    "        rnd_spr(p*144+x+y*12,4+x*10,4+y*10)\n",
    "    end\n",
    "end\n",
    "\n",
    "-- When button \"5\" is pressed, increment `p` by 1 and\n",
    "-- iterate from `_` again.\n",
    "--\n",
    "-- Since this seems irrelevant for us, we'll ignore it.\n",
    "if(btnp(5)) \n",
    "    p+=1\n",
    "    goto _\n",
    "```"
   ]
  },
  {
   "cell_type": "code",
   "execution_count": 4,
   "metadata": {},
   "outputs": [],
   "source": [
    "from enum import Enum"
   ]
  },
  {
   "cell_type": "code",
   "execution_count": 25,
   "metadata": {},
   "outputs": [],
   "source": [
    "import numpy as np\n",
    "from matplotlib import pyplot as plt"
   ]
  },
  {
   "cell_type": "markdown",
   "metadata": {},
   "source": [
    "Let's try reimplementing the algorithm above in Python!"
   ]
  },
  {
   "cell_type": "code",
   "execution_count": 6,
   "metadata": {},
   "outputs": [],
   "source": [
    "class Color(Enum):\n",
    "    WHITE = (255, 255, 255)\n",
    "    GREY = (128, 128, 128)\n",
    "    BLACK = (0, 0, 0)\n",
    "    \n",
    "    @classmethod\n",
    "    def rand(cls, rng=None):\n",
    "        options = ['WHITE', 'GREY', 'BLACK']\n",
    "        if rng is None:\n",
    "            return cls[np.random.choice(options)]\n",
    "        return cls[rng.choice(options)]"
   ]
  },
  {
   "cell_type": "code",
   "execution_count": 119,
   "metadata": {},
   "outputs": [
    {
     "data": {
      "image/png": "[encoded data removed]",
      "text/plain": [
       "<Figure size 576x576 with 1 Axes>"
      ]
     },
     "metadata": {
      "needs_background": "light"
     },
     "output_type": "display_data"
    }
   ],
   "source": [
    "def rnd_spr(s, r, x, y):\n",
    "    rng = np.random.RandomState(r)\n",
    "    for v in range(8):\n",
    "        for u in range(4):\n",
    "            c = Color.rand(rng)\n",
    "            s[y+v, x+u, :] = c.value\n",
    "            s[y+v, x+7-u, :] = c.value\n",
    "\n",
    "plt.figure(figsize=(8, 8))\n",
    "plt.axis('off')\n",
    "s = np.zeros((127, 127, 3), dtype=np.uint8)\n",
    "for y in range(12):\n",
    "    for x in range(12):\n",
    "        rnd_spr(s,x+y*12,4+x*10,4+y*10)\n",
    "plt.imshow(s)\n",
    "plt.show()"
   ]
  },
  {
   "cell_type": "markdown",
   "metadata": {},
   "source": [
    "Once again, I'd like to mention how uncanny it is that these look like they can be some creatures, just because they're symmetrical."
   ]
  },
  {
   "cell_type": "code",
   "execution_count": 130,
   "metadata": {},
   "outputs": [],
   "source": [
    "def rnd_spr(r=None, s=10):\n",
    "    rng = np.random.RandomState(r)\n",
    "    spr = np.zeros((s, s, 3), np.uint8)\n",
    "    for v in range(s-2):\n",
    "        for u in range((s-2)//2):\n",
    "            c = Color.rand(rng)\n",
    "            spr[v+1, u+1, :] = c.value\n",
    "            spr[v+1, s-2-u, :] = c.value\n",
    "    return spr"
   ]
  },
  {
   "cell_type": "code",
   "execution_count": 136,
   "metadata": {},
   "outputs": [
    {
     "data": {
      "image/png": "[encoded data removed]",
      "text/plain": [
       "<Figure size 432x288 with 1 Axes>"
      ]
     },
     "metadata": {
      "needs_background": "light"
     },
     "output_type": "display_data"
    }
   ],
   "source": [
    "spr = rnd_spr()\n",
    "plt.imshow(spr)\n",
    "plt.show()"
   ]
  },
  {
   "cell_type": "markdown",
   "metadata": {},
   "source": [
    "Now, I'm almost embarrassed by how amazed I was with this, while at the same time still intrigues with its simplicity. This is still a good enough inspiration. We may ask here, what if we can use random CPPNs to create such sprites that can also be parameterized? This would be interesting, since a complexifying CPPN can simulate the creature's physical development."
   ]
  },
  {
   "cell_type": "markdown",
   "metadata": {},
   "source": [
    "## Compositional Pattern Producing Networks"
   ]
  },
  {
   "cell_type": "code",
   "execution_count": null,
   "metadata": {},
   "outputs": [],
   "source": [
    "# TODO: implement CPPN"
   ]
  }
 ],
 "metadata": {
  "kernelspec": {
   "display_name": "Python 3",
   "language": "python",
   "name": "python3"
  },
  "language_info": {
   "codemirror_mode": {
    "name": "ipython",
    "version": 3
   },
   "file_extension": ".py",
   "mimetype": "text/x-python",
   "name": "python",
   "nbconvert_exporter": "python",
   "pygments_lexer": "ipython3",
   "version": "3.7.3"
  }
 },
 "nbformat": 4,
 "nbformat_minor": 2
}
