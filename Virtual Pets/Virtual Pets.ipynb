{
 "cells": [
  {
   "cell_type": "markdown",
   "metadata": {},
   "source": [
    "# Virtual Pets\n",
    "**Jin Yeom**  \n",
    "jin.yeom@hudl.com"
   ]
  },
  {
   "cell_type": "markdown",
   "metadata": {},
   "source": [
    "In this notebook, we create a prototype for a virtual pet game, similar to existing virtual pet toys like [Digimon](https://en.wikipedia.org/wiki/Digimon) and [Tamagochi](https://en.wikipedia.org/wiki/Tamagotchi). This project is also inspired by [this tweet](https://twitter.com/lexaloffle/status/1129071867610853376). Most importantly, however, we aim to create such a game that is a bit more intelligent, by applying more advanced techniques for generating sprites and their behaviours."
   ]
  },
  {
   "cell_type": "markdown",
   "metadata": {},
   "source": [
    "## Motivation"
   ]
  },
  {
   "cell_type": "markdown",
   "metadata": {},
   "source": [
    "A \"tweetcart\" for Pico-8 by @lexaloffle:\n",
    "\n",
    "```lua\n",
    "function rnd_spr(r,x,y)\n",
    "srand(r)pal(1,13)pal(2,7)\n",
    "for v=0,7 do for u=0,3 do\n",
    "c=rnd(3) pset(x+u,y+v,c) pset(x+7-u,y+v,c)\n",
    "end end end\n",
    "\n",
    "cls()p=0::_::\n",
    "for y=0,11 do for x=0,11 do\n",
    "rnd_spr(p*144+x+y*12,4+x*10,4+y*10)\n",
    "end end if(btnp(5))p+=1 goto _\n",
    "```\n",
    "\n",
    "<img src=\"images/example.png\" align=left width=30%></img>"
   ]
  },
  {
   "cell_type": "markdown",
   "metadata": {},
   "source": [
    "Let's start by taking a better look at the random sprite generation algorithm in the tweet:\n",
    "\n",
    "```lua\n",
    "function rnd_spr(r,x,y)\n",
    "    -- Seed the random number generator.\n",
    "    srand(r)\n",
    "    \n",
    "    -- `pal` seems to be specific to Pico-8.\n",
    "    --\n",
    "    -- According to https://pico-8.fandom.com/wiki/Pal:\n",
    "    --   \"Changes the draw state so all instances of a \n",
    "    --   given color are replaced with a new color.\"\n",
    "    pal(1,13)\n",
    "    pal(2,7) \n",
    "    \n",
    "    for v=0,7 do \n",
    "        for u=0,3 do\n",
    "            -- Simply assigning random colors,\n",
    "            -- but with vertical symmetry.\n",
    "            c=rnd(3) \n",
    "            pset(x+u,y+v,c) \n",
    "            pset(x+7-u,y+v,c)\n",
    "        end \n",
    "    end \n",
    "end\n",
    "\n",
    "cls()\n",
    "p = 0\n",
    "::_::\n",
    "for y=0,11 do \n",
    "    for x=0,11 do\n",
    "        rnd_spr(p*144+x+y*12,4+x*10,4+y*10)\n",
    "    end\n",
    "end\n",
    "\n",
    "-- When button \"5\" is pressed, increment `p` by 1 and\n",
    "-- iterate from `_` again.\n",
    "--\n",
    "-- Since this seems irrelevant for us, we'll ignore it.\n",
    "if(btnp(5)) \n",
    "    p+=1\n",
    "    goto _\n",
    "```"
   ]
  },
  {
   "cell_type": "code",
   "execution_count": 1,
   "metadata": {},
   "outputs": [],
   "source": [
    "from enum import Enum"
   ]
  },
  {
   "cell_type": "code",
   "execution_count": 2,
   "metadata": {},
   "outputs": [],
   "source": [
    "import numpy as np\n",
    "from matplotlib import pyplot as plt"
   ]
  },
  {
   "cell_type": "markdown",
   "metadata": {},
   "source": [
    "Let's try reimplementing the algorithm above in Python!"
   ]
  },
  {
   "cell_type": "code",
   "execution_count": 3,
   "metadata": {},
   "outputs": [],
   "source": [
    "class Color(Enum):\n",
    "    WHITE = (255, 255, 255)\n",
    "    GREY = (128, 128, 128)\n",
    "    BLACK = (0, 0, 0)\n",
    "    \n",
    "    @classmethod\n",
    "    def rand(cls, rng=None):\n",
    "        options = ['WHITE', 'GREY', 'BLACK']\n",
    "        if rng is None:\n",
    "            return cls[np.random.choice(options)]\n",
    "        return cls[rng.choice(options)]"
   ]
  },
  {
   "cell_type": "code",
   "execution_count": 4,
   "metadata": {},
   "outputs": [
    {
     "data": {
      "image/png": "[encoded data removed]",
      "text/plain": [
       "<Figure size 576x576 with 1 Axes>"
      ]
     },
     "metadata": {
      "needs_background": "light"
     },
     "output_type": "display_data"
    }
   ],
   "source": [
    "def rnd_spr(s, r, x, y):\n",
    "    rng = np.random.RandomState(r)\n",
    "    for v in range(8):\n",
    "        for u in range(4):\n",
    "            c = Color.rand(rng)\n",
    "            s[y+v, x+u, :] = c.value\n",
    "            s[y+v, x+7-u, :] = c.value\n",
    "\n",
    "plt.figure(figsize=(8, 8))\n",
    "plt.axis('off')\n",
    "s = np.zeros((127, 127, 3), dtype=np.uint8)\n",
    "for y in range(12):\n",
    "    for x in range(12):\n",
    "        rnd_spr(s,x+y*12,4+x*10,4+y*10)\n",
    "plt.imshow(s)\n",
    "plt.show()"
   ]
  },
  {
   "cell_type": "markdown",
   "metadata": {},
   "source": [
    "Once again, I'd like to mention how uncanny it is that these look like they can be some creatures, just because they're symmetrical."
   ]
  },
  {
   "cell_type": "code",
   "execution_count": 5,
   "metadata": {},
   "outputs": [],
   "source": [
    "def rnd_spr(r=None, s=10):\n",
    "    rng = np.random.RandomState(r)\n",
    "    spr = np.zeros((s, s, 3), np.uint8)\n",
    "    for v in range(s-2):\n",
    "        for u in range((s-2)//2):\n",
    "            c = Color.rand(rng)\n",
    "            spr[v+1, u+1, :] = c.value\n",
    "            spr[v+1, s-2-u, :] = c.value\n",
    "    return spr"
   ]
  },
  {
   "cell_type": "code",
   "execution_count": 6,
   "metadata": {},
   "outputs": [
    {
     "data": {
      "image/png": "[encoded data removed]",
      "text/plain": [
       "<Figure size 432x288 with 1 Axes>"
      ]
     },
     "metadata": {
      "needs_background": "light"
     },
     "output_type": "display_data"
    }
   ],
   "source": [
    "spr = rnd_spr()\n",
    "plt.imshow(spr)\n",
    "plt.show()"
   ]
  },
  {
   "cell_type": "markdown",
   "metadata": {},
   "source": [
    "## Compositional Pattern Producing Networks"
   ]
  },
  {
   "cell_type": "code",
   "execution_count": 24,
   "metadata": {},
   "outputs": [],
   "source": [
    "class Node:\n",
    "    _activ_fns = {\n",
    "        'sigmoid': lambda x: 1 / 1 + np.exp(-x),\n",
    "        'tanh': lambda x: np.tanh(x),\n",
    "        'relu': lambda x: x * (x > 0),\n",
    "        'cos': lambda x: np.cos(x),\n",
    "        'gaussian': lambda x: np.exp(-0.5*x**2)/np.sqrt(2*np.pi),\n",
    "    }\n",
    "    \n",
    "    def __init__(self, activ_fn=None):\n",
    "        self.activ_fn = activ_fn\n",
    "        self.connections = {}\n",
    "        self.activation = 0.0\n",
    "    \n",
    "    def __str__(self):\n",
    "        return f'Node({self.activ_fn}, {len(self.connections)})'\n",
    "        \n",
    "    @staticmethod\n",
    "    def rand_activ_fn(rng=None):\n",
    "        options = list(Node._activ_fns.keys())\n",
    "        if rng is None:\n",
    "            return np.random.choice(options)\n",
    "        return rng.choice(options)\n",
    "    \n",
    "    def connect_from(self, node, weight):\n",
    "        self.connections[node] = weight\n",
    "        \n",
    "    def activate(self):\n",
    "        if len(self.connections):\n",
    "            z = sum(w * n.activation for n, w in self.connections.items())\n",
    "            if self.activ_nf is not None:\n",
    "                z = Node._activ_fns[self.activ_fn](z)\n",
    "            self.activation = z"
   ]
  },
  {
   "cell_type": "code",
   "execution_count": 30,
   "metadata": {},
   "outputs": [],
   "source": [
    "class CPPN:\n",
    "    def __init__(self, n_in, n_out, seed):\n",
    "        self.n_in = n_in\n",
    "        self.n_out = n_out\n",
    "        self._rng = np.random.RandomState(seed)\n",
    "        self.input_nodes = [Node() for _ in range(n_in)]\n",
    "        self.hidden_nodes = []  # will be added through mutation\n",
    "        self.output_nodes = [Node() for _ in range(n_out)]\n",
    "        self.size = n_in + n_out\n",
    "        \n",
    "    @property\n",
    "    def nodes(self):\n",
    "        return self.input_nodes + self.hidden_nodes + self.output_nodes\n",
    "        \n",
    "    def perturb(self):\n",
    "        node = self._rng.choice(self.nodes[self.n_in:])\n",
    "        src = self._rng.choice(list(node.connections.keys()))\n",
    "        node.connections[src] += self._rng.normal(loc=0.0, scale=1e-2)\n",
    "        \n",
    "    def _rand_node(self):\n",
    "        activ_fn = Node.rand_activ_fn(rng=self._rng)\n",
    "        return Node(activ_fn=activ_fn)\n",
    "    \n",
    "    def _rand_weight(self):\n",
    "        return self._rng.normal(loc=0.0, scale=1e-2)\n",
    "        \n",
    "    def add_conn(self):\n",
    "        dst = self._rng.randint(self.n_in, self.size)\n",
    "        dst_node = self.nodes[dst]\n",
    "        conns = set(dst_node.connections.keys())\n",
    "        lim = min(dst, self.size - self.n_out)  # source node limit\n",
    "        src_cands = [n for n in self.nodes[:lim] if n not in conns]\n",
    "        if len(src_cands):\n",
    "            src_node = self._rng.choice(src_cands)\n",
    "            weight = self._rand_weight()\n",
    "            dst_node.connect_from(src_node, weight)\n",
    "        \n",
    "    def add_node(self):\n",
    "        pos = 0\n",
    "        if len(self.hidden_nodes):\n",
    "            pos = self._rng.randint(0, len(self.hidden_nodes))\n",
    "        new = self._rand_node()\n",
    "        self.hidden_nodes.insert(pos, new)\n",
    "        src = self._rng.choice(self.input_nodes+self.hidden_nodes[:pos])\n",
    "        dst = self._rng.choice(self.hidden_nodes[pos+1:] + self.output_nodes)\n",
    "        new.connect_from(src, self._rand_weight())\n",
    "        dst.connect_from(new, self._rand_weight())\n",
    "        \n",
    "    def activate(self, x):\n",
    "        raise NotImplementedError"
   ]
  }
 ],
 "metadata": {
  "kernelspec": {
   "display_name": "Python 3",
   "language": "python",
   "name": "python3"
  },
  "language_info": {
   "codemirror_mode": {
    "name": "ipython",
    "version": 3
   },
   "file_extension": ".py",
   "mimetype": "text/x-python",
   "name": "python",
   "nbconvert_exporter": "python",
   "pygments_lexer": "ipython3",
   "version": "3.7.3"
  }
 },
 "nbformat": 4,
 "nbformat_minor": 2
}
