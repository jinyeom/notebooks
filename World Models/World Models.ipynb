{
 "cells": [
  {
   "cell_type": "markdown",
   "metadata": {},
   "source": [
    "# World Models\n",
    "**Jin Yeom**  \n",
    "jin.yeom@hudl.com"
   ]
  },
  {
   "cell_type": "code",
   "execution_count": 1,
   "metadata": {},
   "outputs": [],
   "source": [
    "from collections import namedtuple\n",
    "from pprint import pprint\n",
    "\n",
    "import gym\n",
    "from gym.spaces import Box\n",
    "import numpy as np\n",
    "from PIL import Image\n",
    "from matplotlib import pyplot as plt\n",
    "from matplotlib import animation as anime\n",
    "from IPython.display import HTML\n",
    "import torch\n",
    "from torch import nn, distributions\n",
    "from torch.nn import functional as F"
   ]
  },
  {
   "cell_type": "markdown",
   "metadata": {},
   "source": [
    "This notebook implements **[World Models](https://arxiv.org/abs/1803.10122)** (Ha & Schmidhuber, 2018). This work proposes a framework of model-based deep reinforcement learning. Two key differences in this work from more commonly seen deep RL algorithms (e.g., DQN, PPO, DDPG, etc.) are that 1) feature learning is separated from the controller, i.e., a world model agent isn't trained with a strange scheme of learning where it can only learn to see via reward signals, and 2) the agent's model is trained in an unsupervised fashion from its trajectory data; once trained, it can simulate the environment within a latent space (they describe this simulation as \"dreaming\").\n",
    "\n",
    "The proposed agent consists of three components: the vision model ($V$) and the memory model ($M$), which together define the agent's world model, and a controller ($C$) for selecting actions. Ha and Schmidhuber chose to use a convolutional VAE for $V$ and a mixture density recurrent network for $M$, and a single layered network for $C$, which was evolved via CMA-ES. Note that their choice of architecture is more of a proof of concept and can be enhanced with more advanced algorithms."
   ]
  },
  {
   "cell_type": "markdown",
   "metadata": {},
   "source": [
    "## Environment"
   ]
  },
  {
   "cell_type": "markdown",
   "metadata": {},
   "source": [
    "We'll start with something simple: **Atari 2600 Pong**."
   ]
  },
  {
   "cell_type": "code",
   "execution_count": 2,
   "metadata": {},
   "outputs": [
    {
     "data": {
      "image/png": "[encoded data removed]",
      "text/plain": [
       "<Figure size 432x288 with 1 Axes>"
      ]
     },
     "metadata": {
      "needs_background": "light"
     },
     "output_type": "display_data"
    }
   ],
   "source": [
    "env = gym.make('PongNoFrameskip-v4')\n",
    "obs = env.reset()\n",
    "plt.imshow(obs)\n",
    "plt.axis('off')\n",
    "plt.show()"
   ]
  },
  {
   "cell_type": "markdown",
   "metadata": {},
   "source": [
    "Before we start working with the environment, we'll preprocess the observation a little bit. Particularly, I think the scoreboard on top of the screen is rather irrelevant, so we'll crop it out; same for the bottom block."
   ]
  },
  {
   "cell_type": "code",
   "execution_count": 3,
   "metadata": {},
   "outputs": [],
   "source": [
    "class ProcessFrame(gym.ObservationWrapper):\n",
    "    def __init__(self, env, size):\n",
    "        super(ProcessFrame, self).__init__(env)\n",
    "        self.size = size\n",
    "        self.observation_space = Box(low=0, high=1, shape=(3, size, size), dtype=np.float32)\n",
    "\n",
    "    def observation(self, obs):\n",
    "        obs = Image.fromarray(obs[34:194, :160, :])  # crop the center square\n",
    "        obs = np.array(obs.resize((self.size, self.size), resample=Image.BILINEAR))\n",
    "        obs = obs.transpose(2, 0, 1).astype(np.float32) / 255.0\n",
    "        return torch.from_numpy(obs)"
   ]
  },
  {
   "cell_type": "markdown",
   "metadata": {},
   "source": [
    "We'll also apply frame skip to increase performance ([Braylan et al., 2015](http://nn.cs.utexas.edu/downloads/papers/braylan.aaai15.pdf))."
   ]
  },
  {
   "cell_type": "code",
   "execution_count": 4,
   "metadata": {},
   "outputs": [],
   "source": [
    "class FrameSkip(gym.Wrapper):\n",
    "    def __init__(self, env, frame_skip):\n",
    "        super(FrameSkip, self).__init__(env)\n",
    "        self._frame_skip = frame_skip\n",
    "\n",
    "    def step(self, action):\n",
    "        total_reward = 0.0\n",
    "        for _ in range(self._frame_skip):\n",
    "            obs, reward, done, info = self.env.step(action)\n",
    "            total_reward += reward\n",
    "            if done:\n",
    "                break\n",
    "        return obs, total_reward, done, info\n",
    "\n",
    "    def reset(self):\n",
    "        return self.env.reset()"
   ]
  },
  {
   "cell_type": "markdown",
   "metadata": {},
   "source": [
    "Now, we can compile these wrappers together with `gym.make` to make a single `make_pong` function. Nothing important, just neat to have!"
   ]
  },
  {
   "cell_type": "code",
   "execution_count": 5,
   "metadata": {},
   "outputs": [],
   "source": [
    "def make_pong():\n",
    "    env = gym.make('PongNoFrameskip-v4')\n",
    "    env = ProcessFrame(env, 64)\n",
    "    env = FrameSkip(env, 4)\n",
    "    return env"
   ]
  },
  {
   "cell_type": "markdown",
   "metadata": {},
   "source": [
    "Let's take a look at observations from our processed environment."
   ]
  },
  {
   "cell_type": "code",
   "execution_count": 6,
   "metadata": {},
   "outputs": [
    {
     "data": {
      "text/html": [
       "<video width=\"432\" height=\"288\" controls autoplay loop>\n",
       "  <source type=\"video/mp4\" src=\"data:video/mp4;base64,AAAAHGZ0eXBNNFYgAAACAGlzb21pc28yYXZjMQAAAAhmcmVlAAAYRW1kYXQAAAKuBgX//6rcRem9\n",
       "5tlIt5Ys2CDZI+7veDI2NCAtIGNvcmUgMTUyIHIyODU0IGU5YTU5MDMgLSBILjI2NC9NUEVHLTQg\n",
       "QVZDIGNvZGVjIC0gQ29weWxlZnQgMjAwMy0yMDE3IC0gaHR0cDovL3d3dy52aWRlb2xhbi5vcmcv\n",
       "eDI2NC5odG1sIC0gb3B0aW9uczogY2FiYWM9MSByZWY9MyBkZWJsb2NrPTE6MDowIGFuYWx5c2U9\n",
       "MHgzOjB4MTEzIG1lPWhleCBzdWJtZT03IHBzeT0xIHBzeV9yZD0xLjAwOjAuMDAgbWl4ZWRfcmVm\n",
       "PTEgbWVfcmFuZ2U9MTYgY2hyb21hX21lPTEgdHJlbGxpcz0xIDh4OGRjdD0xIGNxbT0wIGRlYWR6\n",
       "b25lPTIxLDExIGZhc3RfcHNraXA9MSBjaHJvbWFfcXBfb2Zmc2V0PS0yIHRocmVhZHM9OSBsb29r\n",
       "YWhlYWRfdGhyZWFkcz0xIHNsaWNlZF90aHJlYWRzPTAgbnI9MCBkZWNpbWF0ZT0xIGludGVybGFj\n",
       "ZWQ9MCBibHVyYXlfY29tcGF0PTAgY29uc3RyYWluZWRfaW50cmE9MCBiZnJhbWVzPTMgYl9weXJh\n",
       "bWlkPTIgYl9hZGFwdD0xIGJfYmlhcz0wIGRpcmVjdD0xIHdlaWdodGI9MSBvcGVuX2dvcD0wIHdl\n",
       "aWdodHA9MiBrZXlpbnQ9MjUwIGtleWludF9taW49MjUgc2NlbmVjdXQ9NDAgaW50cmFfcmVmcmVz\n",
       "aD0wIHJjX2xvb2thaGVhZD00MCByYz1jcmYgbWJ0cmVlPTEgY3JmPTIzLjAgcWNvbXA9MC42MCBx\n",
       "cG1pbj0wIHFwbWF4PTY5IHFwc3RlcD00IGlwX3JhdGlvPTEuNDAgYXE9MToxLjAwAIAAAAEyZYiE\n",
       "AC///vau/MsrRwuVLh1Ze7NR8uhJcv2IMH1oAAADAADVaeUGUpNWI76AABymNsX+EZGAAMsTcr3p\n",
       "9A3tG0Dy6Wn/TN5AKQjFYqFmVjLCK/OP1orNPVzvcdCjOFpaFCzTvobatRMKYBocWo1pCQR0uPPQ\n",
       "TXbwbBZyzUpSFK1jko884B6H75S+w20TzGvXMipYyLVbyzHaj0l6wCwlYk1NGADzQYv5ZywUI6o0\n",
       "3A/7Leradp5XAizEyAbtKNXZI3CowjAXt5v/dvlcsYJ1k/AikHwFUnCgvAiZGwUwOTyEi6XCxEhp\n",
       "tpI+hQw+1u0pG2wSYsib6B4deQ1eITYg3FD+ajvWEjjPJLfxltdfGLekYDRQAuUh3ij3v1gvYm8H\n",
       "AEz+F4G8ajy3puAABzzWGJCRAAAAZ0GaImxDP/6eEAAj3xYxA7TeGeDfs1n2aL0BVBi0MDOZXhbF\n",
       "jy4FbH1GFf7qTm1uWDJKc0W7m8u6rNWRoceabrcR79dNh4oR40uAyFV7Lfoa0mNCQ32zYu1Vn719\n",
       "1y5geWsItSjN6PgAAABFAZ5BeQj/AAuislGUOCmH0BQIyuDrvl9UcBy/8c0RiqmeB67pfMEjRyPJ\n",
       "U/6MK/UgScESjV589ZCleZb1DmqwqNu2MtsHAAAAOkGaRTwhkymEL//+jLAABKEgvCAdp1fIwN7C\n",
       "i/wvQIhXSqhGRts4wQwP3SO2b0FB5v8ebg3Wg320GjgAAAAYQZ5jalPCfwABPrUrsTJ5m4l21n4U\n",
       "VtOBAAAAFwGehGpCPwABdNzOxe5sBVdlQ2p5haJxAAAAH0GahkmoQWiZTAhn//6eEAAEdN7qfygA\n",
       "9zU9eN5W/4EAAABuQZqoSeEKUmUwURLDP/6eEAAkpGBwGN/xwjDmsarIR5KVhQ/NO5ZBi++x30aD\n",
       "3ixNOYZkbcNk6jw0kIpTieA1KeFGiFtqsphpUnZDb7653osvB/6Hg+F9Ixip258yewK0hHNz4eQ2\n",
       "iB6d2dw0BYEAAAAbAZ7HakI/AAvP3g5HC7PA3DKa2xb3/ZpgYl96AAAAMkGazEnhDomUwIX//oyw\n",
       "AEpYURvowwHDzggCtHXF0DZd8Wx1/9TkLNX+K0ISBDKfzAfAAAAAG0Ge6kUVPCf/ABPrdaVlvYOo\n",
       "a3NmxIy1M72aoQAAAB4Bnwl0Qj8AC8/d4lAYCQMdJu8Q62mnsABCvkyrIoAAAAAbAZ8LakI/ABfp\n",
       "g9Dkbe+XHO9qRpBsyEXhBCxYAAAAPEGbDUmoQWiZTAhn//6eEACSpJBwCkp58NG1zc+swfirVZKW\n",
       "GDZOviyDL1f8Yakc6l+hJAuX/1KmzL4u4QAAAGlBmzFJ4QpSZTAhn/6eEACSpAHnMkDYAbSDRocV\n",
       "2L1ZGyodnoV4EyEYczHSPngv4xokGHdjchwzqrS4/HJMjy6F+xBX/MZONLEBYARha19CHIfvTlNg\n",
       "DMMbJkgs5hQlyUcl4aS1AbstGnEAAABTQZ9PRTRMJ/8AT94+AQ//0QQYEqd9oyGkDUO7n/Sn8VPB\n",
       "eaJeTLEpgktzgZ/jdF9dkD2gHsV1n9g2nmwkPgESVOsCk5ATHPyoqUjK4ZAJLvLqKIcAAABCAZ9u\n",
       "dEI/AF+uLt2az5q1bA8oHxuNerwehoApHte5Oa76ERs88SzTTkV2Gboehe7/pAkoqwqzwWz0ctgi\n",
       "wLc93byQAAAAQwGfcGpCPwBfpg87K1ISDbZw6rXHSQ1AFGjIqm7/sC91S3xkGHOX0HVQMHbOAgp2\n",
       "/LlhONCshrrRoSDkt6+sE6WXocAAAABwQZtzSahBaJlMFPDP/p4QAI98WMPiB6qVfPWEdh/2Vv9H\n",
       "uzlrd0AR6IsWxNWRQliO+LUUch7MoBOP4HGSrfvTv80dzkJq71+fgKRYK3Y+Mmrc1WrJLuf720UV\n",
       "ccH2NBUc5UvupKu98Vu/RyvK9HSsJQAAADIBn5JqQj8ALoqy/wG13TvK0qdB2LkPWHF+DDTAJ+2A\n",
       "ICXcCmu1zMQ0LF7WtjCRyO1jfAAAAFpBm5VJ4QpSZTBSwz/+nhAASb4sTBsuM9y28dOcfz5szgAA\n",
       "2apF+eOqD/5OXz4nbA1/ztPtjLpScuRdxxtoPpHI3/a6WRAFhC9Mzb9Yx0iwNEatvj6bCTeO1GsA\n",
       "AAA1AZ+0akI/ABfia0AxiLBW8uzkKEsYmJbm8hXs+0hfm+WgACDyp5Q85HKl3wBKhJnYRx4BCwcA\n",
       "AABUQZu5SeEOiZTAhn/+nhAAI98WLphNFLnzfj3qg1PIARCZjuFbnfYALqGDmsAWBJjRJPC6dQqC\n",
       "WMH4dn2RorfX/HYEzT4gYjMyFP5rJY8C0XZRY66AAAAASEGf10UVPCf/AAmvf6ly0ANia9Scm3DR\n",
       "ss8ZShfAaBPn0V80x0VeGlWzOSwciqfPO3Fk55iC+LiqAtsLh53yb0JZb22kPMRpJQAAAD8Bn/Z0\n",
       "Qj8AC6cvgDH0KLO5W5PoRhgA5JZ3WzZVQMBR/7HkMCd3AHLos3UOjYdkZD8s87ia8ILbYWIgcTxe\n",
       "6JEAAAA6AZ/4akI/AAv3NQRsR46gBsVt5/vexRONNafwuVfa/KEBtVi2DJLHJYYba/yzXs2nBEvK\n",
       "QsncFErvVwAAAIJBm/1JqEFomUwIX//+jLAAEp+Jyc7PD8/05XvCgF3pJ5YLRd9uho7vDODI9C+n\n",
       "DP8K/E/UFZYMRqzY+SzmkJohvIu9kB5Clv8XScDUuWImYJQYxxfyrIzX5NgeyxDC+UsgfjRnPfEn\n",
       "zYQElcTU+ll65Q4RyMrhen5sEfSzdnnw95TlAAAATkGeG0URLCf/AAT5kxBqpc1JgGsVbIcR8k0q\n",
       "fyMpEjcBisUCFn/oswBExydAHpSH+8DvKG2kmVHH2VQJG3HMCDE0ShRlajflrbKb0udd+AAAAD0B\n",
       "njp0Qj8ABffkT2WgxE76Izev/pdND6+lqH1XxSv/94WAIe3lgqsyItp1dZXPZzojHVFF1Tw07GMX\n",
       "WOcRAAAAKgGePGpCPwABft3GVB7OFjmIU5eAozNZyACMfeUcTreyko8haEeOv9L6sQAAAFlBmj5J\n",
       "qEFsmUwIZ//+nhAAElIwOAUJbB9MYe+P2oY9DXyqmXzanp0WCXAKdlpefYn49lUpuqs4jis6dKPw\n",
       "+Mg14GYWCiqoRLS96WOhLYI71G+PD8Dn/+rnbAAAAFxBmkFJ4QpSZTAhn/6eEAARzaMt9Prg2hDv\n",
       "tP3AACL7ygeZs62yt/ZWACtiPf7Yk7yOngckeraarzw1d1pxSmYRSKCKJcqXP1Bi46EV0hU7F4l/\n",
       "ICKMBVpz2u/SkQAAADpBnn9FNEwn/wAExuW3d66xbHWf56tuBY86YAi85MpvRgGopOh4eeo6Uk38\n",
       "N95JluMzrIWfBYj9xyZnAAAAVQGegGpCPwAF02/rbtQwwBgEeAAQt1nQQquQCZym9nhFgRfasBcD\n",
       "Gg2zUaSTz8rwSiWlGvwOs1YNbIoJMMaJXU1fXiYI8SrL5ZJ3jf62eX8KznczoqAAAACuQZqESahB\n",
       "aJlMCF///oywBQ+8vwB9J2PlFCzWRhg5B+LxSoqFFeXXffuHDXQ2fP4ix9KY+ONVXIhtaUiiCBIH\n",
       "ZVJHcBYpxDVyFPIOl0L/Bfveruu1mmhjmSjeGpRrsOwuhVzj5Dj59vBYCF94lij8Bu5Ooh9oi1Ua\n",
       "ifITKUzHn6cjRX7xRv9v4f7c2BH5Hnu3jAc07zKBTKZmOW4KnL3Eh3JSQkIVgAlvutdAP6hJAAAA\n",
       "ZkGeokURLCf/ABPrdaUeu12h3/5w9CLRC7AWc3qaBs7523eHEcrXFeBxPdRWeMkTKtzu9uwzruGC\n",
       "bssD7az4xVDwQIr/cL9c9KnDpYm39Lklh75hnQdXGuFDSNbtHftj+gE4UXIDYAAAAFABnsNqQj8B\n",
       "nN4D3P2772roGGobU9njywenoUAeyl3e/suBISpCVsPgA+5r2t6K0GcOyz9oNvQq5smiRqRgsAxY\n",
       "wNILmVVTDJTOyQ8aKoFM3QAAALVBmsZJqEFsmUwUTC///oywBQ4bHkwANn+BrrZA26gLqkkXYzZV\n",
       "cjAk3/231DG6OsBDN6C7NTJyog935hQG68BIZQCjQLtZcvnuyhERWSEipN19B8D9Cp9hGJNzDIJa\n",
       "WmGY8uC/YL6yxNVfeGzrw8p2FPxJvh4xeYU/o6UWSoKfmHkJw3v5nlviU/Wl+slcRlZe3XoSbsq1\n",
       "9lngHY6i9SZJEu+073BNbcnuZfwQ6D/T8i/ERcHdAAAARgGe5WpCPwGcKgkSy6m0G7Bl8hZ2cRWz\n",
       "jBL7sBAJpjGNG0ka2MKX0Bx/8+kxcSrckavvY2L4IoGi7VsKpZn0eQtZ0inRZ6EAAAB+QZroSeEK\n",
       "UmUwUsM//p4QBRV92D0Ed8V/3w6IAX5QhVzAfA/LhwfLcNhm2jvjV4EnT88kLTjVV6YEKNkYtJAa\n",
       "ERCwAOADW/DlXZLw5Fx4//aDYMxfqlmT9rtEnxxEkuSzd1Yvq/Lk3jAxYi4x8qC3a2ln5SUT7war\n",
       "tXNjQo3BAAAASwGfB2pCPwBdNw3c8ACFux9JhhlBZCReYWdP/zIXRX90dcU5axhc6C6c2Cn2Iyg5\n",
       "mIOulh/nCHZb304JAQ1cNaFGE6gezLnvWzdTMAAAAHtBmwtJ4Q6JlMCF//6MsAVXmvx4MJ36Wr/w\n",
       "AVj7lYQ6yHHVc4HpWW9yzXYagttwC/J+p8OYcWlEmTHQmjTkzpTHoGBCi2DtPi/rssCxZucpveXw\n",
       "egxM2UepesXpJITxdd2tqHupM7tpKye4RbOLOIxxq2vynF7pg5ihp+AAAAA+QZ8pRRU8J/8AWu3W\n",
       "yurM6i7SInwAinKConFEH0FrX/y5NKO6rUXTQ7nw7i00A9/6yOKhUKVwE/DCsea1w+EAAABGAZ9K\n",
       "akI/ANhvC5A9FSAAWHqTf7gq8EufLa7BPtI8zUmnhx9AlwMtZMwNcfyx2rXh5XpQsL9W9EsdYQ91\n",
       "eZdsgSj5OwkDKgAAAGNBm05JqEFomUwIV//+OEAU/JFjIwlD8ABs82USF0sbEU35WrH70YoCP4Hj\n",
       "nmiCRo3rVIJJRm6AHxF/hWqqXDvu57PNQb9uJ6GkXf6Reo6jp0VhQO8DEKgQNSE7gXFl2q1mjVgA\n",
       "AABFQZ9sRREsJ/8BYbgqgxH3q/ACMjQVA/qi6o3CJOUq0uc3BsaLPKq9OSJ5aVyi1LVv+/W0zAnd\n",
       "BopOTdTzlWivyDp6YhbRAAAAPwGfjWpCPwGmoFcABOtdTzhCVLn3rRF2rKofpvF3f11ax4jhqAe9\n",
       "tE9rfKRsaNMsAvgFEpxLzuRk3HdneiwHrQAAAEhBm49JqEFsmUwIX//+jLAGTywQAWz3lLzkg68o\n",
       "M75excetoctKPBF2b3QLy3Xan6qSvrxPx02nlLy8bIFSPSFrTan+X2wWg4EAAABrQZuwSeEKUmUw\n",
       "IX/+jLAGWllUkCAFqE1YdvRrH2vlz8UIv2fgT3+aYoEsAIl+wJmB1KOaG2Z0dbm43ll9gotljuxa\n",
       "cOZ4PziR56DuyHyz9nW33W0R5EWoD/Z75j4m4P6Py6HPCksftq/mpXcAAABUQZvRSeEOiZTAhf/+\n",
       "jLAGX55sAb9wCS2KYtEovUnY853sUMrBJKLJ6FmRz8KULTyrx1Z1lrv4to+Rhud27caIvM/l3o7j\n",
       "9zrWSBiwfoLxTiwthnVAAAAAY0Gb80nhDyZTBRE8L//+jLAGX81x3MoyIgY1/VXOlPF3Y83msXOq\n",
       "F8s+MAwAtdDkGdtX4XFqG7rxT+xCODRSO+trdBm7UAG92o+2XpBq82eFeh2anum04f8cx4PrV59p\n",
       "qyKNmQAAAEQBnhJqQj8B5gHl77x+AJnb4UWtH8MEsSsj5rZdjR8RPiNTE1EeoHXc0KVx6Iybogtq\n",
       "0o5cpMZsA7RTykRG64JcyWqyPgAAAF9BmhVJ4Q8mUwU8L//+jLADFjErivsPs+qF1Z8Hkc1QBf5d\n",
       "f8Ki5N8ClpTglYZ0nD0imYJQMGZ/JBUQ3iC/NOA5kVUusmjyreMxvXPcL3Nc4Mrja/81whHGRq3R\n",
       "HMAi4AAAAEoBnjRqQj8AeYSUQeQewyhOvHk6qK3MgLTBiSjgvKWu/axeSj4qT90NWiw9ZakTaTn/\n",
       "YyCbeg3r4gkPytyCuQ/wVvA7QeBvyQhBwQAAAEZBmjZJ4Q8mUwIX//6MsAEp+Jyc7j/+vxs0TOCA\n",
       "NDezlBQBF95tFtiuf3/P7GTtU7xncgMz6xI8ZDT/9oBmlD6G+R9iMLlfAAAAdkGaWEnhDyZTBRE8\n",
       "L//+jLAAlPxOTncf/18VO/zDcJLtiPYogigCtFPFA4AfRs1C4dILjs9ExznRDjkQtOS4iS+8Ffcx\n",
       "NF2/IY+kioLTwvX8pW6Z0dOTcV/fDshfAbSJ21dk8rN55IxeNpJQIcIRTqm0aCyXJV8AAABKAZ53\n",
       "akI/AC/E1scrdmD4B/Y262q4zmHFO+UegLxSNE4FNbuGvB62UVib23w5bATy8RN/+CbVSJH/QzHu\n",
       "G2o3Z2O1C4w5MQa70ycAAACSQZp6SeEPJlMFPC///oywADBcJaokXNsPa+l/5TgA1tlAKMgvD+lv\n",
       "5rrK8aZLpezc/lbbmiXvorjGvLq+8lB2FPEeYxHIlQ+OX1GMovpMH+FDzijXp1KiAdqH0if8lpL+\n",
       "1eDwuNIhXs+QTvsfLmraTRCo5z2xsH60DqutmXKqa3X4B2ozDApBMdm/h7QRlye60HMAAABhAZ6Z\n",
       "akI/AA8wHnCo2WKrVRYUeAADYRuSQpkOUHHqqPTXEb4DuRmowHtRdmYAbwSz+ZMYjPFuGuoQa1DS\n",
       "42wzB3ZNhHh28nD0UvcKV0VJOf2E/fIAtQenD4Czzt3cwKRkwQAAAFJBmp5J4Q8mUwIT//3xAADi\n",
       "+gDOWfwucHvgBuaTeO1H7hpEX4nMvMQ/5dFHtCjMw7p0lUPkLfxz/dtZr6n/m9EO9ltq+0/DwkFf\n",
       "hwkqchFybAlMAAAASkGevEURPCf/AAmu4flJyaeOoJFpYkNloiEAAy+AEZHOKM4KkF7mjoifTBtE\n",
       "fn7rWmWkaZscuE2nyEwHpQxZubu0X4VoToLA72FBAAAAOgGe23RCPwAHlyMvGWdVT45qdjoFr2j/\n",
       "oAbltW0yfIOY4sxffX5KLVtDywa8saJbFf0sEAd0lhBcoJkAAABHAZ7dakI/AAeZGxuxMVbuA/va\n",
       "phZ9K4obQkYkf8kEKhekarYhtxW9RZjFp6Gm9cgxEHtSZVBCe4rhPXPQ1W3C4td1k+36BUAAAABd\n",
       "QZrfSahBaJlMCEf//eEAAtVprD3oAuPHHbmPAF/Yz0gYRj6Z2kJvTOapd0SUOynz3BR9fAHj78dc\n",
       "PY0RgtUHvK9mHKESs5OjS5Np4JjKyi3jeleD9sRpKWqb2rVXAAAF9m1vb3YAAABsbXZoZAAAAAAA\n",
       "AAAAAAAAAAAAA+gAAAZAAAEAAAEAAAAAAAAAAAAAAAABAAAAAAAAAAAAAAAAAAAAAQAAAAAAAAAA\n",
       "AAAAAAAAQAAAAAAAAAAAAAAAAAAAAAAAAAAAAAAAAAAAAAAAAAIAAAUgdHJhawAAAFx0a2hkAAAA\n",
       "AwAAAAAAAAAAAAAAAQAAAAAAAAZAAAAAAAAAAAAAAAAAAAAAAAABAAAAAAAAAAAAAAAAAAAAAQAA\n",
       "AAAAAAAAAAAAAAAAQAAAAAGwAAABIAAAAAAAJGVkdHMAAAAcZWxzdAAAAAAAAAABAAAGQAAAAgAA\n",
       "AQAAAAAEmG1kaWEAAAAgbWRoZAAAAAAAAAAAAAAAAAAAKAAAAEAAVcQAAAAAAC1oZGxyAAAAAAAA\n",
       "AAB2aWRlAAAAAAAAAAAAAAAAVmlkZW9IYW5kbGVyAAAABENtaW5mAAAAFHZtaGQAAAABAAAAAAAA\n",
       "AAAAAAAkZGluZgAAABxkcmVmAAAAAAAAAAEAAAAMdXJsIAAAAAEAAAQDc3RibAAAALNzdHNkAAAA\n",
       "AAAAAAEAAACjYXZjMQAAAAAAAAABAAAAAAAAAAAAAAAAAAAAAAGwASAASAAAAEgAAAAAAAAAAQAA\n",
       "AAAAAAAAAAAAAAAAAAAAAAAAAAAAAAAAAAAAAAAAABj//wAAADFhdmNDAWQAFf/hABhnZAAVrNlB\n",
       "sJaEAAADAAQAAAMBQDxYtlgBAAZo6+PLIsAAAAAcdXVpZGtoQPJfJE/FujmlG88DI/MAAAAAAAAA\n",
       "GHN0dHMAAAAAAAAAAQAAAEAAAAEAAAAAFHN0c3MAAAAAAAAAAQAAAAEAAAHYY3R0cwAAAAAAAAA5\n",
       "AAAAAQAAAgAAAAABAAADAAAAAAEAAAEAAAAAAQAABAAAAAACAAABAAAAAAEAAAIAAAAAAQAAAwAA\n",
       "AAABAAABAAAAAAEAAAUAAAAAAQAAAgAAAAABAAAAAAAAAAEAAAEAAAAAAQAAAgAAAAABAAAFAAAA\n",
       "AAEAAAIAAAAAAQAAAAAAAAABAAABAAAAAAEAAAMAAAAAAQAAAQAAAAABAAADAAAAAAEAAAEAAAAA\n",
       "AQAABQAAAAABAAACAAAAAAEAAAAAAAAAAQAAAQAAAAABAAAFAAAAAAEAAAIAAAAAAQAAAAAAAAAB\n",
       "AAABAAAAAAEAAAIAAAAAAQAABAAAAAACAAABAAAAAAEAAAQAAAAAAgAAAQAAAAABAAADAAAAAAEA\n",
       "AAEAAAAAAQAAAwAAAAABAAABAAAAAAEAAAQAAAAAAgAAAQAAAAABAAAEAAAAAAIAAAEAAAAAAwAA\n",
       "AgAAAAABAAADAAAAAAEAAAEAAAAAAQAAAwAAAAABAAABAAAAAAEAAAIAAAAAAQAAAwAAAAABAAAB\n",
       "AAAAAAEAAAMAAAAAAQAAAQAAAAABAAAFAAAAAAEAAAIAAAAAAQAAAAAAAAABAAABAAAAAAEAAAIA\n",
       "AAAAHHN0c2MAAAAAAAAAAQAAAAEAAABAAAAAAQAAARRzdHN6AAAAAAAAAAAAAABAAAAD6AAAAGsA\n",
       "AABJAAAAPgAAABwAAAAbAAAAIwAAAHIAAAAfAAAANgAAAB8AAAAiAAAAHwAAAEAAAABtAAAAVwAA\n",
       "AEYAAABHAAAAdAAAADYAAABeAAAAOQAAAFgAAABMAAAAQwAAAD4AAACGAAAAUgAAAEEAAAAuAAAA\n",
       "XQAAAGAAAAA+AAAAWQAAALIAAABqAAAAVAAAALkAAABKAAAAggAAAE8AAAB/AAAAQgAAAEoAAABn\n",
       "AAAASQAAAEMAAABMAAAAbwAAAFgAAABnAAAASAAAAGMAAABOAAAASgAAAHoAAABOAAAAlgAAAGUA\n",
       "AABWAAAATgAAAD4AAABLAAAAYQAAABRzdGNvAAAAAAAAAAEAAAAsAAAAYnVkdGEAAABabWV0YQAA\n",
       "AAAAAAAhaGRscgAAAAAAAAAAbWRpcmFwcGwAAAAAAAAAAAAAAAAtaWxzdAAAACWpdG9vAAAAHWRh\n",
       "dGEAAAABAAAAAExhdmY1Ny44My4xMDA=\n",
       "\">\n",
       "  Your browser does not support the video tag.\n",
       "</video>"
      ],
      "text/plain": [
       "<IPython.core.display.HTML object>"
      ]
     },
     "execution_count": 6,
     "metadata": {},
     "output_type": "execute_result"
    }
   ],
   "source": [
    "env = make_pong()\n",
    "fig = plt.figure()\n",
    "plt.axis('off')\n",
    "ims = []\n",
    "obs = env.reset()\n",
    "for _ in range(64):\n",
    "    action = env.action_space.sample()\n",
    "    obs, _, _, _ = env.step(action)\n",
    "    obs = obs.numpy().transpose(1, 2, 0)\n",
    "    ims.append([plt.imshow(obs, animated=True)])\n",
    "anim = anime.ArtistAnimation(fig, ims, interval=25, blit=True)\n",
    "plt.close()\n",
    "HTML(anim.to_html5_video())"
   ]
  },
  {
   "cell_type": "markdown",
   "metadata": {},
   "source": [
    "## VAE (V) model"
   ]
  },
  {
   "cell_type": "markdown",
   "metadata": {},
   "source": [
    "Our $V$ model will have the same architecture as from the paper."
   ]
  },
  {
   "cell_type": "code",
   "execution_count": 7,
   "metadata": {},
   "outputs": [],
   "source": [
    "class Encoder(nn.Module):\n",
    "    def __init__(self, latent_dim):\n",
    "        super(Encoder, self).__init__()\n",
    "        self.conv1 = nn.Conv2d(3, 32, 4, stride=2)\n",
    "        self.conv2 = nn.Conv2d(32, 64, 4, stride=2)\n",
    "        self.conv3 = nn.Conv2d(64, 128, 4, stride=2)\n",
    "        self.conv4 = nn.Conv2d(128, 256, 4, stride=2)\n",
    "        self.fc_mean = nn.Linear(1024, latent_dim)\n",
    "        self.fc_logvar = nn.Linear(1024, latent_dim)\n",
    "        \n",
    "    def forward(self, x):\n",
    "        x = F.relu(self.conv1(x), inplace=True)\n",
    "        x = F.relu(self.conv2(x), inplace=True)\n",
    "        x = F.relu(self.conv3(x), inplace=True)\n",
    "        x = F.relu(self.conv4(x), inplace=True)\n",
    "        x = x.view(x.size(0), -1)\n",
    "        return self.fc_mean(x), self.fc_logvar(x)"
   ]
  },
  {
   "cell_type": "code",
   "execution_count": 8,
   "metadata": {},
   "outputs": [],
   "source": [
    "class Decoder(nn.Module):\n",
    "    def __init__(self, latent_dim):\n",
    "        super(Decoder, self).__init__()\n",
    "        self.fc1 = nn.Linear(latent_dim, 1024)\n",
    "        self.deconv2 = nn.ConvTranspose2d(1024, 128, 5, stride=2)\n",
    "        self.deconv3 = nn.ConvTranspose2d(128, 64, 5, stride=2)\n",
    "        self.deconv4 = nn.ConvTranspose2d(64, 32, 6, stride=2)\n",
    "        self.deconv5 = nn.ConvTranspose2d(32, 3, 5, stride=2)\n",
    "        \n",
    "    def forward(self, x):\n",
    "        x = F.relu(self.fc1(x), inplace=True)\n",
    "        x = x.view(x.size(0), 1024, 1, 1)\n",
    "        x = F.relu(self.deconv2(x), inplace=True)\n",
    "        x = F.relu(self.deconv3(x), inplace=True)\n",
    "        x = F.relu(self.deconv4(x), inplace=True)\n",
    "        x = torch.sigmoid(self.deconv5(x))"
   ]
  },
  {
   "cell_type": "code",
   "execution_count": 9,
   "metadata": {},
   "outputs": [],
   "source": [
    "class VAE(nn.Module):\n",
    "    def __init__(self, latent_dim):\n",
    "        super(VAE, self).__init__()\n",
    "        self.encoder = Encoder(latent_dim)\n",
    "        self.decoder = Decoder(latent_dim)\n",
    "\n",
    "    def encode(self, x):\n",
    "        mu, logvar = self.encoder(x)\n",
    "        if self.training:\n",
    "            return self.reparameterize(mu, logvar)\n",
    "        return mu\n",
    "        \n",
    "    def reparameterize(self, mu, logvar):\n",
    "        sigma = torch.exp(0.5 * logvar)\n",
    "        eps = torch.randn_like(mu)\n",
    "        return eps.mul(sigma).add_(mu)\n",
    "    \n",
    "    def decode(self, z):\n",
    "        return self.decoder(z)\n",
    "        \n",
    "    def forward(self, x):\n",
    "        mu, logvar = self.encoder(x)\n",
    "        z = self.reparameterize(mu, logvar)\n",
    "        x_ = self.decoder(z)\n",
    "        return mu, logvar, z, x_"
   ]
  },
  {
   "cell_type": "markdown",
   "metadata": {},
   "source": [
    "## Memory (M) model"
   ]
  },
  {
   "cell_type": "markdown",
   "metadata": {},
   "source": [
    "This is the exciting part! Our agent's ability to predict the future based on its action is, in fact, the essence of a world model."
   ]
  },
  {
   "cell_type": "code",
   "execution_count": 10,
   "metadata": {},
   "outputs": [],
   "source": [
    "class MixtureDensityLSTM(nn.Module):\n",
    "    def __init__(self, latent_dim, hid_dim, act_dim, num_mixtures=5):\n",
    "        super(MixtureDensityLSTM, self).__init__()\n",
    "        self.latent_dim = latent_dim\n",
    "        self.hid_dim = hid_dim\n",
    "        self.act_dim = act_dim\n",
    "        self.lstm = nn.LSTM(latent_dim + act_dim, hid_dim)\n",
    "        # mixture density network\n",
    "        self.num_mixtures = num_mixtures\n",
    "        self.fc_pi = nn.Linear(hid_dim, num_mixtures * self.latent_dim)\n",
    "        self.fc_mean = nn.Linear(hid_dim, num_mixtures * self.latent_dim)\n",
    "        self.fc_logvar = nn.Linear(hid_dim, num_mixtures * self.latent_dim)\n",
    "\n",
    "    def init_state(self):\n",
    "        return (torch.zeros(1, 1, self.hid_dim), torch.zeros(1, 1, self.hid_dim))\n",
    "\n",
    "    def mixture_coef(self, x):\n",
    "        pi = F.softmax(self.fc_pi(x).view(x.size(0), -1, self.num_mixtures, self.latent_dim), dim=2)\n",
    "        mean = self.fc_mean(x).view(x.size(0), -1, self.num_mixtures, self.latent_dim)\n",
    "        logvar = self.fc_logvar(x).view(x.size(0), -1, self.num_mixtures, self.latent_dim)\n",
    "        return pi, mean, logvar\n",
    "\n",
    "    def sample(self, pi, mean, logvar):\n",
    "        stdev = torch.exp(0.5 * logvar)\n",
    "        return torch.sum(pi * torch.normal(mean, stdev), dim=2)\n",
    "\n",
    "    def forward(self, z, a, h, c):\n",
    "        z = torch.cat([z, a], dim=-1)\n",
    "        z, (h, c) = self.lstm(z, (h, c))\n",
    "        return self.mixture_coef(z), (h, c)"
   ]
  },
  {
   "cell_type": "markdown",
   "metadata": {},
   "source": [
    "## Controller (C) model"
   ]
  },
  {
   "cell_type": "markdown",
   "metadata": {},
   "source": [
    "Once again, Ha and Schmidhuber used CMA-ES to evolve the controller, but that's not a requirement. Since our problem environment is simple enough, we'll use the single threaded **A2C** (Advantage Actor-Critic) algorithm to train our controller.\n",
    "\n",
    "Now that we decided to use an Actor-Critic agent, we may ask a question: since different components of the agent is trained asynchronously (i.e., first $V$ and/or $M$, then the $C$), when should the critic network be trained? When training the world model, or the controller? We'll try that later."
   ]
  },
  {
   "cell_type": "code",
   "execution_count": 11,
   "metadata": {},
   "outputs": [],
   "source": [
    "class ActorCritic(nn.Module):\n",
    "    def __init__(self, state_dim, act_dim):\n",
    "        super(ActorCritic, self).__init__()\n",
    "        self.actor = nn.Linear(state_dim, act_dim)\n",
    "        self.critic = nn.Linear(state_dim, 1)\n",
    "    \n",
    "    def act(self, x):\n",
    "        pi = F.softmax(self.actor(x), dim=-1)\n",
    "        dist = distributions.OneHotCategorical(pi)\n",
    "        return dist.sample()\n",
    "    \n",
    "    def value(self, x):\n",
    "        return self.critic(x).detach()\n",
    "    \n",
    "    def forward(self, x):\n",
    "        pi = F.softmax(self.actor(x), dim=-1)\n",
    "        dist = distributions.OneHotCategorical(pi)\n",
    "        action = dist.sample()\n",
    "        logpi = dist.log_prob(action)\n",
    "        entropy = dist.entropy()\n",
    "        return action, logpi, entropy, self.value(x)"
   ]
  },
  {
   "cell_type": "markdown",
   "metadata": {},
   "source": [
    "## Put together"
   ]
  },
  {
   "cell_type": "markdown",
   "metadata": {},
   "source": [
    "Now, we can put together an agent! Pay special attention to how the agent makes an action."
   ]
  },
  {
   "cell_type": "code",
   "execution_count": 12,
   "metadata": {},
   "outputs": [],
   "source": [
    "class Agent:\n",
    "    def __init__(self, vision, memory, controller, device=None):\n",
    "        if device is None:\n",
    "            device = torch.device('cuda' if torch.cuda.is_available() else 'cpu')\n",
    "        self.device = device\n",
    "        self.vision = vision.to(self.device)\n",
    "        self.memory = memory.to(self.device)\n",
    "        self.controller = controller.to(self.device)\n",
    "        h, c = self.memory.init_state()\n",
    "        self._h = h.to(self.device)\n",
    "        self._c = c.to(self.device)\n",
    "        \n",
    "    def act(self, x):\n",
    "        x = x.unsqueeze(0).to(self.device)  # add batch dimension\n",
    "        z = self.vision.encode(x).unsqueeze(0)  # add time dimension\n",
    "        s = torch.cat([z, self._h, self._c], dim=-1)\n",
    "        a = self.controller.act(s)\n",
    "        _, (h, c) = self.memory(z, a, self._h, self._c)\n",
    "        self._h = h.detach()\n",
    "        self._c = c.detach()\n",
    "        # return a scaler action index\n",
    "        return a.squeeze().argmax().cpu().item()"
   ]
  },
  {
   "cell_type": "code",
   "execution_count": 13,
   "metadata": {},
   "outputs": [
    {
     "name": "stdout",
     "output_type": "stream",
     "text": [
      "device = cuda\n"
     ]
    }
   ],
   "source": [
    "vision = VAE(16)\n",
    "memory = MixtureDensityLSTM(16, 32, env.action_space.n)\n",
    "controller = ActorCritic(80, env.action_space.n)\n",
    "\n",
    "agent = Agent(vision, memory, controller)\n",
    "print(f\"device = {agent.device}\")"
   ]
  },
  {
   "cell_type": "markdown",
   "metadata": {},
   "source": [
    "Going back to the environment, let's see if our newly born agent can interact with the game."
   ]
  },
  {
   "cell_type": "code",
   "execution_count": 16,
   "metadata": {},
   "outputs": [
    {
     "data": {
      "text/html": [
       "<video width=\"432\" height=\"288\" controls autoplay loop>\n",
       "  <source type=\"video/mp4\" src=\"data:video/mp4;base64,AAAAHGZ0eXBNNFYgAAACAGlzb21pc28yYXZjMQAAAAhmcmVlAAAWXm1kYXQAAAKuBgX//6rcRem9\n",
       "5tlIt5Ys2CDZI+7veDI2NCAtIGNvcmUgMTUyIHIyODU0IGU5YTU5MDMgLSBILjI2NC9NUEVHLTQg\n",
       "QVZDIGNvZGVjIC0gQ29weWxlZnQgMjAwMy0yMDE3IC0gaHR0cDovL3d3dy52aWRlb2xhbi5vcmcv\n",
       "eDI2NC5odG1sIC0gb3B0aW9uczogY2FiYWM9MSByZWY9MyBkZWJsb2NrPTE6MDowIGFuYWx5c2U9\n",
       "MHgzOjB4MTEzIG1lPWhleCBzdWJtZT03IHBzeT0xIHBzeV9yZD0xLjAwOjAuMDAgbWl4ZWRfcmVm\n",
       "PTEgbWVfcmFuZ2U9MTYgY2hyb21hX21lPTEgdHJlbGxpcz0xIDh4OGRjdD0xIGNxbT0wIGRlYWR6\n",
       "b25lPTIxLDExIGZhc3RfcHNraXA9MSBjaHJvbWFfcXBfb2Zmc2V0PS0yIHRocmVhZHM9OSBsb29r\n",
       "YWhlYWRfdGhyZWFkcz0xIHNsaWNlZF90aHJlYWRzPTAgbnI9MCBkZWNpbWF0ZT0xIGludGVybGFj\n",
       "ZWQ9MCBibHVyYXlfY29tcGF0PTAgY29uc3RyYWluZWRfaW50cmE9MCBiZnJhbWVzPTMgYl9weXJh\n",
       "bWlkPTIgYl9hZGFwdD0xIGJfYmlhcz0wIGRpcmVjdD0xIHdlaWdodGI9MSBvcGVuX2dvcD0wIHdl\n",
       "aWdodHA9MiBrZXlpbnQ9MjUwIGtleWludF9taW49MjUgc2NlbmVjdXQ9NDAgaW50cmFfcmVmcmVz\n",
       "aD0wIHJjX2xvb2thaGVhZD00MCByYz1jcmYgbWJ0cmVlPTEgY3JmPTIzLjAgcWNvbXA9MC42MCBx\n",
       "cG1pbj0wIHFwbWF4PTY5IHFwc3RlcD00IGlwX3JhdGlvPTEuNDAgYXE9MToxLjAwAIAAAAFRZYiE\n",
       "ADP//vbsvgU1/Z/QlxEsxdpKcD4qpICAdzTAAAADAAB4HShe6DhKq9DAABt2OHH/CRpgAE6HSswZ\n",
       "jQN7RtBN/aGqOZnivUJXdAF+0sqyWPr3bCY0eAPu1FZlZv6MQifnVtc4dGigFTGhxajWkUT8zVsZ\n",
       "I+kyfCBflB7DoA5q9nShFnyUKJqg9pkEKWVVQ28XZ/1kPXllbq6fWr28tUYAPNktE1zA2qvTPIyr\n",
       "2s0mLtLbhA4PTdkIRE0e+kdiCZFTZsIaON6tG9hvTtfhzdqfQdW4bPVqwd8K+MbdsWV3/z0K1f/C\n",
       "lFnDQiUUvvRGHA+U5Mkpr1KxDDoD9etL8LBY1xB4SfpB7UfsjJX1iNdJpoHxNWjeKpfadZq66c1T\n",
       "+W38PoAIQUiT8PhPgXC3pGA76tI+syIcGKCKm7CFb2lp0R9FaJ4+LnkAAA4Zn4WY8QAAAA1BmiRs\n",
       "Qz/+nhAAAAdMAAAAI0GeQniE/wAJ+9nAKXZ98uknnZqRUmBZuXpzQ/UUWc0yxzFhAAAAEAGeYXRC\n",
       "PwAL9cXcJHFrU0AAAAAZAZ5jakI/AAvxBpUsqagT9/TQ0gCCurbC4QAAABNBmmhJqEFomUwIZ//+\n",
       "nhAAAAdNAAAADUGehkURLCf/AAADAfMAAAAfAZ6ldEI/AAuDypdjETCLGUMQBBWiTPzs/nwwoUBC\n",
       "4QAAAB8BnqdqQj8AC4PKl1Rj7luO6qAGxWDYjxJGGf9JAQuAAAAAUkGarEmoQWyZTAhf//6MsABK\n",
       "CB/EAwmzZJAtGJlt6UKkx6Nl1PKlIbVT64+80k2EVenAtUnOSqBWHPBGVA4g3wiw3sTW9WpJohvt\n",
       "m4E2NW0TQcAAAAAjQZ7KRRUsJ/8AJrt+IIPwpQUABC3aF8p3W3zYeSft6nUWpC8AAAAfAZ7pdEI/\n",
       "ABdQ1ivtrIrsyR6JSXLYAfV03DloKQshcAAAABMBnutqQj8AF+3bQAVyeLE8R3oeAAAATEGa7Umo\n",
       "QWyZTAhn//6eEACSkYHAKSnnw0bXNeZ0XhKdak3iDcpLbu2vgVfRA+czAcEjv3L5H4AbRrrS6D7M\n",
       "syjRdugr/63B79aaRs0AAACFQZsQSeEKUmUwIX/+jLAAlPxOTnZ4dK/EYmZ9HsPYe+9VABtvptwz\n",
       "Jdy7TUqKwLSgfk8ugy7b515ILH3HQCTjg5aeEjXJX6g2t7M1x2I3L0qq+0JoghhXN8ZpEymV9L3R\n",
       "kxl7j4gAau5kTXUyrT1DFx9rM8ExTOmq4eaBMnrCwcObvJcQgQAAAFhBny5FNEwn/wAmvf479gAF\n",
       "Wf9pZ5EJpWMVy2DHCABoE+wOrU4AnfH6LcaLpwxA4MGNjdhYrdHuACP1YZYH6+PhOt9JAPEFhe2C\n",
       "w7sUbXZdGGtTHC/EIpGBAAAAPAGfT2pCPwAvxNaAYxFgq0F/5UEL+O5sZYdjxV14qBb4ChNMIAiX\n",
       "bXBpXoEP9hs3nZkE7mULpUfWssohwAAAAGFBm1JJqEFomUwU8L/+jLAAlA/2wMn/21RgSbZPWKBg\n",
       "WuT4azehj15MqPWJxfbiGSkmv0S0FxIuNp1r+zLPRAB/B3CR/lF3c78bQFKl3BnDV+os0VMc3437\n",
       "7HQR8FS6mkrAAAAAOgGfcWpCPwAv0weiBpPZV1U2rS/oR3v4IWNNKwhLsPVZJONS3JADdxiOFvaU\n",
       "C+KdWP9GsAVhmS1ga+EAAABQQZt0SeEKUmUwUsL//oywAJQcAkXYprmZ2fsWd8nYMpuFF3a4K1ZB\n",
       "hr2ezTXZ5RFkmSUpz9Gf04kJFigmVUAolku/j2fPZWmmL9f0tSVwyk4AAAA7AZ+TakI/AC/E1pZ0\n",
       "mr1yC5i3ZqY2BemzWe2AHJUOTj47lC9CFffMEznuIaoBj1lcjg7a9+dR8+DvdNwAAABqQZuWSeEO\n",
       "iZTBRML//oywASg4ToHI8ooIASwfkHh9ZOklQNSb7cIJW4SBsIB997UD4XblsSFzeFceQE2f8XTa\n",
       "7QMgkSHlgJoxdhcIaGd3YeTDknbNov+5K2bQ2gGWdoQi3iyX/mwHuPituQAAADsBn7VqQj8AX6YP\n",
       "OytSEkPS7Z5wqQ9IARguwU8EefSydmc//BQiRK1TD7bPUMBDK577I63mRt1yEwtk8AAAAGtBm7hJ\n",
       "4Q8mUwU8L//+jLAEp/yUQAqytF9f/t+d4llVTCK7kC8Mwq39+uWysSjop5nKyjWFoNGDam/9H+e6\n",
       "m5P3d16NyNeV/l5nN48eqIWGdC3F6iMYbXkMi8fDI2Yu2o4tUMsUss2NYUteQQAAAGQBn9dqQj8B\n",
       "dMyLQACUBJpZcf/QUf7uPC7U91/Qkja/VDwLreHul0nFmJ3ire2N3jEe0wW8nlJhHYl5InKDvp2I\n",
       "l5j9KeEb7Krro6P3/9iY4fCTnt6Z9OFm7YimdBZb/yKecm0hAAAAXEGb2UnhDyZTAhn//p4QBHWD\n",
       "VifxACsA9QsZOE5FiwsH3uoKvOb+j535yuAUFZCPbT4VypVNvX0mfYJJttr46TxrOkWf2d8VyKQn\n",
       "ll8T3oZYOROHzBCVZH2karSMAAAASkGb/UnhDyZTAhf//oywBIEcDZj+8JlpVG8b/0z2wGAFnTlg\n",
       "7pMe/k+l9yF8weSOxv+T244UpNDOn3qvhLj4QW5Agq/fKsIxzL+hAAAAVEGeG0URPCf/Amn5m477\n",
       "IAVnNTXGtuCelztPshpHoV2C1AHqXXtPwG8YRlnyxJTlZNZNBK3WgCF4+SGVCMI9mrhdqisp79UM\n",
       "JOqxK8wBn8apov0v8wAAADUBnjp0Qj8C3vKgK5WjadGau68PE2KhNSRHHJpopwza4AiT/Hh6+KI+\n",
       "YRFV5tyU//o9u5xI4QAAACEBnjxqQj8C3vKhdQvr0BUsWXtMAAceGo7gNSqYh7K/zmkAAABBQZo+\n",
       "SahBaJlMCGf//p4QBHatjj1pIANX5p4TKlEQ9Lw0aT6Bg0IZtbvyVSwo85U3OrgvigAgw+ZdJnS7\n",
       "nB7fVfgAAABWQZpBSeEKUmUwIZ/+nhAABasq1wA4txQPM2dd1N/ZWACr9G6TdnXQ+ngckgqyc5vp\n",
       "cFRATvSAINdhFEuVS4FL7ksYX0pnSpVbEWWakNawHZ8kRXlHjWgAAAAzQZ5/RTRMJ/8AAYh47IMR\n",
       "U44YUFraa1xTT6qABGRzijOCGegqNmkuLBq8OkaOLO0c7CxZAAAARQGegGpCPwAB5op2Ax5YToLA\n",
       "i648AODAuBjQbZqNJJYFh7BImL5L7e2asGtkUEmFQGkV8vl4mCPEo5p+SeoLKv/Tcs+ngAAAAGRB\n",
       "moRJqEFomUwIX//+jLAAFm3x8s/YPaACMDGVO9nFRa1+AFZXjA+d375gDKM+BvL7358Mz6CfHi5Y\n",
       "1dtjxUlLnENcCfRlBHz+0fPioRDZIpP5xSQjJaRczlcM9iH7bKhFAIBBAAAAR0GeokURLCf/AAX5\n",
       "478MQotk4660BFAFCcDSMXC+pIdNXRqbi5KlfuC82dI/xT5vhEpX44m7OaqnDglv1bn+tWFMAwzX\n",
       "Ufw+AAAANQGew2pCPwAHFiS7JWTwzJxK8AFcrYfAB9zXtb0NQfX7LP2g29CrsrScCqEbbVf7AwJi\n",
       "wMCFAAAAYUGaxkmoQWyZTBRML//+jLAFD7y/AH0nY+UULNZGF4auvhpXu31R0lY9H0R2C2JFchce\n",
       "7sBP2d4/Q7YvXPzjJQoXd0yCEA1Sf4IuO0PQcnJ4B14V8uTI4JNVwJoc/rUZmnEAAAA1AZ7lakI/\n",
       "AZyZAid0urJ5JBAX64IAhJWRoEk4Z+S4iVkc8OvvY5LkEgMrMDbtSgY7ckYOW1sAAABqQZroSeEK\n",
       "UmUwUsM//p4QBPaHy3UAg0YD7RMBWIGwdYqAUl6TNObniHK3/12c1NreegZrxfC1JNjSQBml71L7\n",
       "Bpl+rHmlovoEGdxhnQHp5pWzBSZVrQFHmkRhf8KrDcBKDPSt5FHBt9iWbwAAAD0BnwdqQj8BnCxn\n",
       "AJDIlJB6FYT8mAOUErns/ujrinLU3ExQF9gk5Kv+frIbt2976cEgHs4J9Wv9J8fh3heAAAAAnUGb\n",
       "C0nhDomUwIX//oywBKfmt2/QVYExIQDkCiqLGSIxyi8DJS2MOzYvWKKPVcTKQGW9y3PSqf/cQLUu\n",
       "mVFpMhXyGzxhBnRxBLP3mqVCbJ6u5xmfj4Abqdi9eLyLoBoysBkCxMP0e9RkuzWaCQrtcZgcdYKN\n",
       "awGqQJ4r58pif7hhYxrwlfs2M8H8/5jTyJDDyufhoBZaW6gO7ZCyRNwAAABNQZ8pRRU8J/8BPYja\n",
       "N5AB8Z5n5bEdMjk4rwnOHhjOn/6rYi8McnCdDaQFFzyG+tz0tcyuf/FwXVIlXt7UscodL22ZbAW2\n",
       "qedcbRlwg4EAAAA8AZ9KakI/AXRWfYwrtDnh0LwAFb6k3+4Ku9av9wCdyyv+uW8CFYdUYZayZga4\n",
       "/ljtnq4Z0lwSwxQunAWUAAAAV0GbTUmoQWiZTBTwv/6MsAZfnmwAl+SjUmLRKL1awi2RRbeB1dWc\n",
       "H1vmvCaUzLzXmxQUeofjocub1oRV/snkGlXK6fr4HpzRKvrUxf7pzAJEKh0XEcKDfgAAAEMBn2xq\n",
       "Qj8B5on6TTC4qhrv4ArfVBleVmeI5hYtXG62kazyAhITBcF1Rw2qicwN6r1oy89Co7lPlvFuitgw\n",
       "5Zw0UgdNAAAAbkGbbknhClJlMCGf/p4QBkS557ABtAAOlEwFYgWx0/L0sXJ/IOmZK40EqFDyrs2c\n",
       "VQQ9Saef1PMqsZYPKtvPv1nNjaSrgkCRU9i2/QPvlhyqGsni/VIVR1qpzCsTlFpt78ougJDzYVtG\n",
       "o3YBTRJxAAAATkGbkUnhDomUwIX//oywBS700rBQ6ZgAaKaqL/Pm8QRoIrrLseJyzZ1LEp5leOrO\n",
       "std/FrEeWpYu4IvSUlAXVnT1hp7bclctZ4cYBPMCtwAAAEpBn69FETwn/wLPe74+AANAhG3p4Gx7\n",
       "J3WJb/tK4BBMcNJwX8Fw0ECHFQsQloEVwrXvXMaqZso/76KgOU3SXIG7PoDyS2tyTLwDFgAAAD8B\n",
       "n9BqQj8DTuxaVJTD7kGIkgBIgTzs67RLdCDz8J8hpP/Wwui/045nba9wABWrTxKZwzwe2maRbEyz\n",
       "Grf8A2YAAACDQZvTSahBaJlMFPC//oywBKfmt2/Y//tGznTXzqKH1Im8b9PxwBS/D6wycEoWaiFg\n",
       "9kWABSBHhcWgzCtSOMZasn+cmqr2Wz0Krxuk9Jdc9SMn0YQy+gurt50LyhdnGoDN+eb4TivGIvIj\n",
       "w05i1AvNjUuPfSXu3NYafCxZasbu/ddSRs0AAABQAZ/yakI/A07sVcT0mAf8oK/3ZRknl+4NzbqF\n",
       "6wKNnak4CXTLLeLdrtTIE8LA/q4VqaLRi6jnwUvxl+DIvs/SMUN8uNlLaYQx0sjFyngA+YAAAAB9\n",
       "QZv1SeEKUmUwUsL//oywBKEbzjubqAEXTWjfaaC5PGGChIJWoQ992m1fGu/3DbYhBFuuKkUfyNBP\n",
       "TTpdbNrhu0DPNeRCOgbx/M8dYqhdeJ3ocxxHUinuOcTo2PIye53nUgZZW5FD7V1f0v3zzPdfzhuY\n",
       "72dBSNY0IRD6JSQAAABRAZ4UakI/A07sVZ6jaeeSzMCkIwBCqFzDSnxeqgVZKJBbUR4Lj86H0P+1\n",
       "4FAcsP2CyaLD1lqQ93Z6NaRsVy9r1j4oUIht+IkkAHaEMFKchBBxAAAAUkGaFknhDomUwIX//oyw\n",
       "BIaRQWvnIgBYFqeAEolhQG5B/KD/qFGDz34eiJXHKC264KBlMVPmqEqsJTvdcpvLv9I7BPky//4c\n",
       "sjRZ6foG3ZSgz4AAAABiQZo4SeEPJlMFFTwv//6MsASAtwKQAkl796VDk+l5gvcfoAocBt4iT1X/\n",
       "c0k8C5lLE6icmc0y/ooiVEEOk7gInyQZY4GgCzaiGHljDIN/EizfpaaIstI6uBF/mcwsIBp+kcsA\n",
       "AABAAZ5XakI/A07seai+pS61zkAAhblKK29peU0BnWqd5xYYlM7NGvlxddbTPUBPACa9W2tHSolu\n",
       "vpZznEqgNLsUkQAAAFJBmlpJ4Q8mUwU8L//+jLAQDn9WaHb4Kg7b7m2RQYfBdWzxP1gDW0+AcbN+\n",
       "PYV+07xA/Qi5Q4AIfyIiltfg9NfOJsfkZOrvzIqfjNjaobHQFjI0AAAATQGeeWpCPwNO7Hu0CaaI\n",
       "h4oAay0NaVEckT40gFQg2YEvMi0kq9XPc0PTXEb1nZ80/d3OkxF6ANtvbkvMcRpy4dXgwHc7U/zf\n",
       "n4VF+kvBAAAAQ0Gae0nhDyZTAhf//oywBIEcD1lXNXIVz4LDbPQzPe53UEmmuOtFv5we//snABGW\n",
       "dXTGXzqFJJSIErGZYS6pvZFtWXcAAABRQZqdSeEPJlMFETwr//44QBFD9m65u+IFFMtNFIeDvy3V\n",
       "/2SVr8c6i4cyH/Zyb/ah+kP2iHX+9FRItWs3KjuSiMteB9Ic3bNiDqHGiDbZuARxAAAAOwGevGpC\n",
       "PwNO7FWc/qavKQa4uWxgE1spOOH2lwGO+/3tC67DZHxvV2SGBkz8hhg6XCgSfAjHWuzUn+znAAAA\n",
       "PkGav0nhDyZTBTwj//3hAABbPRSEcUi7MtkQBYVuZgnc5mykm/Mkd+au9h+gL8zSMD54jrTjo7oB\n",
       "iaKMS8SAAAAANAGe3mpCPwNO7FKG9v5oVst4QjAIJzjbsDj9ZgSOtGRCafXFBn7HRxAigsjZeSH5\n",
       "9fZ0rT8AAAYGbW9vdgAAAGxtdmhkAAAAAAAAAAAAAAAAAAAD6AAABkAAAQAAAQAAAAAAAAAAAAAA\n",
       "AAEAAAAAAAAAAAAAAAAAAAABAAAAAAAAAAAAAAAAAABAAAAAAAAAAAAAAAAAAAAAAAAAAAAAAAAA\n",
       "AAAAAAAAAgAABTB0cmFrAAAAXHRraGQAAAADAAAAAAAAAAAAAAABAAAAAAAABkAAAAAAAAAAAAAA\n",
       "AAAAAAAAAAEAAAAAAAAAAAAAAAAAAAABAAAAAAAAAAAAAAAAAABAAAAAAbAAAAEgAAAAAAAkZWR0\n",
       "cwAAABxlbHN0AAAAAAAAAAEAAAZAAAACAAABAAAAAASobWRpYQAAACBtZGhkAAAAAAAAAAAAAAAA\n",
       "AAAoAAAAQABVxAAAAAAALWhkbHIAAAAAAAAAAHZpZGUAAAAAAAAAAAAAAABWaWRlb0hhbmRsZXIA\n",
       "AAAEU21pbmYAAAAUdm1oZAAAAAEAAAAAAAAAAAAAACRkaW5mAAAAHGRyZWYAAAAAAAAAAQAAAAx1\n",
       "cmwgAAAAAQAABBNzdGJsAAAAs3N0c2QAAAAAAAAAAQAAAKNhdmMxAAAAAAAAAAEAAAAAAAAAAAAA\n",
       "AAAAAAAAAbABIABIAAAASAAAAAAAAAABAAAAAAAAAAAAAAAAAAAAAAAAAAAAAAAAAAAAAAAAAAAA\n",
       "GP//AAAAMWF2Y0MBZAAV/+EAGGdkABWs2UGwloQAAAMABAAAAwFAPFi2WAEABmjr48siwAAAABx1\n",
       "dWlka2hA8l8kT8W6OaUbzwMj8wAAAAAAAAAYc3R0cwAAAAAAAAABAAAAQAAAAQAAAAAUc3RzcwAA\n",
       "AAAAAAABAAAAAQAAAehjdHRzAAAAAAAAADsAAAABAAACAAAAAAEAAAUAAAAAAQAAAgAAAAABAAAA\n",
       "AAAAAAEAAAEAAAAAAQAABQAAAAABAAACAAAAAAEAAAAAAAAAAQAAAQAAAAABAAAFAAAAAAEAAAIA\n",
       "AAAAAQAAAAAAAAABAAABAAAAAAEAAAIAAAAAAQAABAAAAAACAAABAAAAAAEAAAMAAAAAAQAAAQAA\n",
       "AAABAAADAAAAAAEAAAEAAAAAAQAAAwAAAAABAAABAAAAAAEAAAMAAAAAAQAAAQAAAAABAAACAAAA\n",
       "AAEAAAUAAAAAAQAAAgAAAAABAAAAAAAAAAEAAAEAAAAAAQAAAgAAAAABAAAEAAAAAAIAAAEAAAAA\n",
       "AQAABAAAAAACAAABAAAAAAEAAAMAAAAAAQAAAQAAAAABAAADAAAAAAEAAAEAAAAAAQAABAAAAAAC\n",
       "AAABAAAAAAEAAAMAAAAAAQAAAQAAAAABAAACAAAAAAEAAAQAAAAAAgAAAQAAAAABAAADAAAAAAEA\n",
       "AAEAAAAAAQAAAwAAAAABAAABAAAAAAEAAAIAAAAAAQAAAwAAAAABAAABAAAAAAEAAAMAAAAAAQAA\n",
       "AQAAAAABAAACAAAAAAEAAAMAAAAAAQAAAQAAAAABAAADAAAAAAEAAAEAAAAAHHN0c2MAAAAAAAAA\n",
       "AQAAAAEAAABAAAAAAQAAARRzdHN6AAAAAAAAAAAAAABAAAAEBwAAABEAAAAnAAAAFAAAAB0AAAAX\n",
       "AAAAEQAAACMAAAAjAAAAVgAAACcAAAAjAAAAFwAAAFAAAACJAAAAXAAAAEAAAABlAAAAPgAAAFQA\n",
       "AAA/AAAAbgAAAD8AAABvAAAAaAAAAGAAAABOAAAAWAAAADkAAAAlAAAARQAAAFoAAAA3AAAASQAA\n",
       "AGgAAABLAAAAOQAAAGUAAAA5AAAAbgAAAEEAAAChAAAAUQAAAEAAAABbAAAARwAAAHIAAABSAAAA\n",
       "TgAAAEMAAACHAAAAVAAAAIEAAABVAAAAVgAAAGYAAABEAAAAVgAAAFEAAABHAAAAVQAAAD8AAABC\n",
       "AAAAOAAAABRzdGNvAAAAAAAAAAEAAAAsAAAAYnVkdGEAAABabWV0YQAAAAAAAAAhaGRscgAAAAAA\n",
       "AAAAbWRpcmFwcGwAAAAAAAAAAAAAAAAtaWxzdAAAACWpdG9vAAAAHWRhdGEAAAABAAAAAExhdmY1\n",
       "Ny44My4xMDA=\n",
       "\">\n",
       "  Your browser does not support the video tag.\n",
       "</video>"
      ],
      "text/plain": [
       "<IPython.core.display.HTML object>"
      ]
     },
     "execution_count": 16,
     "metadata": {},
     "output_type": "execute_result"
    }
   ],
   "source": [
    "env = make_pong()\n",
    "fig = plt.figure()\n",
    "plt.axis('off')\n",
    "ims = []\n",
    "obs = env.reset()\n",
    "for _ in range(64):\n",
    "    action = agent.act(obs)\n",
    "    obs, reward, done, _ = env.step(action)\n",
    "    frame = obs.numpy().transpose(1, 2, 0)\n",
    "    ims.append([plt.imshow(frame, animated=True)])\n",
    "anim = anime.ArtistAnimation(fig, ims, interval=25, blit=True)\n",
    "plt.close()\n",
    "HTML(anim.to_html5_video())"
   ]
  },
  {
   "cell_type": "markdown",
   "metadata": {},
   "source": [
    "Alright, we can move on to data collection then."
   ]
  },
  {
   "cell_type": "markdown",
   "metadata": {},
   "source": [
    "## Data collection"
   ]
  },
  {
   "cell_type": "markdown",
   "metadata": {},
   "source": [
    "Let's start collecting data. Since we're currently only interested in transition data ($s_t, a_t, s_{t+1}, a_{t+1}, ...$),"
   ]
  },
  {
   "cell_type": "code",
   "execution_count": 17,
   "metadata": {},
   "outputs": [],
   "source": [
    "Transition = namedtuple('Transition', ['obs', 'action'])"
   ]
  },
  {
   "cell_type": "code",
   "execution_count": null,
   "metadata": {},
   "outputs": [],
   "source": []
  }
 ],
 "metadata": {
  "kernelspec": {
   "display_name": "notebooks",
   "language": "python",
   "name": "notebooks"
  },
  "language_info": {
   "codemirror_mode": {
    "name": "ipython",
    "version": 3
   },
   "file_extension": ".py",
   "mimetype": "text/x-python",
   "name": "python",
   "nbconvert_exporter": "python",
   "pygments_lexer": "ipython3",
   "version": "3.7.3"
  }
 },
 "nbformat": 4,
 "nbformat_minor": 2
}
