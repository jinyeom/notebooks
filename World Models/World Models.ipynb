{
 "cells": [
  {
   "cell_type": "markdown",
   "metadata": {},
   "source": [
    "# World Models\n",
    "**Jin Yeom**  \n",
    "jin.yeom@hudl.com"
   ]
  },
  {
   "cell_type": "code",
   "execution_count": 1,
   "metadata": {},
   "outputs": [],
   "source": [
    "from collections import namedtuple\n",
    "from pprint import pprint\n",
    "\n",
    "import gym\n",
    "from gym.spaces import Box\n",
    "import numpy as np\n",
    "from PIL import Image\n",
    "from matplotlib import pyplot as plt\n",
    "from matplotlib import animation as anime\n",
    "from IPython.display import HTML\n",
    "import torch\n",
    "from torch import nn, optim, distributions\n",
    "from torch.nn import functional as F\n",
    "from torch.utils import data\n",
    "from torchvision.utils import make_grid\n",
    "from tqdm import tqdm_notebook as tqdm"
   ]
  },
  {
   "cell_type": "code",
   "execution_count": 2,
   "metadata": {},
   "outputs": [
    {
     "name": "stdout",
     "output_type": "stream",
     "text": [
      "device = cpu\n"
     ]
    }
   ],
   "source": [
    "device = torch.device('cuda' if torch.cuda.is_available() else 'cpu')\n",
    "print(f\"device = {device}\")"
   ]
  },
  {
   "cell_type": "markdown",
   "metadata": {},
   "source": [
    "## Environment"
   ]
  },
  {
   "cell_type": "markdown",
   "metadata": {},
   "source": [
    "We'll start with something simple: **Atari 2600 Pong**."
   ]
  },
  {
   "cell_type": "code",
   "execution_count": 3,
   "metadata": {},
   "outputs": [
    {
     "data": {
      "image/png": "[encoded data removed]",
      "text/plain": [
       "<Figure size 432x288 with 1 Axes>"
      ]
     },
     "metadata": {
      "needs_background": "light"
     },
     "output_type": "display_data"
    }
   ],
   "source": [
    "env = gym.make('PongNoFrameskip-v4')\n",
    "obs = env.reset()\n",
    "plt.imshow(obs)\n",
    "plt.axis('off')\n",
    "plt.show()"
   ]
  },
  {
   "cell_type": "markdown",
   "metadata": {},
   "source": [
    "Before we start working with the environment, we'll preprocess the observation a little bit. Particularly, I think the scoreboard on top of the screen is rather irrelevant, so we'll crop it out; same for the bottom block."
   ]
  },
  {
   "cell_type": "code",
   "execution_count": 4,
   "metadata": {},
   "outputs": [],
   "source": [
    "class ProcessFrame(gym.ObservationWrapper):\n",
    "    def __init__(self, env, size):\n",
    "        super(ProcessFrame, self).__init__(env)\n",
    "        self.size = size\n",
    "        self.observation_space = Box(low=0, high=1, shape=(3, size, size), dtype=np.float32)\n",
    "\n",
    "    def observation(self, obs):\n",
    "        obs = Image.fromarray(obs[34:194, :160, :])  # crop the center square\n",
    "        obs = np.array(obs.resize((self.size, self.size), resample=Image.BILINEAR))\n",
    "        return (obs.astype(np.float32) / 255.0).transpose(2, 0, 1)"
   ]
  },
  {
   "cell_type": "markdown",
   "metadata": {},
   "source": [
    "We'll also apply frame skip to increase performance ([Braylan et al., 2015](http://nn.cs.utexas.edu/downloads/papers/braylan.aaai15.pdf))."
   ]
  },
  {
   "cell_type": "code",
   "execution_count": 5,
   "metadata": {},
   "outputs": [],
   "source": [
    "class FrameSkip(gym.Wrapper):\n",
    "    def __init__(self, env, frame_skip):\n",
    "        super(FrameSkip, self).__init__(env)\n",
    "        self._frame_skip = frame_skip\n",
    "\n",
    "    def step(self, action):\n",
    "        total_reward = 0.0\n",
    "        for _ in range(self._frame_skip):\n",
    "            obs, reward, done, info = self.env.step(action)\n",
    "            total_reward += reward\n",
    "            if done:\n",
    "                break\n",
    "        return obs, total_reward, done, info\n",
    "\n",
    "    def reset(self):\n",
    "        return self.env.reset()"
   ]
  },
  {
   "cell_type": "markdown",
   "metadata": {},
   "source": [
    "Lastly, we have to ensure that the environment takes one hot actions, rather than scalars. This is simply because our controller takes one hot vectors as a part of its inputs."
   ]
  },
  {
   "cell_type": "code",
   "execution_count": 6,
   "metadata": {},
   "outputs": [],
   "source": [
    "class OneHotAction(gym.ActionWrapper):\n",
    "    def __init__(self, env):\n",
    "        super(OneHotAction, self).__init__(env)\n",
    "        n = env.action_space.n\n",
    "        self.action_space = Box(low=0, high=1, shape=(n,), dtype=np.float32)\n",
    "        \n",
    "    def action(self, action):\n",
    "        return np.argmax(action, axis=-1)"
   ]
  },
  {
   "cell_type": "markdown",
   "metadata": {},
   "source": [
    "Now, we can compile these wrappers together with `gym.make` to make a single `make_pong` function. Nothing important, just neat to have!"
   ]
  },
  {
   "cell_type": "code",
   "execution_count": 7,
   "metadata": {},
   "outputs": [],
   "source": [
    "def make_pong():\n",
    "    env = gym.make('PongNoFrameskip-v4')\n",
    "    env = ProcessFrame(env, 64)\n",
    "    env = FrameSkip(env, 4)\n",
    "    env = OneHotAction(env)\n",
    "    return env"
   ]
  },
  {
   "cell_type": "markdown",
   "metadata": {},
   "source": [
    "Let's take a look at observations from our processed environment."
   ]
  },
  {
   "cell_type": "code",
   "execution_count": 8,
   "metadata": {},
   "outputs": [
    {
     "data": {
      "text/html": [
       "<video width=\"432\" height=\"288\" controls autoplay loop>\n",
       "  <source type=\"video/mp4\" src=\"data:video/mp4;base64,AAAAHGZ0eXBNNFYgAAACAGlzb21pc28yYXZjMQAAAAhmcmVlAAAXf21kYXQAAAKuBgX//6rcRem9\n",
       "5tlIt5Ys2CDZI+7veDI2NCAtIGNvcmUgMTUyIHIyODU0IGU5YTU5MDMgLSBILjI2NC9NUEVHLTQg\n",
       "QVZDIGNvZGVjIC0gQ29weWxlZnQgMjAwMy0yMDE3IC0gaHR0cDovL3d3dy52aWRlb2xhbi5vcmcv\n",
       "eDI2NC5odG1sIC0gb3B0aW9uczogY2FiYWM9MSByZWY9MyBkZWJsb2NrPTE6MDowIGFuYWx5c2U9\n",
       "MHgzOjB4MTEzIG1lPWhleCBzdWJtZT03IHBzeT0xIHBzeV9yZD0xLjAwOjAuMDAgbWl4ZWRfcmVm\n",
       "PTEgbWVfcmFuZ2U9MTYgY2hyb21hX21lPTEgdHJlbGxpcz0xIDh4OGRjdD0xIGNxbT0wIGRlYWR6\n",
       "b25lPTIxLDExIGZhc3RfcHNraXA9MSBjaHJvbWFfcXBfb2Zmc2V0PS0yIHRocmVhZHM9OSBsb29r\n",
       "YWhlYWRfdGhyZWFkcz0xIHNsaWNlZF90aHJlYWRzPTAgbnI9MCBkZWNpbWF0ZT0xIGludGVybGFj\n",
       "ZWQ9MCBibHVyYXlfY29tcGF0PTAgY29uc3RyYWluZWRfaW50cmE9MCBiZnJhbWVzPTMgYl9weXJh\n",
       "bWlkPTIgYl9hZGFwdD0xIGJfYmlhcz0wIGRpcmVjdD0xIHdlaWdodGI9MSBvcGVuX2dvcD0wIHdl\n",
       "aWdodHA9MiBrZXlpbnQ9MjUwIGtleWludF9taW49MjUgc2NlbmVjdXQ9NDAgaW50cmFfcmVmcmVz\n",
       "aD0wIHJjX2xvb2thaGVhZD00MCByYz1jcmYgbWJ0cmVlPTEgY3JmPTIzLjAgcWNvbXA9MC42MCBx\n",
       "cG1pbj0wIHFwbWF4PTY5IHFwc3RlcD00IGlwX3JhdGlvPTEuNDAgYXE9MToxLjAwAIAAAAFIZYiE\n",
       "ADP//vbsvgU1/Z/QlxEsxdpKcD4qpICAdzTAAAADAAB4HShe6DhKq9DAABt2OHH/CRpgAE6HSswZ\n",
       "jQN7RtBN/aGqOZnivUJXdAF+0sqyWPr3bCY0eAPu1FZlZv6MQifnVtc4dGigFTGhxajWkUT8zVsZ\n",
       "I+kyfCBflB7DoA5q9nShFnyUKJqg9pkEKWVVQ28XZ/1kPXllbq6fWr28tUYAPNktEsoHvxEf2G/L\n",
       "wPkjkPTSufsbA6S6rTsjT51xceOiEqYwQqRBG3h5nJ11dNyxPCzi8sSNYTdz0s9hXk0/LbVXrg/r\n",
       "ZD4Bu9ufJh5V/qSusrAZj32o7lqFrwcHsi/KMlfWI10mmgdfrBrxiP86JBl8ZP3Xyt9RXEzIm+fF\n",
       "Dp1/qH0aRgMisLxKvNxkyTOy4r6gUWV4qMXKS7Hxc8gAAHDM/CzHgQAAAB5BmiRsQz/+nhAAI98W\n",
       "MPnCIYn6sShznZ6Fhkc/YKwAAAAhQZ5CeIT/AAmw0d8/xAD7cLSWhzsj0L6C0kqByAJjj7J3AAAA\n",
       "EAGeYXRCPwALpy+AMfQlt1QAAAAXAZ5jakI/AAvP3e6i3w3nrq/+WuyXMy8AAABdQZpoSahBaJlM\n",
       "CGf//p4QABJvnvzNZIL6/9+XMqeELJACgD45HUILsCEm0Y6ER9QsL0Oo+Pxc6Ud4kjQ47RTY0KA9\n",
       "2zuKmBq2AZmq0VSXXGAtjox2OhCqLSQLq/NhAAAAN0GehkURLCf/AAT5kxA2pFhhAYQXEqgHML1d\n",
       "bpTXEOGszfgl679WhmR1xxN8Y9FV0BCxqJ1TonEAAAASAZ6ldEI/AAX34Hc5dGitpacPAAAAIAGe\n",
       "p2pCPwAC/E1pZdVxaM6qAGx2oq9HXOEUd8KXl1zAAAAAN0GarEmoQWyZTAhn//6eEAASbpve9ABr\n",
       "zleHtyX2G2uIfg6kx1g18cXhEk8fcY58GwCyoiAkGdAAAAAmQZ7KRRUsJ/8ACdStDPp/baof40fh\n",
       "ZyTSQ/YkAzPWk6Dw+33S+YEAAAAYAZ7pdEI/AAvv0IiEEA+eLflgxuTFpYpgAAAAJgGe62pCPwAF\n",
       "+mD0IoMPSkm6lgFCR+o/xvA+/QADWIyg6nEZy+uAAAAAr0Ga8EmoQWyZTAhn//6eEACSk7gAPnXl\n",
       "EvGlBa3FVVH5Lk6OhxzwsDIh/WnOcekl9bZjyuurtiF1smM39xiH3ZYDfrN2wBz8mKsp9r1stGM9\n",
       "83xEHLG4qt4HrqFmevx7q35VTmSEXJwSjeGqQHMSJEUV30fox+G/2YM5wpiPfoanHOMYwwn2w49y\n",
       "ujoNMv076T4dlK1EYcncBvUb+Ui5Y61g75GB2CqoAW76nZwweakAAABhQZ8ORRUsJ/8AJrZO1j6g\n",
       "CqsYJMcID6d+ZZfDDZArPyT96Z1Pq4gT7A6s/8fj58egzgG2CRFZOeqhWvfcAJGiBvhvi8jI3iup\n",
       "54qR4PI2oGI9j5K3TfncZO/s48m5iRsDPwAAADYBny10Qj8AL9cXb7CSq/S18IB0TjfDtcEfMgOD\n",
       "W+n8o39XRRsL7Mx77548+bTp0wNCur2HpIEAAAA1AZ8vakI/AC5sx5GlAc0nJYO203AQfGBdR9Wh\n",
       "SAXzgoAHHciAaV6BD/bBvfxfSMGgeMxwqoAAAAB2QZszSahBbJlMCGf//p4QAJN8WJZ+CAma2mL7\n",
       "LAinE4aDJb21PJTW29s+50cefMAUiTdBCduCUbcSbFm2ZSlN5gyTLCPH6jF73T35SDSEXaWK2FYW\n",
       "aczMlNAEvnkcAhbFTfkGuGAGZ9WScwL2c7wxNy7JifYDNAAAAEhBn1FFFSwn/wAnzJiDG0DKYiM/\n",
       "a4LRVQBD6+KG0eDpT0Ffgkw+AsYf16aWti2fARfyx5VIPa3gepv3wpazeM81j9i1+R7AkbUAAAA7\n",
       "AZ9yakI/ABdMUnYI2VdTCLjPcVhVAAhbMGKOBMFaPYOoZyE5lQ8fKcYPGFm3zlpk6qQMjmQunkfH\n",
       "5toAAABjQZt1SahBbJlMFEwz//6eEACTPU9t6bYATD7Z/ry0xetVg5sSmQxUccV4CbXWp68MNInP\n",
       "gmpJol769/F/kqcMORPO6otdaWVhB28o0PDxe3mPyLRE4adiyi97zVV6f4g4ZBzOAAAANwGflGpC\n",
       "PwAv0weeVthkNqVBsvuQjAHPYXahhSsc39/y/5u7nPIgJ7BqcqXfAINW5bAMazYfgSEAAABeQZuZ\n",
       "SeEKUmUwIZ/+nhAAk3xWoBrDZyBffFInrz9QR0NxCs7xYWuXXH2AOGRDeVO/OVwBU8VQVTgpY6QL\n",
       "UDCSbZPG/GYab+OqihQojazW4BjWqvWQ2K1PkI9n3lfQ3AAAAEhBn7dFNEwn/wAnzJiPBKMx2EjI\n",
       "TQlWK2cCLziBPn0q109w6rdafnEz6JOXOX8FVTVk55iC+LiqAtsLh53yb0Muqlm5P5os3kEAAAA/\n",
       "AZ/WdEI/AC+/A7nLon1KIKCrZrdg9zUAcMs7rZsqoFyXRiKJUNWywrPlBNgA3L4uxvzqk7Wzjalu\n",
       "LbR4cX+BAAAANQGf2GpCPwAv27Z/RvsLVaeX/RbLNoDp43FqqcVhYu3AAU9A2gnVASIQmBhBt3Az\n",
       "26qg25pOAAAAbEGb3UmoQWiZTAhf//6MsACQEdWgBFtCTXXOxhw4ZHYZJwtaWc/vxX0Cf64m8Ig6\n",
       "lBjiY6kKppaIzBO/VmFS7M194PhqoYQOhtmn+KSwAI8t0rA/J6LM2PXEIWJdKVW1eXuuxxrFBNim\n",
       "dklE/wAAAFtBn/tFESwn/wBP3v4gURRvA1x3PQKMLTd4k+bWTybbbOohdf9MOOpna93ua6ymnTSH\n",
       "r/51mD1tRvont3lQjCZir1u2HMIFmjvAyyQs8bPI1/dH7s9NpL1snQ/NAAAAPwGeGnRCPwBfri7P\n",
       "RlJ1JIyscMhVQvff18OIKM2KOq+LBmWNOAHBeKAqsyItp1dZXPYHsb5nVFxpX6woGNcXBwAAAC0B\n",
       "nhxqQj8AXTcIINFMn4ACMC1Z1aK5R/u0NnxA/Zkcf8duMdfcr2AL1pBkLCEAAAA9QZoeSahBbJlM\n",
       "CGf//p4QAJKqGtzDrLEeEKrd7ox/IxWSh+aagCn/KfzN179XJWZT/MEvAEGvNRxPNRqdDgAAAH1B\n",
       "miFJ4QpSZTAhn/6eEAElIycgR0EcIj7oAwxHNovjOrLHxCMgdbCxi8buLo6NOHYxPR8hW8HRFi6K\n",
       "zXPcT5PQNg7RBMzAkvbmI66shJ3kdPA5KOsrcjrGeZdOdFmEUiggzoRzTnHUkHF/KqZzL7AjwDlS\n",
       "iD/Y4tAwhlVRgAAAAEFBnl9FNEwn/wBPrdaQItu4b3Tv3CkIi++IewtBabhajV1ADOPJz0xgGonW\n",
       "fhyKM4JIXeDjLCiPQzHtk6PkLC870QAAAEUBnmBqQj8AX4ms9zwhwmO/6cTU42XBX0vtuAIe3jcS\n",
       "y8QvcbirwBneH6jW6u1Z16AsAnmjVbFudbzKqk6pUIpJuCZJIV4AAABlQZpkSahBaJlMCF///oyw\n",
       "ABZt8fLP2D2gAjAxlTvZxUWtfgBWV4wPnd++YAyjPgby+9+fDM+gnx4uWNXbY8VJS5xDXAn0ZQR8\n",
       "/tHz4qEQ2Qr1VjGiIRktIuZyuIItD+tE6lHUtY0AAABVQZ6CRREsJ/8AT7zSbGx08Abh01ADYuD/\n",
       "6Moi6uuZx34aZ70LXsoma12sxjRvtbJhd883gDCmjfGoY3dsMdMU3Iw2lGbHNVThymVRskcrTcrn\n",
       "QLmvLgAAAEEBnqNqQj8AX4nIbX9aYYPc68qgkwLoMAK5WyDeQt8P0ktzNoxPCRUCPtWGey6qJ2IK\n",
       "9N1a4pTRPK2G8D/cqk6gnQAAAFhBmqZJqEFsmUwUTC///oywACzb4+GlfjADdao6Ssej6I7BcAi4\n",
       "Jned2An7O8fodsXroPxwefl3dgFQLzifBiMehLWVLciEMw3siKkCgA6etIqnA/jQ+29BAAAARgGe\n",
       "xWpCPwBdJAyrfIAgtn1nL9GDJCG3Q30XgMcP8wJHe4yFmgpCOil9Acf/PpMXEq3JGr72OVwtPN5+\n",
       "Q1VAiIl9Y6E9XoEAAACBQZrHSeEKUmUwIZ/+nhAE99CEAEoudDUT1XmTAtYr/0wBdxQBBo0sLlhF\n",
       "O7y+OjQJQT64ZWl9DzGB0BUkaYnd7I7gb0P5kl/gRSzVyGHeWWEiRcBNg11N3EQpoI6twOva8Ehr\n",
       "zgE22onFFcbE20+zup96Z42xEy1kVRd0u868ETBhAAAAg0Ga6knhDomUwIZ//p4QBkehCABvgOOC\n",
       "c15kwVKs9LMnCfpTXdTX8fi7/D+S3106sOXOj4PIvHKUvZQAnkJGu2AnrSVxkGmNXbxSVgvqlQh1\n",
       "tGwsCjEgQ4o+/oX/3zy4uQKISx/I6QezYfseEiiX71zp812yx00tN66V2zLT5D/M/sfmAAAATUGf\n",
       "CEURPCf/AVSYa6xiMLYPJ3VkZwwwAxiCmXl0IQAtnrArWaiD9DUzx2MPvaai1vvcY2tArn1SU8Ht\n",
       "IGxq/sVeaklwgUX8WXsrZo9IAAAAQwGfKWpCPwHm3Nm9nO7PBL3WMAEZ7oMl4durbFsf+UG6izTI\n",
       "H1qcGu/vIQGEWDXOtxtHcZ4qnfml0iTtjUDQwFWTZkEAAACYQZstSahBaJlMCGf//p4QBkUUS3UA\n",
       "s4AHSiYCsQLJrSmJdm3BkSjRr5sSBSowvdHtmCezd26RmXxPKW5TW0hkJM8cFLLVCH39kMp7Zrgo\n",
       "t9foOP9ekZxxkyWWYL7lq3LqHkhEwQblAgOejgmRuUOzE2op6Q9U9foSPTYgOuuMLLdd5HihQwpc\n",
       "/+JAGyJRXKmEGlkpbIMcG/AAAABIQZ9LRREsJ/8BmhZ51chMvKNB9FNZfxAD8qxU+U7I1qBVv46A\n",
       "jBoKEG88KM8UuP8iOWO5HQJr9SKs+6E8ym6HUdmhuwms5EvAAAAARQGfbGpCPwGmmTpfKYMABHuq\n",
       "DK8rM8RzCxauN2lI0r3BCQmCUzAn/QDrXzHQtxNZC54nY/gIye+Ud5g9Ia8kqGtfPIA5oQAAAHRB\n",
       "m3FJqEFsmUwIX//+jLAFLWk5bhaFBADNnSchmDMS2264a/k4cqAlu3sf4RRcChlU+PeB5iVk6P5z\n",
       "EVA5rRx1gFBKByZGJWNTzK8dWddu7+LWHALLWpaH2L15JARHrDVJV4Kkw9wItxDqvYV0QLTgI2nE\n",
       "fQAAAEdBn49FFSwn/wGbXoABxcZXu0nUqZZrJpKZmgY7FUSEWSD0w5P6/fc9H93uVQ4omnTs42Zf\n",
       "MoAt4fB9W7WIta4wTByAzYQR6QAAAEsBn650Qj8DXMXfEUEUa2P0wAP2l7scQroE9Wrlg1H/w3bf\n",
       "9G978F3LDnLgA0KGB948iuCUspbHPh3iIrCLxUPip9V7+SYsADVAW0AAAAA7AZ+wakI/A1ssErFl\n",
       "FM7b1gA/nlh2mATYtXnxJpw1ad/wZ2Igu18zwCTP3WQMQqP+JujxuGJmuj0if4AAAABOQZuzSahB\n",
       "bJlMFEwv//6MsAMFwln+U87Qh95W9nhOFJ2gCMnwNfzQ4WOWny8xlJ3gQcn+9a9vcxGPCRLGPnw/\n",
       "54RBwADVpUJC1P8QUHpBAAAAOwGf0mpCPwFznYhnwzsi2jlq+6BX8wKygQDjEAl8RPfFGR166lQA\n",
       "LMKqQ1ixML7llnrsKBZtHL7cfCDgAAAARkGb1UnhClJlMFLC//6MsAGC9HA6NAJpNXhX52hCU2up\n",
       "ZyPrNP6AK34eZTjbDaqBQ90seIVtp8rnVLDrq9MM5rnBd9QJce0AAAA7AZ/0akI/AHmElEHkDgh0\n",
       "mjoR7iaeJ/RcRlb5wi8lCxUn7oatFh6y1IpmA6J8cF5oOW9lL9jePC8nmm8AAABEQZv2SeEOiZTA\n",
       "hf/+jLAAwXCWqMNzdcuiB74AjIKGRKaomE5tN+yo6tb0LzP60UeJ31vJj/+DIJKP0xJMyf4g9jsR\n",
       "H+AAAABQQZoYSeEPJlMFFTwv//6MsABgJPn6PP7c+DNPoLe2gBQuLydmMuK5DFtiw/wP/DT4i2Mv\n",
       "E6fk7jdNmoDZK5GMkEsIAAQq9+vuVTeyLdps8IEAAAA2AZ43akI/AB5qZ4oHoCtmyMV/vAilWnk2\n",
       "LovqX31aImzkveZ0GdKIEaJLFQWLsJdIg2ihhWz/AAAAjEGaOknhDyZTBTwv//6MsASAGb2PwAL5\n",
       "x+IrdEMmhNqybv8bOkxvnwsSYBzPnvD8ZjIC9Cgvxus+QIYJHtYBk8bXGnJV+Eh6mQ30LaxgO/YD\n",
       "ZZEE4tdeyjYucuwMA4BAgygX17CoJGVrGqxY5hG5YS9xJtuu8tgEiYG7SrzhEvq/p0HCf6qU6qt3\n",
       "SAzTAAAATgGeWWpCPwLnsIISDQJzMvokuRkYe4REYHOk8V7zwrAAGwjckhTIcoOPVUemuI3hKuB2\n",
       "c9E5FTkOVq05DGvXfV3hrp+p4u2/+l9fvZSnrQAAAGNBmltJ4Q8mUwIX//6MsASH5rkb8qeE/MAw\n",
       "Z0VRY7R4Wo978YysXX+J5+fDC17JJ/z7+++hjOuTsolXEIyreBHZSZG2K8Og2je5TFSS6eyLGr9r\n",
       "mowZJJ+zSlDtN5zx7rUty7QAAAB9QZp9SeEPJlMFETwr//44QAi31Snr04u7RAF2AJ+Vz48vQ2UZ\n",
       "uvh5faz+WcQrnY4fT9QHhpaMvWwHfimt9ynsuhKj6CrZ46kUtmQ3zidiSdTQkUAzdwCEkvM5AiVi\n",
       "jSZo4u4m+T0/OHtIp7gPGqXvam0Np1aAIFr39AhJK0EAAABPAZ6cakI/At7yo+1vpxp8g3hASqwr\n",
       "LzPjj1vAMeK3+oetarm+98WPhR3ont6VvJY9E6okA562cN293ojiF2Uo/Kv1l705g9Re8NoLuKzp\n",
       "gQAAAGZBmp9J4Q8mUwU8I//94QAIt7qr3XVv2okQi+OIkBg/gfL8MtkaCAVkT81ICWepQhLxt+1J\n",
       "kt2TQGjsJGk4H6xUoNb9Z8EBYGuXMWEOU+5bhB6p6X8aHxAlGtsbGaq6vUgBJrw2WrAAAABFAZ6+\n",
       "akI/At7yopqFWIjWhU2PudRzAIJprJL/fqNrT3sZwmamarlXxg+UkhBiZvy+c7oHdsaNWNViSIfu\n",
       "dXb95jV75EOkAAAGBm1vb3YAAABsbXZoZAAAAAAAAAAAAAAAAAAAA+gAAAZAAAEAAAEAAAAAAAAA\n",
       "AAAAAAABAAAAAAAAAAAAAAAAAAAAAQAAAAAAAAAAAAAAAAAAQAAAAAAAAAAAAAAAAAAAAAAAAAAA\n",
       "AAAAAAAAAAAAAAIAAAUwdHJhawAAAFx0a2hkAAAAAwAAAAAAAAAAAAAAAQAAAAAAAAZAAAAAAAAA\n",
       "AAAAAAAAAAAAAAABAAAAAAAAAAAAAAAAAAAAAQAAAAAAAAAAAAAAAAAAQAAAAAGwAAABIAAAAAAA\n",
       "JGVkdHMAAAAcZWxzdAAAAAAAAAABAAAGQAAAAgAAAQAAAAAEqG1kaWEAAAAgbWRoZAAAAAAAAAAA\n",
       "AAAAAAAAKAAAAEAAVcQAAAAAAC1oZGxyAAAAAAAAAAB2aWRlAAAAAAAAAAAAAAAAVmlkZW9IYW5k\n",
       "bGVyAAAABFNtaW5mAAAAFHZtaGQAAAABAAAAAAAAAAAAAAAkZGluZgAAABxkcmVmAAAAAAAAAAEA\n",
       "AAAMdXJsIAAAAAEAAAQTc3RibAAAALNzdHNkAAAAAAAAAAEAAACjYXZjMQAAAAAAAAABAAAAAAAA\n",
       "AAAAAAAAAAAAAAGwASAASAAAAEgAAAAAAAAAAQAAAAAAAAAAAAAAAAAAAAAAAAAAAAAAAAAAAAAA\n",
       "AAAAABj//wAAADFhdmNDAWQAFf/hABhnZAAVrNlBsJaEAAADAAQAAAMBQDxYtlgBAAZo6+PLIsAA\n",
       "AAAcdXVpZGtoQPJfJE/FujmlG88DI/MAAAAAAAAAGHN0dHMAAAAAAAAAAQAAAEAAAAEAAAAAFHN0\n",
       "c3MAAAAAAAAAAQAAAAEAAAHoY3R0cwAAAAAAAAA7AAAAAQAAAgAAAAABAAAFAAAAAAEAAAIAAAAA\n",
       "AQAAAAAAAAABAAABAAAAAAEAAAUAAAAAAQAAAgAAAAABAAAAAAAAAAEAAAEAAAAAAQAABQAAAAAB\n",
       "AAACAAAAAAEAAAAAAAAAAQAAAQAAAAABAAAFAAAAAAEAAAIAAAAAAQAAAAAAAAABAAABAAAAAAEA\n",
       "AAQAAAAAAgAAAQAAAAABAAADAAAAAAEAAAEAAAAAAQAABQAAAAABAAACAAAAAAEAAAAAAAAAAQAA\n",
       "AQAAAAABAAAFAAAAAAEAAAIAAAAAAQAAAAAAAAABAAABAAAAAAEAAAIAAAAAAQAABAAAAAACAAAB\n",
       "AAAAAAEAAAQAAAAAAgAAAQAAAAABAAADAAAAAAEAAAEAAAAAAQAAAgAAAAABAAAEAAAAAAIAAAEA\n",
       "AAAAAQAABAAAAAACAAABAAAAAAEAAAUAAAAAAQAAAgAAAAABAAAAAAAAAAEAAAEAAAAAAQAAAwAA\n",
       "AAABAAABAAAAAAEAAAMAAAAAAQAAAQAAAAABAAACAAAAAAEAAAMAAAAAAQAAAQAAAAABAAADAAAA\n",
       "AAEAAAEAAAAAAQAAAgAAAAABAAADAAAAAAEAAAEAAAAAAQAAAwAAAAABAAABAAAAABxzdHNjAAAA\n",
       "AAAAAAEAAAABAAAAQAAAAAEAAAEUc3RzegAAAAAAAAAAAAAAQAAAA/4AAAAiAAAAJQAAABQAAAAb\n",
       "AAAAYQAAADsAAAAWAAAAJAAAADsAAAAqAAAAHAAAACoAAACzAAAAZQAAADoAAAA5AAAAegAAAEwA\n",
       "AAA/AAAAZwAAADsAAABiAAAATAAAAEMAAAA5AAAAcAAAAF8AAABDAAAAMQAAAEEAAACBAAAARQAA\n",
       "AEkAAABpAAAAWQAAAEUAAABcAAAASgAAAIUAAACHAAAAUQAAAEcAAACcAAAATAAAAEkAAAB4AAAA\n",
       "SwAAAE8AAAA/AAAAUgAAAD8AAABKAAAAPwAAAEgAAABUAAAAOgAAAJAAAABSAAAAZwAAAIEAAABT\n",
       "AAAAagAAAEkAAAAUc3RjbwAAAAAAAAABAAAALAAAAGJ1ZHRhAAAAWm1ldGEAAAAAAAAAIWhkbHIA\n",
       "AAAAAAAAAG1kaXJhcHBsAAAAAAAAAAAAAAAALWlsc3QAAAAlqXRvbwAAAB1kYXRhAAAAAQAAAABM\n",
       "YXZmNTcuODMuMTAw\n",
       "\">\n",
       "  Your browser does not support the video tag.\n",
       "</video>"
      ],
      "text/plain": [
       "<IPython.core.display.HTML object>"
      ]
     },
     "execution_count": 8,
     "metadata": {},
     "output_type": "execute_result"
    }
   ],
   "source": [
    "env = make_pong()\n",
    "fig = plt.figure()\n",
    "plt.axis('off')\n",
    "ims = []\n",
    "obs = env.reset()\n",
    "for _ in range(64):\n",
    "    action = env.action_space.sample()\n",
    "    obs, _, _, _ = env.step(action)\n",
    "    ims.append([plt.imshow(obs.transpose(1, 2, 0), animated=True)])\n",
    "anim = anime.ArtistAnimation(fig, ims, interval=25, blit=True)\n",
    "plt.close()\n",
    "HTML(anim.to_html5_video())"
   ]
  },
  {
   "cell_type": "markdown",
   "metadata": {},
   "source": [
    "## VAE (V) model"
   ]
  },
  {
   "cell_type": "markdown",
   "metadata": {},
   "source": [
    "Our $V$ model will have the same architecture as from the paper."
   ]
  },
  {
   "cell_type": "code",
   "execution_count": 9,
   "metadata": {},
   "outputs": [],
   "source": [
    "class Encoder(nn.Module):\n",
    "    def __init__(self, latent_dim):\n",
    "        super(Encoder, self).__init__()\n",
    "        self.conv1 = nn.Conv2d(3, 32, 4, stride=2)\n",
    "        self.conv2 = nn.Conv2d(32, 64, 4, stride=2)\n",
    "        self.conv3 = nn.Conv2d(64, 128, 4, stride=2)\n",
    "        self.conv4 = nn.Conv2d(128, 256, 4, stride=2)\n",
    "        self.fc_mean = nn.Linear(1024, latent_dim)\n",
    "        self.fc_logvar = nn.Linear(1024, latent_dim)\n",
    "        \n",
    "    def forward(self, x):\n",
    "        x = F.relu(self.conv1(x), inplace=True)\n",
    "        x = F.relu(self.conv2(x), inplace=True)\n",
    "        x = F.relu(self.conv3(x), inplace=True)\n",
    "        x = F.relu(self.conv4(x), inplace=True)\n",
    "        x = x.view(x.size(0), -1)\n",
    "        return self.fc_mean(x), self.fc_logvar(x)"
   ]
  },
  {
   "cell_type": "code",
   "execution_count": 10,
   "metadata": {},
   "outputs": [],
   "source": [
    "class Decoder(nn.Module):\n",
    "    def __init__(self, latent_dim):\n",
    "        super(Decoder, self).__init__()\n",
    "        self.fc1 = nn.Linear(latent_dim, 1024)\n",
    "        self.deconv2 = nn.ConvTranspose2d(1024, 128, 5, stride=2)\n",
    "        self.deconv3 = nn.ConvTranspose2d(128, 64, 5, stride=2)\n",
    "        self.deconv4 = nn.ConvTranspose2d(64, 32, 6, stride=2)\n",
    "        self.deconv5 = nn.ConvTranspose2d(32, 3, 5, stride=2)\n",
    "        \n",
    "    def forward(self, x):\n",
    "        x = F.relu(self.fc1(x), inplace=True)\n",
    "        x = x.view(x.size(0), 1024, 1, 1)\n",
    "        x = F.relu(self.deconv2(x), inplace=True)\n",
    "        x = F.relu(self.deconv3(x), inplace=True)\n",
    "        x = F.relu(self.deconv4(x), inplace=True)\n",
    "        x = torch.sigmoid(self.deconv5(x))"
   ]
  },
  {
   "cell_type": "code",
   "execution_count": 11,
   "metadata": {},
   "outputs": [],
   "source": [
    "class VAE(nn.Module):\n",
    "    def __init__(self, latent_dim):\n",
    "        super(VAE, self).__init__()\n",
    "        self.encoder = Encoder(latent_dim)\n",
    "        self.decoder = Decoder(latent_dim)\n",
    "\n",
    "    def encode(self, x):\n",
    "        mu, logvar = self.encoder(x)\n",
    "        if self.training:\n",
    "            return self.reparameterize(mu, logvar)\n",
    "        return mu\n",
    "        \n",
    "    def reparameterize(self, mu, logvar):\n",
    "        sigma = torch.exp(0.5 * logvar)\n",
    "        eps = torch.randn_like(mu)\n",
    "        return eps.mul(sigma).add_(mu)\n",
    "    \n",
    "    def decode(self, z):\n",
    "        return self.decoder(z)\n",
    "        \n",
    "    def forward(self, x):\n",
    "        mu, logvar = self.encoder(x)\n",
    "        z = self.reparameterize(mu, logvar)\n",
    "        x_ = self.decoder(z)\n",
    "        return mu, logvar, z, x_"
   ]
  },
  {
   "cell_type": "markdown",
   "metadata": {},
   "source": [
    "## Memory (M) model"
   ]
  },
  {
   "cell_type": "markdown",
   "metadata": {},
   "source": [
    "This is the exciting part! Our agent's ability to predict the future based on its action is, in fact, the essence of a world model."
   ]
  },
  {
   "cell_type": "code",
   "execution_count": 12,
   "metadata": {},
   "outputs": [],
   "source": [
    "class MixtureDensityLSTM(nn.Module):\n",
    "    def __init__(self, latent_dim, hid_dim, act_dim, num_mixtures=5):\n",
    "        super(MixtureDensityLSTM, self).__init__()\n",
    "        self.latent_dim = latent_dim\n",
    "        self.hid_dim = hid_dim\n",
    "        self.act_dim = act_dim\n",
    "        self.lstm = nn.LSTM(latent_dim + act_dim, hid_dim)\n",
    "        # mixture density network\n",
    "        self.num_mixtures = num_mixtures\n",
    "        self.fc_pi = nn.Linear(hid_dim, num_mixtures * self.latent_dim)\n",
    "        self.fc_mean = nn.Linear(hid_dim, num_mixtures * self.latent_dim)\n",
    "        self.fc_logvar = nn.Linear(hid_dim, num_mixtures * self.latent_dim)\n",
    "\n",
    "    def reset(self):\n",
    "        return (torch.zeros(1, 1, self.hid_dim), torch.zeros(1, 1, self.hid_dim))\n",
    "\n",
    "    def mixture_coef(self, x):\n",
    "        pi = F.softmax(self.fc_pi(x).view(x.size(0), -1, self.num_mixtures, self.latent_dim), dim=2)\n",
    "        mean = self.fc_mean(x).view(x.size(0), -1, self.num_mixtures, self.latent_dim)\n",
    "        logvar = self.fc_logvar(x).view(x.size(0), -1, self.num_mixtures, self.latent_dim)\n",
    "        return pi, mean, logvar\n",
    "\n",
    "    def sample(self, pi, mean, logvar):\n",
    "        stdev = torch.exp(0.5 * logvar)\n",
    "        return torch.sum(pi * torch.normal(mean, stdev), dim=2)\n",
    "\n",
    "    def forward(self, z, a, h, c):\n",
    "        z = torch.cat([z, a], dim=-1)\n",
    "        z, (h, c) = self.lstm(z, (h, c))\n",
    "        return self.mixture_coef(z), (h, c)"
   ]
  },
  {
   "cell_type": "markdown",
   "metadata": {},
   "source": [
    "## Policy"
   ]
  },
  {
   "cell_type": "code",
   "execution_count": 13,
   "metadata": {},
   "outputs": [],
   "source": [
    "class ActorCritic(nn.Module):\n",
    "    def __init__(self, state_dim, act_dim):\n",
    "        super(ActorCritic, self).__init__()\n",
    "        self.actor = nn.Linear(state_dim, act_dim)\n",
    "        self.critic = nn.Linear(state_dim, 1)\n",
    "    \n",
    "    def act(self, x):\n",
    "        pi = F.softmax(self.actor(x), dim=-1)\n",
    "        dist = distributions.OneHotCategorical(pi)\n",
    "        return dist.sample()\n",
    "    \n",
    "    def value(self, x):\n",
    "        return self.critic(x).detach()\n",
    "    \n",
    "    def forward(self, x):\n",
    "        pi = F.softmax(self.actor(x), dim=-1)\n",
    "        dist = distributions.OneHotCategorical(pi)\n",
    "        action = dist.sample()\n",
    "        logpi = dist.log_prob(action)\n",
    "        entropy = dist.entropy()\n",
    "        return action, logpi, entropy, self.value(x)"
   ]
  },
  {
   "cell_type": "markdown",
   "metadata": {},
   "source": [
    "## Agent"
   ]
  },
  {
   "cell_type": "markdown",
   "metadata": {},
   "source": [
    "Now, we can put together an agent! Pay special attention to how the agent makes an action."
   ]
  },
  {
   "cell_type": "code",
   "execution_count": 14,
   "metadata": {},
   "outputs": [],
   "source": [
    "latent_dim = 16\n",
    "hid_dim = 32\n",
    "act_dim = env.action_space.shape[0]\n",
    "state_dim = latent_dim + hid_dim * 2\n",
    "\n",
    "vision = VAE(latent_dim).to(device)\n",
    "memory = MixtureDensityLSTM(latent_dim, hid_dim, act_dim).to(device)\n",
    "controller = ActorCritic(state_dim, act_dim).to(device)"
   ]
  },
  {
   "cell_type": "markdown",
   "metadata": {},
   "source": [
    "Going back to the environment, let's see if our newly born agent can interact with the game."
   ]
  },
  {
   "cell_type": "code",
   "execution_count": 15,
   "metadata": {},
   "outputs": [
    {
     "data": {
      "text/html": [
       "<video width=\"432\" height=\"288\" controls autoplay loop>\n",
       "  <source type=\"video/mp4\" src=\"data:video/mp4;base64,AAAAHGZ0eXBNNFYgAAACAGlzb21pc28yYXZjMQAAAAhmcmVlAAAWoG1kYXQAAAKuBgX//6rcRem9\n",
       "5tlIt5Ys2CDZI+7veDI2NCAtIGNvcmUgMTUyIHIyODU0IGU5YTU5MDMgLSBILjI2NC9NUEVHLTQg\n",
       "QVZDIGNvZGVjIC0gQ29weWxlZnQgMjAwMy0yMDE3IC0gaHR0cDovL3d3dy52aWRlb2xhbi5vcmcv\n",
       "eDI2NC5odG1sIC0gb3B0aW9uczogY2FiYWM9MSByZWY9MyBkZWJsb2NrPTE6MDowIGFuYWx5c2U9\n",
       "MHgzOjB4MTEzIG1lPWhleCBzdWJtZT03IHBzeT0xIHBzeV9yZD0xLjAwOjAuMDAgbWl4ZWRfcmVm\n",
       "PTEgbWVfcmFuZ2U9MTYgY2hyb21hX21lPTEgdHJlbGxpcz0xIDh4OGRjdD0xIGNxbT0wIGRlYWR6\n",
       "b25lPTIxLDExIGZhc3RfcHNraXA9MSBjaHJvbWFfcXBfb2Zmc2V0PS0yIHRocmVhZHM9OSBsb29r\n",
       "YWhlYWRfdGhyZWFkcz0xIHNsaWNlZF90aHJlYWRzPTAgbnI9MCBkZWNpbWF0ZT0xIGludGVybGFj\n",
       "ZWQ9MCBibHVyYXlfY29tcGF0PTAgY29uc3RyYWluZWRfaW50cmE9MCBiZnJhbWVzPTMgYl9weXJh\n",
       "bWlkPTIgYl9hZGFwdD0xIGJfYmlhcz0wIGRpcmVjdD0xIHdlaWdodGI9MSBvcGVuX2dvcD0wIHdl\n",
       "aWdodHA9MiBrZXlpbnQ9MjUwIGtleWludF9taW49MjUgc2NlbmVjdXQ9NDAgaW50cmFfcmVmcmVz\n",
       "aD0wIHJjX2xvb2thaGVhZD00MCByYz1jcmYgbWJ0cmVlPTEgY3JmPTIzLjAgcWNvbXA9MC42MCBx\n",
       "cG1pbj0wIHFwbWF4PTY5IHFwc3RlcD00IGlwX3JhdGlvPTEuNDAgYXE9MToxLjAwAIAAAAExZYiE\n",
       "ADP//vbsvgU1/Z/QlxEsxdpKcD4qpICAdzTAAAADAAB4HShe6DhKq9DAABt2OHH/CRpgAE6HSswZ\n",
       "jQN7RtBN/aGqOZnivUJXdAF+0sqyWPr3bCY0eAPu1FZlZv6MQifnVtc4dGigFTGhxajWkUT8zVsZ\n",
       "I+kyfCBflB7DoA5q9nShFnyUKIjcjEyQaBmyxQNhMNNWvynEbF0l6wCwlYk1NxgNpYV/RZb+QQ12\n",
       "m/C3jgwjTG0/r9PlU6cIUkstBOzp7RfWywRRff+F2qQwHi3RzF2ffuMdanYFsYV58Bze3btRjI6b\n",
       "aXEZK9/rhKSRCrWDwM4Ns3iCDBAjCPXVM301dEhubjWIFdhhqR8Yt6RgG/0aTVnJkw7tl2h4witz\n",
       "OwfCZog8GS24AABICEgmzYEAAABOQZoibEM//p4QAjqfpYASxKWZw1bZtVwkRwjec7j0n+5vHL6k\n",
       "G6AfSZtRtjJsU7/KjVYg/2mTHzgVhCsHSpZ+Y8CyVmhocyT6lO+IVp2AAAAAJAGeQXkI/wC/XF3A\n",
       "RkvEFr4QDonG+Ha6QW/oWlTQjobVxi/s3QAAAD9BmkY8IZMphDP//p4QBHLMTQ4Ah2u6doqX+2jM\n",
       "QhvpeTY0JYwuj1yjjma2e0WuJ/GJA6repjPnTYQTjQYUDPgAAAAWQZ5kalPCfwExlYTUzdVcjpMM\n",
       "wFEHVQAAADYBnoN0Qj8Bb4wzuP0eMAJcuqECgk8T7uQa5nQ6UFLcO8zWjmYyrjyWmZg59yaSQveF\n",
       "iC+QYsEAAAANAZ6FakI/AL0AAiIGrQAAABNBmopJqEFomUwIZ//+nhAAAAdNAAAADUGeqEURLCf/\n",
       "AAADAfMAAAALAZ7HdEI/AAADAl4AAAALAZ7JakI/AAADAl8AAABiQZrOSahBbJlMCGf//p4QABf9\n",
       "c/B5F7EBjeuL32LBkWP05bL3yKZuR2mIxoU8g/3DBn7x/n0FPCehFaAfB09J3V5lmamvUAkpLT1s\n",
       "dYJOgHZPMr/nl6pKbektX+Dvp75cC9IAAAAXQZ7sRRUsJ/8ABnHmP6CKsUR6vofIDlwAAAALAZ8L\n",
       "dEI/AAADAl8AAAAVAZ8NakI/AAeaKF3AofD/AbwtW0eRAAAAY0GbEEmoQWyZTBRMM//+nhAAF9pW\n",
       "7fFhxKtjioAs4KZIe2zM0cVfLU7gZxWR5SeJsMQ0mirx52LegFOtklMAUR1R5Y3OP2JtjQ6XHrlT\n",
       "szKei06ENlsVjYZJd9st61aGVAb6QQAAAC4Bny9qQj8AB5gTBjX+apM9hO7Jd0t3JH4AiYmiN7uv\n",
       "8Os9ZqeRUf8Bs3v1CSVgAAAAdkGbM0nhClJlMCGf/p4QBG9nMtFZXIALGSBTloaXeNRv/FwoeO4H\n",
       "1SzFKXlxpJU3U2hSeoVRu2J3PZ60MLpP5gOhOxxJxtu0/UuLxW1I30vc75dv7oFqrSTIuGj67Tkr\n",
       "nxE3NcALXAx1dhXQDH3w8mtSu66NOMAAAABHQZ9RRTRMJ/8BNdwbUoP4myCDPCuhvycuad6w1RSi\n",
       "4mH61cAODW9+bqnyT7CWqUhwtH9EuIL2wT+kzKDh5ZysMat2P7WphIEAAAAwAZ9yakI/AXTFJ2CN\n",
       "nX3nX4DfPpADQSfymaLIJLf70M4mF2W/TqzHfo10aI2LHMg4AAAAkkGbdkmoQWiZTAhf//6MsASH\n",
       "5rkb8qeDtICJpMSb2d12WQiT76kG/rzr0jYKL/gaiRmxQOpanfC76HQVOoohl0f8b5aapJ449v7n\n",
       "3wMMsWZwEC3KYDy65R7GQw+Wh2IsYmplzrzMtK+73gqav4t5+1LBsOQGM0R4zzWRd8Xh9etvX/2k\n",
       "2Y2J4HXnfjnU1Q0zMiCGAAAAW0GflEURLCf/ATWY7RABm37dIeVkSjgI2r33JTfZ1A8GeheMhfKp\n",
       "eJNFIAt+hylUChK2sfSsfhpbp47374+wxlf+FnxqWwhf/cuqbsIXCKr64nbOIfGEy0U4ikEAAAA6\n",
       "AZ+1akI/AXRWSjKG4fD4zgyE2m02jADjLMk7RRVkoAef/goRIlaph9tnqGAhlc9yhuAVrmDby+dF\n",
       "IAAAAGlBm7hJqEFsmUwUTC///oywBKf8lEAMyz2vAgA26hT0CiT5aMiheP27GP8mv7F1fX2+PHtE\n",
       "hV1ouf3vZX1V/3ofCWIhxv5YXg7WO+zHXrKh6UtPGdO/52VR359OzNAfxSq++PXPtqvTBokAAABB\n",
       "AZ/XakI/AXTE5DcUpJcAocI4kAN0ef0IBkCvN4GaBVneqKQqPVddHR8D/mdC12+cDlmiHCzV6aUm\n",
       "HkJwx6y288EAAABdQZvZSeEKUmUwIZ/+nhAEcLgrSAFazKuX4lmjpP19KfT/r9RcdNudj/q3xrbZ\n",
       "8mx3ZzN+crgDNHc0FU4KXS+tfRBSOJ5JarYv/VadMRRUBMpjwn8yQvxr0hsUJiM4AAAAVkGb/Unh\n",
       "DomUwIX//oywBIWE2D1EAa7A//bt1bbd6LyZnDp+rNNfjafTNe2esmkBQ+zYFy4Wbjdi+JW9dUW2\n",
       "7u/w5yH29xA0al4eQBu7KztagMHsYVv/AAAARUGeG0URPCf/ATWKtsp3JiJCxjLxbunrjEvRNQA1\n",
       "xdyiUHxY9QjCQ2vt538UfJ8zhwFSIxfFNvgXfGxnhVbAWVASjKf5gAAAADgBnjp0Qj8BdCZFaTNe\n",
       "T7C/EnGl3EokAOK4d4asdHT5zfJxoSHevNr7GYV3bAbknXdUOmRvrfIwgQAAAB0BnjxqQj8Av0x/\n",
       "2BBulDsQEANzkWmEq9/NBMnhzQAAADVBmj5JqEFomUwIZ//+nhAEcIaCAKM0ThJVuKjA7DJ+mij+\n",
       "7Z4saFRgl4Ag3MLgmftkwEvzgAAAAFRBmkFJ4QpSZTAhn/6eEAAFqyrXADi3FA8zZ13U39lYAKv0\n",
       "bpN2ddD6eBySCrJzm+lwVEBO9IAg12EUS5VLgUyFSxhfSmdKlVsRZZqOp8D1LU/nH54AAAA1QZ5/\n",
       "RTRMJ/8An2xoRzOnF9a28KVYvwjANRQ9biAImOcUZwQz0FRs0lxXdqlDRBiYUL0WtYEAAABJAZ6A\n",
       "akI/AL9MgCLlv7ckRTeiwIvB+ACKuk1MaDbNRpJLAsPYJEu4Mfc+zVg1sigkwjIuf73y8TBHiUdM\n",
       "/JPMaI2uWcMPTwyAuAAAAG9BmoRJqEFomUwIZ//+nhAE99CEADfAccE5rzJgWFJzJ5Z+waDIwbFG\n",
       "lxPipugTZXDkRFA1NifkbL/s45547Vn0FJUJiQe9qQP1RASWTmbkjCQFV29/WKfGQElJ/mzz9wbh\n",
       "ACH5jdArPtTt7kIsgOEAAABQQZ6iRREsJ/8An3nB8h06XrVD6BssC0YgAUhwNIxbR8TKtzu9uXgG\n",
       "zd+4LzZ0j/FPm+ESlfjibs5qqcN/8IQzViHKw27GdeN0kk0EWZM3qUAAAAA6AZ7DakI/AZzeD2v4\n",
       "O3ZyRf2gsCQeSwBVq2HwAfc17W9G9l0s4gWTKmQplb/9HPB+q9JXkqSHHq7P7QAAAGZBmsZJqEFs\n",
       "mUwUTDP//p4QBPatBbqAQaMB9omArEBGufWXw0pOc9XIgFggfBHS6oXuY/yO7/rIhTAuris+owsD\n",
       "J/iYNi5sQTEOcbjky3NpnZ69ULcI7kzM70NaAaPXgp/CBxsz5IEAAAA6AZ7lakI/AZwqPTr/QK/v\n",
       "jj9JCFaNBgBDysjQJJwz8lxErI54dfexyT5PeZVB/PIbhTy3G3mg2pYq9wAAAFpBmuhJ4QpSZTBS\n",
       "wz/+nhAGR6EIAG+A44JzXmTBYQuYIJRzV6+26RG+Nsg2WpRpl+rHmlovoEGdxhkgTKXanAaHuZ/w\n",
       "MY6RGoEXdIzzTHp5Zej/l0LeYm9w9j8AAAA7AZ8HakI/AeaI9zSkgvEQMAHQCVz2f3R1xTlriy42\n",
       "BSIEE3cO3/Uhu3b3vpwSAfTInW1WM607rK6mLzgAAABoQZsLSeEOiZTAhn/+nhAGRLnnsAG0AA6U\n",
       "TAViBgQOp1dg3UFNAzqLMaJqqD/Or8HLPubxX3Ky3t8J83SfYUjQMCFXYHl7b/XimzzWksgzImZh\n",
       "x3WOBcOSp8y4tHE03DYHJHsMrr8Xa3kAAAA9QZ8pRRU8J/8BmhX4EoQW3iqSvkF9lo1IGtmgCHco\n",
       "KicUQfQJMf+XJpR3UjVp4pPjw6bHkyb6vSsc24Yo/QAAADwBn0pqQj8BdMU6XoE6ERavTNgCt9Sb\n",
       "/cFXbaDGcjCD+ap08OPoEshlrJmBrj+WOfUocXnX3E8qQSxJVVMAAABaQZtOSahBaJlMCGf//p4Q\n",
       "BWvXQSZuIFUABUZwhftFJTrNGPHkwiGU//CJdp4DIqDUFc3RbAXi9lGiZaXvcSGgNshiX9OtsNEE\n",
       "Z+KHYOSxGQoQ5yQr6FeLHw/AAAAATUGfbEURLCf/AmkVnRYMPuq+dYMAEZGgqB/VF1RuEScpU/V5\n",
       "uPY0WeVWAlzsAEp65BU7I0L7ZtC2EdKka8/X6xVtZshPohyRY//MZJjRAAAANQGfjWpCPwGmoFcA\n",
       "BOtdTzhCVLn3rRF2rKofpvF3fk+J6emmm0BJlaWUdjCjBv0aTKvnOZY5AAAAhEGbkkmoQWyZTAhf\n",
       "//6MsAWvmtzPk2gu4/ITEvfyeOAUFafjTH0gpWWxnZXoNPxJpUcJHcb34LkxKQtxoDYtc2FVV7ZX\n",
       "F3ye2ETu4rHEO2tgyGGU5QnIXIynibr7xV9R9MS6y+VdJiuqaNQpy6619Q22bWBO8geMhVyoabUM\n",
       "KOasWBPZQQAAAFBBn7BFFSwn/wGbfcABdQqJ+AXX7+GRoiUJ2hGMDN+EfhxhpNTn88J8teRJGDVL\n",
       "JV9Ay+u49wkQ10+FIMLAcistD5FKYwbslEYELHwH26+LaAAAADEBn890Qj8DXMlVatXJu/wuAE0y\n",
       "2xdUjohe3wHfPd+X21EJY69GiCXz1gfCbAx8YVSQAAAAWwGf0WpCPwNbNWjaqqDj8fjXi0ABKa5n\n",
       "B/YQ7/WEkj/0RANgUNlY+qN9Qsbn7D19liXkHYELW7tk7vSXCFbTt35tYjegeBfYXO8fL9propHB\n",
       "S0P0s3BhAx1x4Q8AAAB9QZvTSahBbJlMCF///oywAwXCWqOf6ObX+XJ5B+ABFBKhbn36T+2Lwcg1\n",
       "Y1IhlBDXmK801XEp6KjZU2R6eFFTi2pIwB4p/aJ4IRXwPqkBowuzvi6j9BTEWs+8zXnvS38OeUTy\n",
       "YiZJCSD8cMYS7NvhjLEwPi/rRvz4MRYxIbMAAABsQZv1SeEKUmUwUVLC//6MsAJT81y/5mvS0NWW\n",
       "z8FYafYAcZaTkYjay9EcvXC9UCm7oLnZszAeSKDMOPzhG8Hq+i7emDAvbu3SYDVKzN73ASEI1rd6\n",
       "XZT3kysxLStYQJ+zfQujmq3ubwPtn+6XAAAAUwGeFGpCPwC/FVn8kIRgF1a1WNQqvcCwnY95ztvy\n",
       "rAlcEtBgfuhq0WHrLUiPADon3LjqIceDaEaDel2AMjDRRmoBfBvJ4Qn+ZwboJebZhFXigOOBAAAA\n",
       "e0GaGEnhDomUwIX//oywBIddv7pEedPABjhvDmSix0Ppbc6Xfbf1z5XpgNU9U9u8VVuo/brJKVwh\n",
       "sCoyRsQ4brOwWb/tmxynYZY9NscJq1MoDEjsulJ7ESM2qMx8ThpSa1MxCDHJbBsMX09KtlJdxlMF\n",
       "Lh58FJ6tPqpgQAAAAEpBnjZFFTwn/wE13BxpPxxNk39y5EcMCweDUDVPcz9qvTjEyIm6hxtQtgWS\n",
       "sVH40+7n33W0E4D/1NSQ4hvs+i46NzA8G7gQlXg+4QAAAFEBnldqQj8BdMUnYI11QNAHp+B8v0ks\n",
       "vGDQFpVrSUAGmGhZUd86OG2rfbU5Yj7qKIsChXlBWsJmhPbWlCMis7MyewSKL6SkikPWds5C42En\n",
       "cxcAAACLQZpaSahBaJlMFPC//oywBIEcD1ozy/5RzkgAAcYlCaob9h7BxvfguTEr2hUS7BvnwsLK\n",
       "BJZGAE3ZCmEpnOUQ1K47R+C7cIVtBGbRQL5RgUh2SkdmYlwPv0CukEaQ+47PEO+fuG4qVGew1JpI\n",
       "49kmqObY17IdNBnOfZWhTH0UD5d+by6ih38QhI2aYAAAAFoBnnlqQj8BczU368OgAmkXwHDrJUAh\n",
       "Cj6snI+aGuiuR0DVDv4FahRSkGhBNJYljpeZFpJV6ue5oemuI3sajq+0LCpyHBtlCGxiIsA2NJOK\n",
       "G+y2PpSuLo8tUvEAAABJQZp7SeEKUmUwIX/+jLACQsI0iogGoOc0+AMkdSzkFfOH2vcZGikCMZ+X\n",
       "GoGtWItHHdgHu1q6Yy+dQpJKRAlYzLCXVN7ItcWLgAAAAHVBmp1J4Q6JlMFNEwr//jhACLfJievd\n",
       "gjEEUF+AUlO8Fpoa8S0f/VfDErIRFxAqdRa8Hyak6kfAQHLDgYZBP9eGe4/7hOv/N/nKRpDVZTmA\n",
       "8UpeHlZZoPRGXHhB6zNJPWit8bVVpaVuqlAnwb9ZTZDgHKtlDdcAAAA/AZ68akI/ALoq3/3oKQlL\n",
       "PeordjfiwAhqATO3wlKUM9juIX2UOrUcDSksTxwMa6lsT72xpEVBEzSeq+ynDbGxAAAAdkGav0nh\n",
       "DyZTBTwj//3hAAi3uqvddW/aiRZb5mtAHNC6THRUOR8Z5XG85DllIM05sEHgtQA+A7GU8dRn8sUJ\n",
       "FrwLS4MdKqF3sfJ61AlDorWic52VxvhFP6pC/3iYKuHtRE/mv+ITYbwBL7sOccxt6fkBPvTj5CsA\n",
       "AABEAZ7eakI/AC/E1nufcY1XtxAAi1ef3okYeJiO+5WOY96Mi5ZZ0Nc8lU3weVQgWpFrIL6ZNaN+\n",
       "MSBFBZGy8kPsVNjKCmAAAAX2bW9vdgAAAGxtdmhkAAAAAAAAAAAAAAAAAAAD6AAABkAAAQAAAQAA\n",
       "AAAAAAAAAAAAAAEAAAAAAAAAAAAAAAAAAAABAAAAAAAAAAAAAAAAAABAAAAAAAAAAAAAAAAAAAAA\n",
       "AAAAAAAAAAAAAAAAAAAAAgAABSB0cmFrAAAAXHRraGQAAAADAAAAAAAAAAAAAAABAAAAAAAABkAA\n",
       "AAAAAAAAAAAAAAAAAAAAAAEAAAAAAAAAAAAAAAAAAAABAAAAAAAAAAAAAAAAAABAAAAAAbAAAAEg\n",
       "AAAAAAAkZWR0cwAAABxlbHN0AAAAAAAAAAEAAAZAAAACAAABAAAAAASYbWRpYQAAACBtZGhkAAAA\n",
       "AAAAAAAAAAAAAAAoAAAAQABVxAAAAAAALWhkbHIAAAAAAAAAAHZpZGUAAAAAAAAAAAAAAABWaWRl\n",
       "b0hhbmRsZXIAAAAEQ21pbmYAAAAUdm1oZAAAAAEAAAAAAAAAAAAAACRkaW5mAAAAHGRyZWYAAAAA\n",
       "AAAAAQAAAAx1cmwgAAAAAQAABANzdGJsAAAAs3N0c2QAAAAAAAAAAQAAAKNhdmMxAAAAAAAAAAEA\n",
       "AAAAAAAAAAAAAAAAAAAAAbABIABIAAAASAAAAAAAAAABAAAAAAAAAAAAAAAAAAAAAAAAAAAAAAAA\n",
       "AAAAAAAAAAAAGP//AAAAMWF2Y0MBZAAV/+EAGGdkABWs2UGwloQAAAMABAAAAwFAPFi2WAEABmjr\n",
       "48siwAAAABx1dWlka2hA8l8kT8W6OaUbzwMj8wAAAAAAAAAYc3R0cwAAAAAAAAABAAAAQAAAAQAA\n",
       "AAAUc3RzcwAAAAAAAAABAAAAAQAAAdhjdHRzAAAAAAAAADkAAAABAAACAAAAAAEAAAMAAAAAAQAA\n",
       "AQAAAAABAAAFAAAAAAEAAAIAAAAAAQAAAAAAAAABAAABAAAAAAEAAAUAAAAAAQAAAgAAAAABAAAA\n",
       "AAAAAAEAAAEAAAAAAQAABQAAAAABAAACAAAAAAEAAAAAAAAAAQAAAQAAAAABAAADAAAAAAEAAAEA\n",
       "AAAAAQAABAAAAAACAAABAAAAAAEAAAQAAAAAAgAAAQAAAAABAAADAAAAAAEAAAEAAAAAAQAAAgAA\n",
       "AAABAAAFAAAAAAEAAAIAAAAAAQAAAAAAAAABAAABAAAAAAEAAAIAAAAAAQAABAAAAAACAAABAAAA\n",
       "AAEAAAQAAAAAAgAAAQAAAAABAAADAAAAAAEAAAEAAAAAAQAAAwAAAAABAAABAAAAAAEAAAQAAAAA\n",
       "AgAAAQAAAAABAAAEAAAAAAIAAAEAAAAAAQAABQAAAAABAAACAAAAAAEAAAAAAAAAAQAAAQAAAAAB\n",
       "AAACAAAAAAEAAAMAAAAAAQAAAQAAAAABAAAEAAAAAAIAAAEAAAAAAQAAAwAAAAABAAABAAAAAAEA\n",
       "AAIAAAAAAQAAAwAAAAABAAABAAAAAAEAAAMAAAAAAQAAAQAAAAAcc3RzYwAAAAAAAAABAAAAAQAA\n",
       "AEAAAAABAAABFHN0c3oAAAAAAAAAAAAAAEAAAAPnAAAAUgAAACgAAABDAAAAGgAAADoAAAARAAAA\n",
       "FwAAABEAAAAPAAAADwAAAGYAAAAbAAAADwAAABkAAABnAAAAMgAAAHoAAABLAAAANAAAAJYAAABf\n",
       "AAAAPgAAAG0AAABFAAAAYQAAAFoAAABJAAAAPAAAACEAAAA5AAAAWAAAADkAAABNAAAAcwAAAFQA\n",
       "AAA+AAAAagAAAD4AAABeAAAAPwAAAGwAAABBAAAAQAAAAF4AAABRAAAAOQAAAIgAAABUAAAANQAA\n",
       "AF8AAACBAAAAcAAAAFcAAAB/AAAATgAAAFUAAACPAAAAXgAAAE0AAAB5AAAAQwAAAHoAAABIAAAA\n",
       "FHN0Y28AAAAAAAAAAQAAACwAAABidWR0YQAAAFptZXRhAAAAAAAAACFoZGxyAAAAAAAAAABtZGly\n",
       "YXBwbAAAAAAAAAAAAAAAAC1pbHN0AAAAJal0b28AAAAdZGF0YQAAAAEAAAAATGF2ZjU3LjgzLjEw\n",
       "MA==\n",
       "\">\n",
       "  Your browser does not support the video tag.\n",
       "</video>"
      ],
      "text/plain": [
       "<IPython.core.display.HTML object>"
      ]
     },
     "execution_count": 15,
     "metadata": {},
     "output_type": "execute_result"
    }
   ],
   "source": [
    "fig = plt.figure()\n",
    "plt.axis('off')\n",
    "ims = []\n",
    "\n",
    "env = make_pong()\n",
    "obs = env.reset()\n",
    "h, c = memory.reset()\n",
    "h = h.to(device)\n",
    "c = c.to(device)\n",
    "for _ in range(64):\n",
    "    obs = torch.from_numpy(obs).unsqueeze(0).to(device)\n",
    "    z = vision.encode(obs).unsqueeze(0)\n",
    "    s = torch.cat([z, h, c], dim=-1)\n",
    "    a = controller.act(s)\n",
    "    _, (h, c) = memory(z, a, h, c)\n",
    "    h = h.detach()\n",
    "    c = c.detach()\n",
    "    action = a.squeeze().cpu().numpy()\n",
    "    obs, reward, done, _ = env.step(action)\n",
    "    ims.append([plt.imshow(obs.transpose(1, 2, 0), animated=True)])\n",
    "anim = anime.ArtistAnimation(fig, ims, interval=25, blit=True)\n",
    "plt.close()\n",
    "HTML(anim.to_html5_video())"
   ]
  },
  {
   "cell_type": "markdown",
   "metadata": {},
   "source": [
    "Alright, we can move on to data collection then."
   ]
  },
  {
   "cell_type": "markdown",
   "metadata": {},
   "source": [
    "## Data collection"
   ]
  },
  {
   "cell_type": "markdown",
   "metadata": {},
   "source": [
    "In this section, we let the agent collect the environment data to train its world model. Since we're only interested in transition data ($s_t, a_t, s_{t+1}, a_{t+1}, ...$),"
   ]
  },
  {
   "cell_type": "code",
   "execution_count": 16,
   "metadata": {},
   "outputs": [],
   "source": [
    "Transition = namedtuple('Transition', ['action', 'obs'])"
   ]
  },
  {
   "cell_type": "markdown",
   "metadata": {},
   "source": [
    "**Note**: as you can see below, our `TransitionBuffer.reset` takes the first observation, returned by `env.reset()`. This means that each time a transition $\\tau_t$ is pushed into the buffer, `transition.obs` is not $o_t$ but $o_{t+1}$."
   ]
  },
  {
   "cell_type": "code",
   "execution_count": 17,
   "metadata": {},
   "outputs": [],
   "source": [
    "class TransitionBuffer(data.Dataset):\n",
    "    def __init__(self, env, capacity):\n",
    "        self.capacity = capacity\n",
    "        self.obs = np.zeros((self.capacity+1, *env.observation_space.shape), dtype=np.float32)\n",
    "        self.action = np.zeros((self.capacity, *env.action_space.shape), dtype=np.float32)\n",
    "        self._t = 0\n",
    "\n",
    "    @property\n",
    "    def full(self):\n",
    "        return self._t == self.capacity\n",
    "\n",
    "    def reset(self, obs):\n",
    "        self.obs.fill(0)\n",
    "        self.action.fill(0)\n",
    "        self._t = 0\n",
    "        self.obs[self._t] = obs\n",
    "\n",
    "    def push(self, transition):\n",
    "        assert not self.full\n",
    "        self.obs[self._t+1] = transition.obs\n",
    "        self.action[self._t] = transition.action\n",
    "        self._t += 1\n",
    "    \n",
    "    def __getitem__(self, i):\n",
    "        return self.obs[i], self.action[i]\n",
    "    \n",
    "    def __len__(self):\n",
    "        return self.capacity"
   ]
  },
  {
   "cell_type": "code",
   "execution_count": 18,
   "metadata": {},
   "outputs": [],
   "source": [
    "class ObservationSampler(data.Sampler):\n",
    "    def __init__(self, data_source, batch_size):\n",
    "        self.data_source = data_source\n",
    "        self.batch_size = batch_size\n",
    "\n",
    "    def __iter__(self):\n",
    "        indices = np.random.permutation(len(self.data_source))\n",
    "        for i in range(0, len(indices), self.batch_size):\n",
    "            batch = []\n",
    "            for j in indices[i:i+self.batch_size]:\n",
    "                batch.append(self.data_source[j][0])\n",
    "            yield torch.from_numpy(np.stack(batch))\n",
    "\n",
    "    def __len__(self):\n",
    "        num_data_points = len(self.data_source)\n",
    "        last = int(num_data_points % self.batch_size > 0)\n",
    "        return num_data_points // self.batch_size + last"
   ]
  },
  {
   "cell_type": "code",
   "execution_count": 19,
   "metadata": {},
   "outputs": [],
   "source": [
    "buffer = TransitionBuffer(env, 10000)\n",
    "sampler = ObservationSampler(buffer, 16)"
   ]
  },
  {
   "cell_type": "code",
   "execution_count": 20,
   "metadata": {},
   "outputs": [],
   "source": [
    "def explore(env, buffer):\n",
    "    obs = env.reset()\n",
    "    buffer.reset(obs)\n",
    "    h, c = memory.reset()\n",
    "    h = h.to(device)\n",
    "    c = c.to(device)\n",
    "    while not buffer.full:\n",
    "        obs = torch.from_numpy(obs).unsqueeze(0).to(device)\n",
    "        z = vision.encode(obs).unsqueeze(0)\n",
    "        s = torch.cat([z, h, c], dim=-1)\n",
    "        a = controller.act(s)\n",
    "        _, (h, c) = memory(z, a, h, c)\n",
    "        h = h.detach()\n",
    "        c = c.detach()\n",
    "        action = a.squeeze().cpu().numpy()\n",
    "        obs, reward, done, _ = env.step(action)\n",
    "        buffer.push(Transition(action=action, obs=obs))\n",
    "        if done:\n",
    "            obs = env.reset()"
   ]
  },
  {
   "cell_type": "code",
   "execution_count": 21,
   "metadata": {},
   "outputs": [],
   "source": [
    "explore(env, buffer)"
   ]
  },
  {
   "cell_type": "code",
   "execution_count": 22,
   "metadata": {
    "scrolled": false
   },
   "outputs": [
    {
     "data": {
      "image/png": "[encoded data removed]",
      "text/plain": [
       "<Figure size 576x576 with 1 Axes>"
      ]
     },
     "metadata": {
      "needs_background": "light"
     },
     "output_type": "display_data"
    }
   ],
   "source": [
    "batch = next(iter(sampler))\n",
    "grid = make_grid(batch, nrow=4, normalize=True).numpy()\n",
    "plt.figure(figsize=(8, 8))\n",
    "plt.imshow(grid.transpose(1, 2, 0))\n",
    "plt.show()"
   ]
  },
  {
   "cell_type": "markdown",
   "metadata": {},
   "source": [
    "## Training V model"
   ]
  },
  {
   "cell_type": "code",
   "execution_count": 23,
   "metadata": {},
   "outputs": [],
   "source": [
    "def recon_loss(recon_x, x):\n",
    "    mse = F.mse_loss(recon_x, x, reduction='none')\n",
    "    mse = torch.sum(mse.view(mse.size(0), -1), dim=1)\n",
    "    return torch.mean(mse, dim=0)"
   ]
  },
  {
   "cell_type": "code",
   "execution_count": 24,
   "metadata": {},
   "outputs": [],
   "source": [
    "def latent_loss(mu, logvar):\n",
    "    kld = -0.5 * (1 + logvar - mu.pow(2) - logvar.exp())\n",
    "    return kld.sum(1).mean(0, True)"
   ]
  },
  {
   "cell_type": "code",
   "execution_count": 25,
   "metadata": {},
   "outputs": [],
   "source": [
    "optimizer = optim.Adam(params=vision.parameters())"
   ]
  },
  {
   "cell_type": "code",
   "execution_count": 26,
   "metadata": {},
   "outputs": [
    {
     "data": {
      "application/vnd.jupyter.widget-view+json": {
       "model_id": "da12eb2762b34c029adc8476f8474e7c",
       "version_major": 2,
       "version_minor": 0
      },
      "text/plain": [
       "HBox(children=(IntProgress(value=0, max=10), HTML(value='')))"
      ]
     },
     "metadata": {},
     "output_type": "display_data"
    },
    {
     "data": {
      "application/vnd.jupyter.widget-view+json": {
       "model_id": "4b668ecd519746f4aefce4f15ecfacae",
       "version_major": 2,
       "version_minor": 0
      },
      "text/plain": [
       "HBox(children=(IntProgress(value=0, max=625), HTML(value='')))"
      ]
     },
     "metadata": {},
     "output_type": "display_data"
    },
    {
     "name": "stdout",
     "output_type": "stream",
     "text": [
      "\n"
     ]
    },
    {
     "ename": "TypeError",
     "evalue": "expected Tensor as element 0 in argument 0, but got NoneType",
     "output_type": "error",
     "traceback": [
      "\u001b[0;31m---------------------------------------------------------------------------\u001b[0m",
      "\u001b[0;31mTypeError\u001b[0m                                 Traceback (most recent call last)",
      "\u001b[0;32m<ipython-input-26-95a191360c60>\u001b[0m in \u001b[0;36m<module>\u001b[0;34m\u001b[0m\n\u001b[1;32m      3\u001b[0m         \u001b[0mx\u001b[0m \u001b[0;34m=\u001b[0m \u001b[0mx\u001b[0m\u001b[0;34m.\u001b[0m\u001b[0mto\u001b[0m\u001b[0;34m(\u001b[0m\u001b[0mdevice\u001b[0m\u001b[0;34m)\u001b[0m\u001b[0;34m\u001b[0m\u001b[0;34m\u001b[0m\u001b[0m\n\u001b[1;32m      4\u001b[0m         \u001b[0mmu\u001b[0m\u001b[0;34m,\u001b[0m \u001b[0mlogvar\u001b[0m\u001b[0;34m,\u001b[0m \u001b[0mz\u001b[0m\u001b[0;34m,\u001b[0m \u001b[0mx_\u001b[0m \u001b[0;34m=\u001b[0m \u001b[0mvision\u001b[0m\u001b[0;34m(\u001b[0m\u001b[0mx\u001b[0m\u001b[0;34m)\u001b[0m\u001b[0;34m\u001b[0m\u001b[0;34m\u001b[0m\u001b[0m\n\u001b[0;32m----> 5\u001b[0;31m         \u001b[0mmse\u001b[0m \u001b[0;34m=\u001b[0m \u001b[0mrecon_loss\u001b[0m\u001b[0;34m(\u001b[0m\u001b[0mx_\u001b[0m\u001b[0;34m,\u001b[0m \u001b[0mx\u001b[0m\u001b[0;34m)\u001b[0m\u001b[0;34m\u001b[0m\u001b[0;34m\u001b[0m\u001b[0m\n\u001b[0m\u001b[1;32m      6\u001b[0m         \u001b[0mkld\u001b[0m \u001b[0;34m=\u001b[0m \u001b[0mlatent_loss\u001b[0m\u001b[0;34m(\u001b[0m\u001b[0mmu\u001b[0m\u001b[0;34m,\u001b[0m \u001b[0mlogvar\u001b[0m\u001b[0;34m)\u001b[0m\u001b[0;34m\u001b[0m\u001b[0;34m\u001b[0m\u001b[0m\n\u001b[1;32m      7\u001b[0m         \u001b[0mloss\u001b[0m \u001b[0;34m=\u001b[0m \u001b[0mmse\u001b[0m \u001b[0;34m+\u001b[0m \u001b[0mkld\u001b[0m\u001b[0;34m\u001b[0m\u001b[0;34m\u001b[0m\u001b[0m\n",
      "\u001b[0;32m<ipython-input-23-fd4de0f9c41b>\u001b[0m in \u001b[0;36mrecon_loss\u001b[0;34m(recon_x, x)\u001b[0m\n\u001b[1;32m      1\u001b[0m \u001b[0;32mdef\u001b[0m \u001b[0mrecon_loss\u001b[0m\u001b[0;34m(\u001b[0m\u001b[0mrecon_x\u001b[0m\u001b[0;34m,\u001b[0m \u001b[0mx\u001b[0m\u001b[0;34m)\u001b[0m\u001b[0;34m:\u001b[0m\u001b[0;34m\u001b[0m\u001b[0;34m\u001b[0m\u001b[0m\n\u001b[0;32m----> 2\u001b[0;31m     \u001b[0mmse\u001b[0m \u001b[0;34m=\u001b[0m \u001b[0mF\u001b[0m\u001b[0;34m.\u001b[0m\u001b[0mmse_loss\u001b[0m\u001b[0;34m(\u001b[0m\u001b[0mrecon_x\u001b[0m\u001b[0;34m,\u001b[0m \u001b[0mx\u001b[0m\u001b[0;34m,\u001b[0m \u001b[0mreduction\u001b[0m\u001b[0;34m=\u001b[0m\u001b[0;34m'none'\u001b[0m\u001b[0;34m)\u001b[0m\u001b[0;34m\u001b[0m\u001b[0;34m\u001b[0m\u001b[0m\n\u001b[0m\u001b[1;32m      3\u001b[0m     \u001b[0mmse\u001b[0m \u001b[0;34m=\u001b[0m \u001b[0mtorch\u001b[0m\u001b[0;34m.\u001b[0m\u001b[0msum\u001b[0m\u001b[0;34m(\u001b[0m\u001b[0mmse\u001b[0m\u001b[0;34m.\u001b[0m\u001b[0mview\u001b[0m\u001b[0;34m(\u001b[0m\u001b[0mmse\u001b[0m\u001b[0;34m.\u001b[0m\u001b[0msize\u001b[0m\u001b[0;34m(\u001b[0m\u001b[0;36m0\u001b[0m\u001b[0;34m)\u001b[0m\u001b[0;34m,\u001b[0m \u001b[0;34m-\u001b[0m\u001b[0;36m1\u001b[0m\u001b[0;34m)\u001b[0m\u001b[0;34m,\u001b[0m \u001b[0mdim\u001b[0m\u001b[0;34m=\u001b[0m\u001b[0;36m1\u001b[0m\u001b[0;34m)\u001b[0m\u001b[0;34m\u001b[0m\u001b[0;34m\u001b[0m\u001b[0m\n\u001b[1;32m      4\u001b[0m     \u001b[0;32mreturn\u001b[0m \u001b[0mtorch\u001b[0m\u001b[0;34m.\u001b[0m\u001b[0mmean\u001b[0m\u001b[0;34m(\u001b[0m\u001b[0mmse\u001b[0m\u001b[0;34m,\u001b[0m \u001b[0mdim\u001b[0m\u001b[0;34m=\u001b[0m\u001b[0;36m0\u001b[0m\u001b[0;34m)\u001b[0m\u001b[0;34m\u001b[0m\u001b[0;34m\u001b[0m\u001b[0m\n",
      "\u001b[0;32m~/anaconda3/envs/notebooks/lib/python3.7/site-packages/torch/nn/functional.py\u001b[0m in \u001b[0;36mmse_loss\u001b[0;34m(input, target, size_average, reduce, reduction)\u001b[0m\n\u001b[1;32m   2153\u001b[0m             \u001b[0mret\u001b[0m \u001b[0;34m=\u001b[0m \u001b[0mtorch\u001b[0m\u001b[0;34m.\u001b[0m\u001b[0mmean\u001b[0m\u001b[0;34m(\u001b[0m\u001b[0mret\u001b[0m\u001b[0;34m)\u001b[0m \u001b[0;32mif\u001b[0m \u001b[0mreduction\u001b[0m \u001b[0;34m==\u001b[0m \u001b[0;34m'mean'\u001b[0m \u001b[0;32melse\u001b[0m \u001b[0mtorch\u001b[0m\u001b[0;34m.\u001b[0m\u001b[0msum\u001b[0m\u001b[0;34m(\u001b[0m\u001b[0mret\u001b[0m\u001b[0;34m)\u001b[0m\u001b[0;34m\u001b[0m\u001b[0;34m\u001b[0m\u001b[0m\n\u001b[1;32m   2154\u001b[0m     \u001b[0;32melse\u001b[0m\u001b[0;34m:\u001b[0m\u001b[0;34m\u001b[0m\u001b[0;34m\u001b[0m\u001b[0m\n\u001b[0;32m-> 2155\u001b[0;31m         \u001b[0mexpanded_input\u001b[0m\u001b[0;34m,\u001b[0m \u001b[0mexpanded_target\u001b[0m \u001b[0;34m=\u001b[0m \u001b[0mtorch\u001b[0m\u001b[0;34m.\u001b[0m\u001b[0mbroadcast_tensors\u001b[0m\u001b[0;34m(\u001b[0m\u001b[0minput\u001b[0m\u001b[0;34m,\u001b[0m \u001b[0mtarget\u001b[0m\u001b[0;34m)\u001b[0m\u001b[0;34m\u001b[0m\u001b[0;34m\u001b[0m\u001b[0m\n\u001b[0m\u001b[1;32m   2156\u001b[0m         \u001b[0mret\u001b[0m \u001b[0;34m=\u001b[0m \u001b[0mtorch\u001b[0m\u001b[0;34m.\u001b[0m\u001b[0m_C\u001b[0m\u001b[0;34m.\u001b[0m\u001b[0m_nn\u001b[0m\u001b[0;34m.\u001b[0m\u001b[0mmse_loss\u001b[0m\u001b[0;34m(\u001b[0m\u001b[0mexpanded_input\u001b[0m\u001b[0;34m,\u001b[0m \u001b[0mexpanded_target\u001b[0m\u001b[0;34m,\u001b[0m \u001b[0m_Reduction\u001b[0m\u001b[0;34m.\u001b[0m\u001b[0mget_enum\u001b[0m\u001b[0;34m(\u001b[0m\u001b[0mreduction\u001b[0m\u001b[0;34m)\u001b[0m\u001b[0;34m)\u001b[0m\u001b[0;34m\u001b[0m\u001b[0;34m\u001b[0m\u001b[0m\n\u001b[1;32m   2157\u001b[0m     \u001b[0;32mreturn\u001b[0m \u001b[0mret\u001b[0m\u001b[0;34m\u001b[0m\u001b[0;34m\u001b[0m\u001b[0m\n",
      "\u001b[0;32m~/anaconda3/envs/notebooks/lib/python3.7/site-packages/torch/functional.py\u001b[0m in \u001b[0;36mbroadcast_tensors\u001b[0;34m(*tensors)\u001b[0m\n\u001b[1;32m     50\u001b[0m                 [0, 1, 2]])\n\u001b[1;32m     51\u001b[0m     \"\"\"\n\u001b[0;32m---> 52\u001b[0;31m     \u001b[0;32mreturn\u001b[0m \u001b[0mtorch\u001b[0m\u001b[0;34m.\u001b[0m\u001b[0m_C\u001b[0m\u001b[0;34m.\u001b[0m\u001b[0m_VariableFunctions\u001b[0m\u001b[0;34m.\u001b[0m\u001b[0mbroadcast_tensors\u001b[0m\u001b[0;34m(\u001b[0m\u001b[0mtensors\u001b[0m\u001b[0;34m)\u001b[0m\u001b[0;34m\u001b[0m\u001b[0;34m\u001b[0m\u001b[0m\n\u001b[0m\u001b[1;32m     53\u001b[0m \u001b[0;34m\u001b[0m\u001b[0m\n\u001b[1;32m     54\u001b[0m \u001b[0;34m\u001b[0m\u001b[0m\n",
      "\u001b[0;31mTypeError\u001b[0m: expected Tensor as element 0 in argument 0, but got NoneType"
     ]
    }
   ],
   "source": [
    "for ep in tqdm(range(10)):\n",
    "    for i, x in enumerate(tqdm(sampler, leave=False)):\n",
    "        x = x.to(device)\n",
    "        mu, logvar, z, x_ = vision(x)\n",
    "        mse = recon_loss(x_, x)\n",
    "        kld = latent_loss(mu, logvar)\n",
    "        loss = mse + kld\n",
    "        optimizer.zero_grad()\n",
    "        loss.backward()\n",
    "        optimizer.step()\n",
    "        if i % 100 == 0:\n",
    "            print(f\"Episode {ep} iter. {i}\")\n",
    "            print(f\"MSE = {mse}\")\n",
    "            print(f\"KLD = {kld}\")\n",
    "            print(f\"loss = {loss}\")"
   ]
  }
 ],
 "metadata": {
  "kernelspec": {
   "display_name": "notebooks",
   "language": "python",
   "name": "notebooks"
  },
  "language_info": {
   "codemirror_mode": {
    "name": "ipython",
    "version": 3
   },
   "file_extension": ".py",
   "mimetype": "text/x-python",
   "name": "python",
   "nbconvert_exporter": "python",
   "pygments_lexer": "ipython3",
   "version": "3.7.3"
  }
 },
 "nbformat": 4,
 "nbformat_minor": 2
}
