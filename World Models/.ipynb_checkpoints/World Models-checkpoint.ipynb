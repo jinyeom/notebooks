{
 "cells": [
  {
   "cell_type": "markdown",
   "metadata": {},
   "source": [
    "# World Models\n",
    "**Jin Yeom**  \n",
    "jin.yeom@hudl.com"
   ]
  },
  {
   "cell_type": "code",
   "execution_count": 18,
   "metadata": {},
   "outputs": [],
   "source": [
    "import gym\n",
    "from gym.spaces import Box\n",
    "import numpy as np\n",
    "from PIL import Image\n",
    "from matplotlib import pyplot as plt\n",
    "from matplotlib import animation as anime\n",
    "from IPython.display import HTML\n",
    "import torch\n",
    "from torch import nn\n",
    "from torch.nn import functional as F"
   ]
  },
  {
   "cell_type": "markdown",
   "metadata": {},
   "source": [
    "This notebook implements **[World Models](https://arxiv.org/abs/1803.10122)** (Ha and Schmidhuber, 2018). This work proposes a framework of model-based deep reinforcement learning. Two key differences in this work from more commonly seen deep RL algorithms (e.g., DQN, PPO, DDPG, etc.) are that 1) feature learning is separated from the controller, i.e., a world model agent isn't trained with a rather strange scheme of learning where it can only learn to see via reward signals, and 2) the agent's model is trained in an unsupervised fashion from its trajectory data; once trained, it can simulate the environment within a latent space (they describe this simulation as \"dreaming\").\n",
    "\n",
    "The proposed agent consists of three components: the vision model ($V$) and the memory model ($M$), which together define the agent's world model, and a controller ($C$) for selecting actions. Ha and Schmidhuber chose to use a convolutional VAE for $V$ and a mixture density recurrent network for $M$, and a single layered network for $C$, which was evolved via CMA-ES. Note that their choice of architecture is more of a proof of concept and can be enhanced with more advanced algorithms."
   ]
  },
  {
   "cell_type": "markdown",
   "metadata": {},
   "source": [
    "## Environment"
   ]
  },
  {
   "cell_type": "markdown",
   "metadata": {},
   "source": [
    "We'll start with something simple: **Atari 2600 Pong**."
   ]
  },
  {
   "cell_type": "code",
   "execution_count": 2,
   "metadata": {},
   "outputs": [
    {
     "data": {
      "image/png": "[encoded data removed]",
      "text/plain": [
       "<Figure size 432x288 with 1 Axes>"
      ]
     },
     "metadata": {
      "needs_background": "light"
     },
     "output_type": "display_data"
    }
   ],
   "source": [
    "env = gym.make('PongNoFrameskip-v4')\n",
    "obs = env.reset()\n",
    "plt.imshow(obs)\n",
    "plt.show()"
   ]
  },
  {
   "cell_type": "code",
   "execution_count": 3,
   "metadata": {},
   "outputs": [],
   "source": [
    "class ProcessFrame(gym.ObservationWrapper):\n",
    "    def __init__(self, env, size):\n",
    "        super(ProcessFrame, self).__init__(env)\n",
    "        self.size = size\n",
    "        self.observation_space = Box(low=0, high=1, shape=(3, size, size), dtype=np.float32)\n",
    "\n",
    "    def observation(self, obs):\n",
    "        obs = Image.fromarray(obs[34:194, :160, :])  # crop the center square\n",
    "        obs = np.array(obs.resize((self.size, self.size), resample=Image.BILINEAR))\n",
    "        obs = obs.transpose(2, 0, 1).astype(np.float32) / 255.0\n",
    "        return torch.from_numpy(obs)"
   ]
  },
  {
   "cell_type": "code",
   "execution_count": 4,
   "metadata": {},
   "outputs": [],
   "source": [
    "class FrameSkip(gym.Wrapper):\n",
    "    def __init__(self, env, frame_skip):\n",
    "        super(FrameSkip, self).__init__(env)\n",
    "        self._frame_skip = frame_skip\n",
    "\n",
    "    def step(self, action):\n",
    "        total_reward = 0.0\n",
    "        for _ in range(self._frame_skip):\n",
    "            obs, reward, done, info = self.env.step(action)\n",
    "            total_reward += reward\n",
    "            if done:\n",
    "                break\n",
    "        return obs, total_reward, done, info\n",
    "\n",
    "    def reset(self):\n",
    "        return self.env.reset()"
   ]
  },
  {
   "cell_type": "code",
   "execution_count": 5,
   "metadata": {},
   "outputs": [],
   "source": [
    "def make_pong():\n",
    "    env = gym.make('PongNoFrameskip-v4')\n",
    "    env = ProcessFrame(env, 64)\n",
    "    env = FrameSkip(env, 4)\n",
    "    return env"
   ]
  },
  {
   "cell_type": "code",
   "execution_count": 6,
   "metadata": {},
   "outputs": [
    {
     "data": {
      "text/html": [
       "<video width=\"432\" height=\"288\" controls autoplay loop>\n",
       "  <source type=\"video/mp4\" src=\"data:video/mp4;base64,AAAAHGZ0eXBNNFYgAAACAGlzb21pc28yYXZjMQAAAAhmcmVlAAAfNG1kYXQAAAKuBgX//6rcRem9\n",
       "5tlIt5Ys2CDZI+7veDI2NCAtIGNvcmUgMTUyIHIyODU0IGU5YTU5MDMgLSBILjI2NC9NUEVHLTQg\n",
       "QVZDIGNvZGVjIC0gQ29weWxlZnQgMjAwMy0yMDE3IC0gaHR0cDovL3d3dy52aWRlb2xhbi5vcmcv\n",
       "eDI2NC5odG1sIC0gb3B0aW9uczogY2FiYWM9MSByZWY9MyBkZWJsb2NrPTE6MDowIGFuYWx5c2U9\n",
       "MHgzOjB4MTEzIG1lPWhleCBzdWJtZT03IHBzeT0xIHBzeV9yZD0xLjAwOjAuMDAgbWl4ZWRfcmVm\n",
       "PTEgbWVfcmFuZ2U9MTYgY2hyb21hX21lPTEgdHJlbGxpcz0xIDh4OGRjdD0xIGNxbT0wIGRlYWR6\n",
       "b25lPTIxLDExIGZhc3RfcHNraXA9MSBjaHJvbWFfcXBfb2Zmc2V0PS0yIHRocmVhZHM9OSBsb29r\n",
       "YWhlYWRfdGhyZWFkcz0xIHNsaWNlZF90aHJlYWRzPTAgbnI9MCBkZWNpbWF0ZT0xIGludGVybGFj\n",
       "ZWQ9MCBibHVyYXlfY29tcGF0PTAgY29uc3RyYWluZWRfaW50cmE9MCBiZnJhbWVzPTMgYl9weXJh\n",
       "bWlkPTIgYl9hZGFwdD0xIGJfYmlhcz0wIGRpcmVjdD0xIHdlaWdodGI9MSBvcGVuX2dvcD0wIHdl\n",
       "aWdodHA9MiBrZXlpbnQ9MjUwIGtleWludF9taW49MjUgc2NlbmVjdXQ9NDAgaW50cmFfcmVmcmVz\n",
       "aD0wIHJjX2xvb2thaGVhZD00MCByYz1jcmYgbWJ0cmVlPTEgY3JmPTIzLjAgcWNvbXA9MC42MCBx\n",
       "cG1pbj0wIHFwbWF4PTY5IHFwc3RlcD00IGlwX3JhdGlvPTEuNDAgYXE9MToxLjAwAIAAAAdbZYiE\n",
       "ADP//vbsvgU1/Z/QlxEsxdpKcD4qpICAdzTAAAADAAB4HShe6DhKq9DAABt7rgNRfT6/zAM2wrRL\n",
       "vOgXBkAh0rgfWByvTAzEg4ZG9cNJAGbrYctlW8ZusuUND+ShIoPEfCWBaRXn+Cqo1y9Ooq6/UpW6\n",
       "fc0S57vAyJ1hgmrMSjlq/BqYnbHXsjXwmRWvhM2mp3v4ymzWWBF25HceX/rwAU8lbbu+URiZM0SE\n",
       "1j5e/Ly0Wr2p8c5ye3OiQ6tU5071mmqDtCb3GNjhooRGJY+N4xc6Wx1D3Pj2d9NAUsexLjn1eKZ+\n",
       "nFiijaTG/fIw0p434r7yFs4jdffyOsL7l2gtUdTPM6w3YdKg9+SVsbHual5+/0ws7duc0/CK1JAl\n",
       "/6FjgYXP+8tQqXtGfXaO5+M8tA0Ea2fzLct6oDEGNFg0/fnDWRmmWlI6I2Y+HobGKIYAj1BtAX/f\n",
       "v0A9eG3EQw5pVRMUb6sGoAuElLRZu6C29J7Jh+GTeb18qQDNTpPAcfzus552IqFRE5jZ6U3+CqBI\n",
       "8hvNiz3t8OY3Ols+8xPkLEkYWHGd6CK4ywitgUXZlG5e85qp0eVHPDbCHzo6YO2xMGJKpVJxjsnd\n",
       "tbajg76qnBu3gfa4X3JRVTUCfBsUQgHNxksVQCG2fN2HHj8ppkJgQUWYd9UtrGwmKmwRXXPgEedC\n",
       "QKcGuiS0S4SkhAR2/e1jtw7EzvvjT1rWcedeHfXb4Eftq8ZAGG3gwb53JysR1hALuKyaX9h2f8oj\n",
       "Dx1dKG43OxbjGY0Bez39iM3+ogwUqGsEjv6kXYgozKr78D5hxs3Nvno4ApZTQG6vofYf9aCoJS6f\n",
       "QqzMKfHM2Fr9TzoEf0LAjG3v5TgPSYxUIViBZtsRQ6oT4FRPJTRVQOrSQjUMSDiCZRekNtVHDtla\n",
       "KQI0JcZ7Hcy3GZi/IBdJWVpsU5GWDJxzurlaZTRrFIw4yH1KM03Zmj34T4dZZc6aQWtGS7jUdyE5\n",
       "Uvn0eUvo9vMR3tfmy1szXstEZghNYwBkw+2ZErb1rEAQ4ahSCbsC0Elc6LbdRSIxO0vpmlJ3X/LB\n",
       "ZJ3U+yih3JpqXQAABUTrOr7WsPgONPer3Id9UoyqGibcSdCpyottYK3pOdHGGGGvXGQw+aksqEzM\n",
       "AM9/LDsSqwm7nfs12ZwZ26rDhIPssPHnXxFx/vk55KwvlXZfZ5WEBdDcJra3lMSbX8mmP+nvQP0+\n",
       "5+uwY5R+C1SOIUUJ2j0QT+6f+h293ECelqJ98gWDierL71sm+UYknv20IQjEsXHoqj/45IPbiAh4\n",
       "TPabyehNW38JokS+B+TkVAs1HuHHAdvQqRvA8vPghz41mOyLskvoDh41bKK42OuCW4kk+aolzawG\n",
       "H+vSS34Cwtdm7tHSuJust/vtbwpS++/N0fapRfgQ3/10KpE+Y7PZqSEd9rp+U+jccs3aTh+xfeSX\n",
       "6npf5XRJpkQl6u8yAtUE7Ti8lEWw2cl72ct++Z1nJJh89/sFcaTB1sPfasb7z/5VA1Ys1gwCo/in\n",
       "qPQrRkG4cAsqYWB6R4cp65E2rRE7/o9dQ1fGbn27MHgkZ1d1xBzYq9i3yj+6nEAeuYWLe2Uol8Er\n",
       "3Vhp2nNYp/ykNcBqzmjXsWoEmdNza0K3rgAUX+Xo3s2hQ01tx9VugUBAKlSyeIYp45kif7HuhYV1\n",
       "jhLq9NebkxHHMYSsAtB9eJMgJfVPHon4Fu4kSyRnuK4HEOz5Op5XELiPdbXF9iOgaeduf7aUebeD\n",
       "bIpWPCHneHFncaBHkkgt8gKPVsHZU0w4kxx9kdFB5rTGa2pJ76D/q83uVaEbJ+WJOMV495f5XpQW\n",
       "jMXa9w5Hh/aHJeAErtygp8YhX+meOr4C8sudJp3A8FpRjzZsR3gXB+h+YZ3mO5P4D8xAAvBBsbgK\n",
       "uI1Q+8bQY4ytL08zYukJqgRYfrBwFmvzfXGnZHFmzCTfuc96Lw427Pey1BTcw4kzVbyGsyhtoDXJ\n",
       "I4crw4gsIefUCKiZEzUZTl2MKqG1MtAJdRYi5uCgxbRvTw5Zw8TkchqiqnshqHTgVF+dFK/niQR7\n",
       "voUN0IZULWdV+RsBTINIDk/TIIJAUR/1SOoUSU+7LQA2JNPY92ZjdXoBM9IVDylXZfm53SpvscjN\n",
       "EDr/XIHGdyo5Bc8ffqxQ9J2VbeiTzupPXi1y5AAcrdsw/xZ8oIElUv6/18SOXPvKr6Omh78ijhP3\n",
       "/BRV2m9Xn7/SmPss7JBCO+dgR+F+2ED4vTrWbhC6lCZJo7PpZx1XI8qjN6EXLR8NZasmj5ihd4Yn\n",
       "LK316epzj7QioQXTarJ7VpHwS9Kb7NZOUIZQz9gxfJVPDW6OXlc1pjHjwDWK1vHtLTux2zYdg5yE\n",
       "9PHISUIyqSOsk6EgdFymGI+rFU/ofu6TnTzMpgt4DBFbkyUUKoC+V/XGxuty6s1EL3HkuXmoCW7M\n",
       "LKCAtyqURol9AvJjuKOM5YhX8ggk4MwDQfvLw73cuJjTsKew37XYZlAlNSEotfNgAFLyFlQAIyEA\n",
       "AADpQZokbEM//p4QACTfFiWflx5uyTz7GCOpAFZNbshUspgPlRN/klXpT6/wVsKmXV/dHiGbDxHS\n",
       "jSLYTMitCq2ctL+4PY42ed7sRu/vf3xNq9ukKbImYZZDOQBEPd+Y7ZzcniGWiv4lJAxTxErwgR25\n",
       "MzIPDBZXtiknRB29DK5P14GA7Nl1n9DGq61Jm3CEaVO/G0YycWqszjhc6NJV9HPOerkf7ojyRHfl\n",
       "PPUSeMHYp1PhybOW8tyM/3wm0PcSLA+ciSdEqaMT5HhltoKPm8isntE2/RYc32cHyruIk6zgDpih\n",
       "MEBRSmmvtXgAAABHQZ5CeIT/ANYLR0YmwSNGrDuvYDUk3VlgiVrlsJHycj0mm26A8Ki8bSVHwZAI\n",
       "e9dVDY9nz1DoPKz4QhSKBNeQX2ZV5gBYCJkAAAAyAZ5hdEI/AAvvwVhtB4x6SoUpOL4wdLsl+0Zu\n",
       "5TEHPYrv5Kg36YbwoRh2Unku6Yc3AsoAAAAjAZ5jakI/AAXRWRq9JN2SoH4hlXecwm4HQ3yRyK6v\n",
       "TItQvIEAAABJQZpoSahBaJlMCGf//p4QAASb4sYI6RwsrjEmYKKS2LIIsAK8Ll0egZHOv0E+HNEw\n",
       "/v66wzBP/0RO90uzPzTp/k3O/KunYRHiQQAAAEtBnoZFESwn/wDYXvGCVyPhpFmOPO4ArQVtSMKI\n",
       "+grpZ5svqmDi4kx+5SerkafYkNxi1VsEMFhAuolaN/jusAmv5njBDe6AXoToF5EAAAArAZ6ldEI/\n",
       "AAF9+eKncdVtes6QxAfEUeg2osr3tUA5krr0uYA0P9Iu+cZjYQAAACYBnqdqQj8AAC/E1pmhzmMA\n",
       "DmmqaZMq3Oj9eHbItvRruIvAIyATQAAAACZBmqxJqEFsmUwIZ//+nhAAACtfDcgMqixOwAtIDJZo\n",
       "kZbfMwK08AAAABhBnspFFSwn/wDYXvFwqqUXxlca7DdFPEUAAAARAZ7pdEI/AAANz9k5a1ix9JQA\n",
       "AAAQAZ7rakI/AAAN1MewjNM+oAAAAJFBmvBJqEFsmUwIZ//+nhAAC/8IgumAKh29Iqxp1Tcw0A6o\n",
       "EIor36FKSYPuG9b14a6qIxw2Oa5S0DHnRH3gTTzpsUPbtls4oJE0x/tXvQGW3Wp8EIl9v2sIilHJ\n",
       "REnM7MXUNs6ztHdN8JwNcFeBqEUCiw5MyBLB5Oq8O5XlyARqkPZSWiY1meuqMJMZRUS1C+LpAAAA\n",
       "V0GfDkUVLCf/ANhe8c/ldgKGBoE+wOrWu80SGKLb3nH8ZIlUyTd9uQd1gAIyFhlgfr4uE630junB\n",
       "SNsFh3YofwmjZNblGRkQkHjcwXfnJwEE8OvKWxfXEQAAAB4Bny10Qj8AB5rIwyynBjQRpH/bnkhd\n",
       "Tn5R9L/slpEAAABJAZ8vakI/AAeYEwY+OWbs73Q/GqHcqgAjHbXBpXoEP9qF1maH4d2YUdzNAPVZ\n",
       "X4TCUEL/roKjGLBL6rxHtgZVLfU31qFgUjUMeAAAAGhBmzNJqEFsmUwIZ//+nhAAC/+x3OnR64oX\n",
       "7gSQpiwBqJqPhon9Doq8PUmxZtmUpHeYMkknmh+YJ5PHtcmJSNKVmVbL8srGS33vow+9pxKyRJQ4\n",
       "oFoxB018lcqIdqMfYWjPo6WyA12gWAAAAEdBn1FFFSwn/wDYXvGfvfGeqS/rp8yWudvU1Ql7+IAf\n",
       "lZaIpV9zVH98pXq7TWpFr6BCuc8tbkux2OzoRe8FmTAHmlbaEgxgYQAAADEBn3JqQj8AA3RUz2ma\n",
       "zT4E/BeCwbACJQ6XXoaeVHyZtm8j8bg/mkcfRHgPwlH1wLEOAAAAb0GbdkmoQWyZTAhn//6eEAAF\n",
       "/9jzMWGD56MCOUZgBz75vOSJD+EdgIKI2lALq7f8pgOetF0H9AeMCMFBKCSVtnK9PLzeXNDohcXn\n",
       "AdU9bqKWVqPNLrOh0fhPi0Bvxc5fb6Nxg10gYvdFKhpcB01doAAAAD9Bn5RFFSwn/wDYXvGH4DaI\n",
       "RgWuRKgvLYWK6DIZYLhOtO2FqCa4KStf/cuqbsXtg53o7PKLjUosnIGkvAkpwoEAAAA6AZ+1akI/\n",
       "AAHmBVz4Ju7pAA4yzFGqsGlk7Mz8zF1Y671MPts9QwEMrnwEEYd0VZs8yTzSnAztRROFoAAAAEhB\n",
       "m7hJqEFsmUwUTDP//p4QAAL/wnSrujIJPnQEAsl07/udZvAAJlGqvW21oaSy0NVxGiDIF2jXtxJs\n",
       "4pAUkfO99m0l7Js2vcEAAABRAZ/XakI/AP5uP/IPoR7QtKg0zxql2iL2quujo/IjADgqgj19MUkq\n",
       "LNEOFmr00pNTOsnaotZIzdZZjnOkJyIkw1ugZrX1URLXmQIzn8aVVyHBAAAAUkGb3EnhClJlMCF/\n",
       "/oywAAGC9bzds9hd5f/9OgCoEDWcF3iaS6GEiBYWVXjet2qmsdf9VTzP//GBvfizo7AgAjkuv3p/\n",
       "qZ7o7vfMqAwieazCjKAAAAA9QZ/6RTRMJ/8A2E8xQ4m1jo/VTXqzf0ANTrWoDdKnDgmMId5H7K5n\n",
       "iBviuuY2nC4OaX9Mqy0B7GQlHZA/gQAAADgBnhl0Qj8AAHm34ighoA5gXQbvlXVbY5h83+02eDoE\n",
       "iOXB5DPnR/B5aAcXK3kC9WH6415aaGgsYgAAADIBnhtqQj8AAHWDb932V3jE3IvxbQAzh6xKv7nQ\n",
       "AzKH2nSUOuuOIy1hIh4bu/eEdwbCNQAAADVBmh1JqEFomUwIX//+jLAAAXj46v1EWKoMAOIKDHLV\n",
       "yUAiSydBynbiwpxXhosuyCpDHDtLWwAAAH5Bmj5J4QpSZTAhn/6eEAAAvtyyLABFS7DC1AyJcpqu\n",
       "z5bOYOF7kbE4aWUEFyaxP4smdxuEH6NfDvTNWEsenotj6//xuwKTcFGhJ1+6pdOnsLZlJTw149pU\n",
       "kNZE/Xjq6Qw8meM2nSgP6v/POi60+pbM4w3mjMzPkJA/zPMlCswAAABwQZpBSeEOiZTAhn/+nhAA\n",
       "Basq1wA4txQPM2dd1N/ZWAGvEe/2xJ3kdPA5JBVk5zfIjd1pxSmYRSKCKJcqmFaRISyLsYwb/F/z\n",
       "xmgWNnVbJKVLAH+JL77mEdo0dBsIDrOHV0ZL5SdoNjZEoEtNx2asYAAAAElBnn9FETwn/wDYTzFN\n",
       "g6cXuvvWSY4/1TASB3swFIFw+XP+t9fCKSQq5Dxte4jDj8Ui9wBUjfVm+F/BzM5JnGSX+CaSlSFD\n",
       "IDhhAAAARAGegGpCPwAB5oQwiadrsNrNeYAA208biWXiF7jlFVwZfwaDeIxOZYoWbRLCfy0Q4aiO\n",
       "jgqSiluXNkHSdrtjoRr3dnq0AAAAd0GahEmoQWiZTAhn//6eEAAWPffyz9gVGAG5rDpRpcT9WXyB\n",
       "fvdP8jsSpaQd8NwSGEoESlOwnvXg2/LHyfFEn3AY96eTMpe/5cCKUdF9T1ovhBpWArx1Is84UBPQ\n",
       "SNuF0vdDv4XGIZRD0tE59hLfojSC97DMH++BAAAAWUGeokURLCf/ANhe8cipOl61Q+gbLAtGIAFI\n",
       "cDSLl3g2R0XML1iN4u4Nm79wXmzpH+KfN8IlK/HE3ZzVU4cwABBUk9xr7L2gJc4peqH0FnUbS2Ig\n",
       "6pkN9wNgAAAAQAGew2pCPwAHFiS7JWTwzJxK8AFcrYfAB9zXtb0NQfX7LP2g29CrsrSa+a9jmasq\n",
       "OHbEPvJfy87rwC3r9K3E4FsAAACwQZrHSahBbJlMCGf//p4QBPYygvqAWsYr7v0Qhc7CARNw18oP\n",
       "9lCYEJQT64ZWl9JXbR3HBdbGXu0luAxVQhtcFm+lICyZETNm7GEiq907olMcTDiUilNdpQVdk3u5\n",
       "He/ptRR9W+NnvU93IQRV4SDgaDZxAiVgQBWd3YciQcbZoBNkD0yuOin2UGeFoa1VczWVh91E0iDA\n",
       "txwJv01Ona3r2jNIyaEOqi2iRpcAFrejeHEAAABeQZ7lRRUsJ/8A2F7yyaTv+ttBvI6agp7AJpjJ\n",
       "VP2+PKAfj1jPiwOB1axNRA4f1vwaOhKt/FpCoeMD6gn3NkgsKd6E4nR/10MmURuExaI+awdSu/U+\n",
       "BcDMTeblFH57NQAAAGcBnwZqQj8AG6mD0xTwCTIQT8WegC/wwU7R3ZziDs2HplDwf9pAAViX3pin\n",
       "dcovB2hVri/EqrxltT12QP6V/xSnRP8Eg3T/Gxb98Z+deZY+9aR0MoOiqqH6/x0s1NIKFQUbe9jf\n",
       "/HRRAAAAlEGbCkmoQWyZTAhn//6eEAFPyrXAB/PJb66dWI7fkHweUv2EpeyaPSAd4K8PrSTpSVNB\n",
       "JpC3GTvySIyubzViQBx55k/+lu6tQL7f73l2E2IsyiPNB0nOiFlcFFnaBOMa12wwOuVrAL8BuRhq\n",
       "GllWPyUq/bEHk7SlyY7KwnrHw4yg8aDxzDE/rs62YYZX6zrIEI7jQNgAAABfQZ8oRRUsJ/8A2F72\n",
       "spPelM2ToNVVWIKZeXjBgBuvWBWs1EH6GpnjsYfe01Frfe4xtZqS6WGSvoAz/DeGbow+LFh43Hot\n",
       "vCMT3pmZ/MIW/iFE7vpcmfEFmsW04vvD0JIAAABGAZ9JakI/AGwmTXfRiBwBVemisHDHVwTsn/lB\n",
       "uosyE94JyaRpSlyaA8V5zwD2oiz8ttNwtnHFXLEfl8q+uYrqUnjZqCCqNQAAAHhBm05JqEFsmUwI\n",
       "X//+jLAGW+U/+ACkjlHcLkdnSAjs72JZX6eCOobmwrmIx/+EUAYnqGGNEZJM0IeCQv/JlArjGkPm\n",
       "2CHKobs9VW4qpnvbK2ZoJ3HFtfHifq39J9A9ngNN84Z6fjngwo2qf05LZZXOhimCMxWfnWAAAABN\n",
       "QZ9sRRUsJ/8BYbgxvj3y6CVzQBExoKgf1RdUbhEnKWl3NWK7ubvlVeYs+4nnNiLYsaqZFYM6RhXd\n",
       "oUG+bvIwvEoe1wvYBYIKwG7nwjQAAABIAZ+LdEI/APuC5B8EbpqTuLcvgGgCDD+TIiFOgFPtcCwe\n",
       "Pt4ioFL0BmM2V0pH+h/CgO8hS5OuJJgkTXtp4obag+xbu7WB5sbtAAAAOAGfjWpCPwGmoFcABEGs\n",
       "ZhWHTXFLMGhJPlH37pat2l+KHCkHYhGK2MXEoMkcYLwlwNdbQ7afHFM/AAAAi0GbkUmoQWyZTAhf\n",
       "//6MsAUurOE9dZPMo20pxxAAJj+ULTyrx1Z1lrv4tX5XZaHlJgPmcamLzQCM2u1SYeyRWbxrbK/u\n",
       "vJb48s7sZIT6c/JaDReCvbiIM54m/UALdX3IIZ55X88HtYGi542mptMhvc7NaLxzY2yJhmrnxbhO\n",
       "JvtRmRsuXpFIuljBMQ8AAABTQZ+vRRUsJ/8BYan1qeo1VAAXzQs7/MISye91HpxVXW/dzmqHjLCu\n",
       "TmtynQA1xSd3699UYO7xr9wBml9O1JHSsJkYGkqD//P6y1l3QNjQAl5UZkQAAABAAZ/QakI/AeSR\n",
       "bEGSD/rkAHxszDl4RV0aNAckpWwR3uf2eFyR+++VcIlcBjmn686Y6i1tDJnSh+Qm95apkNW0cAAA\n",
       "AFpBm9JJqEFsmUwIX//+jLADAYB+N1gDbrP/Il/othRDn1cFcQQbItXKItaRaVWB1u5c0MFG2q0d\n",
       "thVO/Uqe09aig6Qbt+0uWkdaZrsF2Zi+QcfSsaJQ2lbsjPkAAABbQZvzSeEKUmUwIX/+jLADBfdh\n",
       "mDzXP8kbOcmYjyl4BOZ/2fGELHXpol5O3yIsACkCPC4s33xh5cNy9pj0Amaj8tzMyGqEfr5+donp\n",
       "/ecDWtyLI886rBfn0wn7tAAAAG5BmhVJ4Q6JlMFNEwv//oywAYL1u4KQCXDV4VkMGAA3DgVwE6m1\n",
       "LVCvHK+J4z5KXh5lONsNqnvD3Sx2jNWnyudUsOur0wzmucGiziFWkp3HfoMWcMwInj+R8uKR7tQ6\n",
       "gBsM1GDKjisUrNG/DofNMAAAAEwBnjRqQj8AeYSUQeQOCHSaOhIIp5e6v+i4jK3zhF5KFipP3Q1a\n",
       "LD1lqRRj8NT4sdg2Wm4+gS/Wu9MB7JqBciAqPcC1zpqWO5vnUW2BAAAATEGaNknhDyZTAhf//oyw\n",
       "AMFwnTnNJPZ1YQQQa9QDaqAA6QO92dMlo9DCj2nmcUDn/7QXqi8UgMHfVHctPyMv+mB0Xugc+Nkt\n",
       "8fWKHYYAAAB8QZpYSeEPJlMFETwv//6MsABguE6gyZ+lyl4HHNMeVWdwAp8hGTDGAFh8a67ylB38\n",
       "PYUNsiNEERZaR1cCL/M5zz2RaYiFl/WNSq50vZjt0n8cZxdamdOmOgGE44q4J9EeNXx+Vv063a60\n",
       "mVHg3UClI7W3XOLx/wnrjwzbgQAAAEgBnndqQj8AHmpndML2450c+6R8vKTEAPpOLrwb3yM7POpm\n",
       "+wqKfO+qJb5aXs5xay3Cg0j2jsIiuDrvl9Ufd6Pc15UAJPNtVM0AAACOQZp6SeEPJlMFPC///oyw\n",
       "AJAR1aAGn95N9c7nlhwyPUc4QW3+qVCt1IN/XhIFo7+Bl7dosXFwRJVPeK1QaCa49mhOWAEn4LPf\n",
       "7xUKeihYiiJZFPQAfNQfNHtDNEIeu58FIPyXvHNaxKfCQ2PaQkSyVNtIbAMZJ8lmO1FPJxSG6rFZ\n",
       "mzIMXiViY1nXKSEjcAAAAEsBnplqQj8AL9MHnZW4JB8aaAKEj2LM1YqEkct9gl/Tf3PhQFTAa1er\n",
       "nuaHTrZo37tL0hxQm4bpSq1vj6ZJdSF9S1MR6umpRtnZZv0AAABlQZqbSeEPJlMCF//+jLABKB/t\n",
       "gr9cK1Jtk86rFwldZPFHILbmwWVedG+fzO3JfcfoHQpwV88ZewhX1v60ZYxVTroS7eCv1iwGR50l\n",
       "oyoxTDhiWxkMlmzuSSrpv4RwLSJQ7k80lxYAAABiQZq9SeEPJlMFETwr//44QAR74IW/l8CEso1+\n",
       "oAbFsulE3M50Mc92m4p/tf+0mZSWT/F4DPQuhtON8zPfFbeI/gNHvfltzt6hhMawpbOXqGEZdTIB\n",
       "M9xHVSVTK3bU3ric/bEAAAA6AZ7cakI/AF0xSdgjWHJj11YwvwSUxX5rZsQ2I44YBay4D1IbdSCg\n",
       "h6Eyi7udI6/WaqOlgupjjBF0IQAAAE1Bmt9J4Q8mUwU8I//94QAIaNx/fIAnUXjwZligWU491DSp\n",
       "f0drXhyes1zGOzc1N0J19VyDeesDpn/6PeodTLRDsY7hjMrdAhIj1m2TVQAAADYBnv5qQj8AL9YJ\n",
       "5OjQP6FebUz30HkBeDurwuDC34+mky/6aTiVBn7HRxAigsjZeSK8piiVr1gAAAXmbW9vdgAAAGxt\n",
       "dmhkAAAAAAAAAAAAAAAAAAAD6AAABkAAAQAAAQAAAAAAAAAAAAAAAAEAAAAAAAAAAAAAAAAAAAAB\n",
       "AAAAAAAAAAAAAAAAAABAAAAAAAAAAAAAAAAAAAAAAAAAAAAAAAAAAAAAAAAAAgAABRB0cmFrAAAA\n",
       "XHRraGQAAAADAAAAAAAAAAAAAAABAAAAAAAABkAAAAAAAAAAAAAAAAAAAAAAAAEAAAAAAAAAAAAA\n",
       "AAAAAAABAAAAAAAAAAAAAAAAAABAAAAAAbAAAAEgAAAAAAAkZWR0cwAAABxlbHN0AAAAAAAAAAEA\n",
       "AAZAAAACAAABAAAAAASIbWRpYQAAACBtZGhkAAAAAAAAAAAAAAAAAAAoAAAAQABVxAAAAAAALWhk\n",
       "bHIAAAAAAAAAAHZpZGUAAAAAAAAAAAAAAABWaWRlb0hhbmRsZXIAAAAEM21pbmYAAAAUdm1oZAAA\n",
       "AAEAAAAAAAAAAAAAACRkaW5mAAAAHGRyZWYAAAAAAAAAAQAAAAx1cmwgAAAAAQAAA/NzdGJsAAAA\n",
       "s3N0c2QAAAAAAAAAAQAAAKNhdmMxAAAAAAAAAAEAAAAAAAAAAAAAAAAAAAAAAbABIABIAAAASAAA\n",
       "AAAAAAABAAAAAAAAAAAAAAAAAAAAAAAAAAAAAAAAAAAAAAAAAAAAGP//AAAAMWF2Y0MBZAAV/+EA\n",
       "GGdkABWs2UGwloQAAAMABAAAAwFAPFi2WAEABmjr48siwAAAABx1dWlka2hA8l8kT8W6OaUbzwMj\n",
       "8wAAAAAAAAAYc3R0cwAAAAAAAAABAAAAQAAAAQAAAAAUc3RzcwAAAAAAAAABAAAAAQAAAchjdHRz\n",
       "AAAAAAAAADcAAAABAAACAAAAAAEAAAUAAAAAAQAAAgAAAAABAAAAAAAAAAEAAAEAAAAAAQAABQAA\n",
       "AAABAAACAAAAAAEAAAAAAAAAAQAAAQAAAAABAAAFAAAAAAEAAAIAAAAAAQAAAAAAAAABAAABAAAA\n",
       "AAEAAAUAAAAAAQAAAgAAAAABAAAAAAAAAAEAAAEAAAAAAQAABAAAAAACAAABAAAAAAEAAAQAAAAA\n",
       "AgAAAQAAAAABAAADAAAAAAEAAAEAAAAAAQAABQAAAAABAAACAAAAAAEAAAAAAAAAAQAAAQAAAAAC\n",
       "AAACAAAAAAEAAAQAAAAAAgAAAQAAAAABAAAEAAAAAAIAAAEAAAAAAQAABAAAAAACAAABAAAAAAEA\n",
       "AAQAAAAAAgAAAQAAAAABAAAFAAAAAAEAAAIAAAAAAQAAAAAAAAABAAABAAAAAAEAAAQAAAAAAgAA\n",
       "AQAAAAACAAACAAAAAAEAAAMAAAAAAQAAAQAAAAABAAACAAAAAAEAAAMAAAAAAQAAAQAAAAABAAAD\n",
       "AAAAAAEAAAEAAAAAAQAAAgAAAAABAAADAAAAAAEAAAEAAAAAAQAAAwAAAAABAAABAAAAABxzdHNj\n",
       "AAAAAAAAAAEAAAABAAAAQAAAAAEAAAEUc3RzegAAAAAAAAAAAAAAQAAAChEAAADtAAAASwAAADYA\n",
       "AAAnAAAATQAAAE8AAAAvAAAAKgAAACoAAAAcAAAAFQAAABQAAACVAAAAWwAAACIAAABNAAAAbAAA\n",
       "AEsAAAA1AAAAcwAAAEMAAAA+AAAATAAAAFUAAABWAAAAQQAAADwAAAA2AAAAOQAAAIIAAAB0AAAA\n",
       "TQAAAEgAAAB7AAAAXQAAAEQAAAC0AAAAYgAAAGsAAACYAAAAYwAAAEoAAAB8AAAAUQAAAEwAAAA8\n",
       "AAAAjwAAAFcAAABEAAAAXgAAAF8AAAByAAAAUAAAAFAAAACAAAAATAAAAJIAAABPAAAAaQAAAGYA\n",
       "AAA+AAAAUQAAADoAAAAUc3RjbwAAAAAAAAABAAAALAAAAGJ1ZHRhAAAAWm1ldGEAAAAAAAAAIWhk\n",
       "bHIAAAAAAAAAAG1kaXJhcHBsAAAAAAAAAAAAAAAALWlsc3QAAAAlqXRvbwAAAB1kYXRhAAAAAQAA\n",
       "AABMYXZmNTcuODMuMTAw\n",
       "\">\n",
       "  Your browser does not support the video tag.\n",
       "</video>"
      ],
      "text/plain": [
       "<IPython.core.display.HTML object>"
      ]
     },
     "execution_count": 6,
     "metadata": {},
     "output_type": "execute_result"
    }
   ],
   "source": [
    "env = make_pong()\n",
    "fig = plt.figure()\n",
    "ims = []\n",
    "obs = env.reset()\n",
    "for _ in range(64):\n",
    "    action = env.action_space.sample()\n",
    "    obs, _, _, _ = env.step(action)\n",
    "    obs = obs.numpy().transpose(1, 2, 0)\n",
    "    ims.append([plt.imshow(obs, animated=True)])\n",
    "anim = anime.ArtistAnimation(fig, ims, interval=25, blit=True)\n",
    "plt.close()\n",
    "HTML(anim.to_html5_video())"
   ]
  },
  {
   "cell_type": "markdown",
   "metadata": {},
   "source": [
    "## VAE (V) model"
   ]
  },
  {
   "cell_type": "code",
   "execution_count": 9,
   "metadata": {},
   "outputs": [],
   "source": [
    "class Encoder(nn.Module):\n",
    "    def __init__(self, latent_dim):\n",
    "        super(Encoder, self).__init__()\n",
    "        self.conv1 = nn.Conv2d(3, 32, 4, stride=2)\n",
    "        self.conv2 = nn.Conv2d(32, 64, 4, stride=2)\n",
    "        self.conv3 = nn.Conv2d(64, 128, 4, stride=2)\n",
    "        self.conv4 = nn.Conv2d(128, 256, 4, stride=2)\n",
    "        self.fc_mean = nn.Linear(1024, latent_dim)\n",
    "        self.fc_logvar = nn.Linear(1024, latent_dim)\n",
    "        \n",
    "    def forward(self, x):\n",
    "        x = F.relu(self.conv1(x), inplace=True)\n",
    "        x = F.relu(self.conv2(x), inplace=True)\n",
    "        x = F.relu(self.conv3(x), inplace=True)\n",
    "        x = F.relu(self.conv4(x), inplace=True)\n",
    "        x = x.view(x.size(0), -1)\n",
    "        return self.fc_mean(x), self.fc_logvar(x)"
   ]
  },
  {
   "cell_type": "code",
   "execution_count": 10,
   "metadata": {},
   "outputs": [],
   "source": [
    "class Decoder(nn.Module):\n",
    "    def __init__(self, latent_size):\n",
    "        super(Decoder, self).__init__()\n",
    "        self.fc1 = nn.Linear(latent_dim, 1024)\n",
    "        self.deconv2 = nn.ConvTranspose2d(1024, 128, 5, stride=2)\n",
    "        self.deconv3 = nn.ConvTranspose2d(128, 64, 5, stride=2)\n",
    "        self.deconv4 = nn.ConvTranspose2d(64, 32, 6, stride=2)\n",
    "        self.deconv5 = nn.ConvTranspose2d(32, 3, 5, stride=2)\n",
    "        \n",
    "    def forward(self, x):\n",
    "        x = F.relu(self.fc1(x), inplace=True)\n",
    "        x = x.view(x.size(0), 1024, 1, 1)\n",
    "        x = F.relu(self.deconv2(x), inplace=True)\n",
    "        x = F.relu(self.deconv3(x), inplace=True)\n",
    "        x = F.relu(self.deconv4(x), inplace=True)\n",
    "        x = torch.sigmoid(self.deconv5(x))"
   ]
  },
  {
   "cell_type": "code",
   "execution_count": 11,
   "metadata": {},
   "outputs": [],
   "source": [
    "class VAE(nn.Module):\n",
    "    def __init__(self, latent_dim):\n",
    "        super(VAE, self).__init__()\n",
    "        self.encoder = Encoder(latent_dim)\n",
    "        self.decoder = Decoder(latent_dim)\n",
    "\n",
    "    def encode(self, x):\n",
    "        mu, logvar = self.encoder(x)\n",
    "        if self.training:\n",
    "            return self.reparameterize(mu, logvar)\n",
    "        return mu\n",
    "        \n",
    "    def reparameterize(self, mu, logvar):\n",
    "        sigma = torch.exp(0.5 * logvar)\n",
    "        eps = torch.randn_like(mu)\n",
    "        return eps.mul(sigma).add_(mu)\n",
    "    \n",
    "    def decode(self, z):\n",
    "        return self.decoder(z)\n",
    "        \n",
    "    def forward(self, x):\n",
    "        mu, logvar = self.encoder(x)\n",
    "        z = self.reparameterize(mu, logvar)\n",
    "        x_ = self.decoder(z)\n",
    "        return mu, logvar, z, x_"
   ]
  },
  {
   "cell_type": "markdown",
   "metadata": {},
   "source": [
    "## Controller (C) model"
   ]
  },
  {
   "cell_type": "markdown",
   "metadata": {},
   "source": [
    "Once again, Ha and Schmidhuber used CMA-ES to evolve the controller, but that's not necessary. We'll use the single threaded **A2C** (Advantage Actor Critic) algorithm to train our controller."
   ]
  },
  {
   "cell_type": "code",
   "execution_count": 19,
   "metadata": {},
   "outputs": [],
   "source": [
    "class ActorCritic(nn.Module):\n",
    "    def __init__(self, latent_dim, act_dim):\n",
    "        super(ActorCritic, self).__init__()\n",
    "        self.actor = nn.Linear(latent_dim, act_dim)\n",
    "        self.critic = nn.Linear(latent_dim, 1)\n",
    "        \n",
    "    def forward(self, x):\n",
    "        return self.actor(x), self.critic(x)"
   ]
  },
  {
   "cell_type": "markdown",
   "metadata": {},
   "source": [
    "## Data collection"
   ]
  },
  {
   "cell_type": "code",
   "execution_count": null,
   "metadata": {},
   "outputs": [],
   "source": []
  }
 ],
 "metadata": {
  "kernelspec": {
   "display_name": "notebooks",
   "language": "python",
   "name": "notebooks"
  },
  "language_info": {
   "codemirror_mode": {
    "name": "ipython",
    "version": 3
   },
   "file_extension": ".py",
   "mimetype": "text/x-python",
   "name": "python",
   "nbconvert_exporter": "python",
   "pygments_lexer": "ipython3",
   "version": "3.7.3"
  }
 },
 "nbformat": 4,
 "nbformat_minor": 2
}
