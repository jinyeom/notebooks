{
 "cells": [
  {
   "cell_type": "markdown",
   "metadata": {},
   "source": [
    "# Neural Turing Machines\n",
    "**Jin Yeom**  \n",
    "jin.yeom@hudl.com"
   ]
  },
  {
   "cell_type": "markdown",
   "metadata": {},
   "source": [
    "In this notebook, we attempt at implementing a Neural Turing Machine (NTM). While there are existing implementations, we aim to implement an NTM from scratch, thereby practice reproducing papers. This means that I can reference anything but existing implementation."
   ]
  },
  {
   "cell_type": "code",
   "execution_count": 1,
   "metadata": {},
   "outputs": [],
   "source": [
    "import torch\n",
    "from torch import nn, optim\n",
    "from torch.nn import functional as F\n",
    "from matplotlib import pyplot as plt"
   ]
  },
  {
   "cell_type": "code",
   "execution_count": 2,
   "metadata": {},
   "outputs": [
    {
     "name": "stdout",
     "output_type": "stream",
     "text": [
      "device = cuda\n"
     ]
    }
   ],
   "source": [
    "device = torch.device('cuda' if torch.cuda.is_available() else 'cpu')\n",
    "print(\"device =\", device)"
   ]
  },
  {
   "cell_type": "markdown",
   "metadata": {},
   "source": [
    "## Tasks"
   ]
  },
  {
   "cell_type": "code",
   "execution_count": null,
   "metadata": {},
   "outputs": [],
   "source": [
    "# TODO: implement tasks"
   ]
  },
  {
   "cell_type": "markdown",
   "metadata": {},
   "source": [
    "## Memory"
   ]
  },
  {
   "cell_type": "markdown",
   "metadata": {},
   "source": [
    "According to [this paper](https://arxiv.org/abs/1807.08518), memory content initialization is crucial for the success of an NTM. But, we'll address (no pun intended) this later."
   ]
  },
  {
   "cell_type": "code",
   "execution_count": 3,
   "metadata": {},
   "outputs": [],
   "source": [
    "class Memory:\n",
    "    def __init__(self, n, m):\n",
    "        self.n = n  # memory size\n",
    "        self.m = m  # content size\n",
    "        self.M = None\n",
    "        self.w = None\n",
    "        \n",
    "    @property\n",
    "    def state(self):\n",
    "        M = self.M.detach().cpu()\n",
    "        w = self.w.detach().cpu()\n",
    "        return M, w\n",
    "        \n",
    "    def reset(self, batch_size, device):\n",
    "        # TODO: use a better initialization method\n",
    "        self.M = torch.zeros(batch_size, self.n, self.m).to(device)\n",
    "        self.w = torch.zeros(batch_size, self.m).to(device)\n",
    "    \n",
    "    def read(self):\n",
    "        return torch.matmul(self.w, self.M)\n",
    "    \n",
    "    def write(self, e, a):\n",
    "        e = e.unsqueeze(1)\n",
    "        a = a.unsqueeze(1)\n",
    "        w = self.w.unsqueeze(-1)\n",
    "        self.mem -= self.M * torch.matmul(w, e)\n",
    "        self.mem += torch.matmul(w, a)\n",
    "        \n",
    "    def _cont_addr(self, k, beta):\n",
    "        \"\"\"Content-based addressing\"\"\"\n",
    "        k = k.unsqueeze(1)\n",
    "        k = k.expand_as(self.M)\n",
    "        sim = F.cosine_similarity(self.M, k)\n",
    "        return F.softmax(sim, dim=-1)\n",
    "        \n",
    "    def _interpolate(self, wc, w, g):\n",
    "        \"\"\"Interpolation between w_c and w at t - 1\"\"\"\n",
    "        return g * wc + (1 - g) * w\n",
    "        \n",
    "    def _conv_shift(self, w, s):\n",
    "        \"\"\"Convolutional shift\"\"\"\n",
    "        r = []\n",
    "        padding = s.size(-1) // 2\n",
    "        # NOTE: since a kernel for Conv1d cannot have\n",
    "        # a shape with the batch size, unfortunately,\n",
    "        # we have to loop through each batch to compute\n",
    "        # convolutional shift.\n",
    "        # TODO: find a better way to do this.\n",
    "        for i, k in zip(w, s):\n",
    "            shifted = F.conv1d(\n",
    "                i.view(1, 1, -1), \n",
    "                k.view(1, 1, -1), \n",
    "                padding=padding,\n",
    "                padding_mode='circular')\n",
    "            r.append(shifted.view(-1))\n",
    "        return torch.stack(r)\n",
    "    \n",
    "    def _sharpen(self, w, gamma):\n",
    "        \"\"\"Sharpening\"\"\"\n",
    "        w = w ** gamma\n",
    "        return w / (w.sum(-1, keepdim=True)+1e-8)\n",
    "        \n",
    "    def _loc_addr(self, wc, w, g, s, gamma):\n",
    "        \"\"\"Location-based addressing\"\"\"\n",
    "        w = self._interpolate(wc, w, g)\n",
    "        w = self._conv_shift(w, s)\n",
    "        return self._sharpen(w, gamma)\n",
    "        \n",
    "    def step(self, k, beta, g, s, gamma):\n",
    "        wc = self._cont_addr(k, beta)\n",
    "        self.w = self._loc_addr(wc, self.w, g, s, gamma)\n",
    "        return self.w.detach().cpu()"
   ]
  },
  {
   "cell_type": "markdown",
   "metadata": {},
   "source": [
    "## Controller"
   ]
  },
  {
   "cell_type": "markdown",
   "metadata": {},
   "source": [
    "For the controller for our NTM, either a feedforward or recurrent network can be used; since we're implementing this for the first time, we're going to use a feedforward network for the sake of transparency in its behavior."
   ]
  },
  {
   "cell_type": "code",
   "execution_count": null,
   "metadata": {},
   "outputs": [],
   "source": [
    "# TODO: implement read head\n",
    "# TODO: implement write head\n",
    "# TODO: implement controller"
   ]
  },
  {
   "cell_type": "code",
   "execution_count": null,
   "metadata": {},
   "outputs": [],
   "source": []
  },
  {
   "cell_type": "markdown",
   "metadata": {},
   "source": [
    "## References"
   ]
  },
  {
   "cell_type": "markdown",
   "metadata": {},
   "source": [
    "- [Neural Turing Machines](https://arxiv.org/abs/1410.5401)\n",
    "- [Implementing Neural Turing Machines](https://arxiv.org/abs/1807.08518)"
   ]
  }
 ],
 "metadata": {
  "kernelspec": {
   "display_name": "notebooks",
   "language": "python",
   "name": "notebooks"
  },
  "language_info": {
   "codemirror_mode": {
    "name": "ipython",
    "version": 3
   },
   "file_extension": ".py",
   "mimetype": "text/x-python",
   "name": "python",
   "nbconvert_exporter": "python",
   "pygments_lexer": "ipython3",
   "version": "3.7.3"
  }
 },
 "nbformat": 4,
 "nbformat_minor": 2
}
