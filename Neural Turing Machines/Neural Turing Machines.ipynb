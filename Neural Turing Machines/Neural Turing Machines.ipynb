{
 "cells": [
  {
   "cell_type": "markdown",
   "metadata": {},
   "source": [
    "# Neural Turing Machines\n",
    "**Jin Yeom**  \n",
    "jin.yeom@hudl.com"
   ]
  },
  {
   "cell_type": "markdown",
   "metadata": {},
   "source": [
    "In this notebook, we attempt at implementing a Neural Turing Machine (NTM). While there are existing implementations, we aim to implement an NTM from scratch, thereby practice reproducing papers. This means that I can reference anything but existing implementation."
   ]
  },
  {
   "cell_type": "code",
   "execution_count": 5,
   "metadata": {},
   "outputs": [],
   "source": [
    "import torch\n",
    "from torch import nn, optim\n",
    "from torch.nn import functional as F\n",
    "from matplotlib import pyplot as plt"
   ]
  },
  {
   "cell_type": "code",
   "execution_count": 2,
   "metadata": {},
   "outputs": [
    {
     "name": "stdout",
     "output_type": "stream",
     "text": [
      "device = cuda\n"
     ]
    }
   ],
   "source": [
    "device = torch.device('cuda' if torch.cuda.is_available() else 'cpu')\n",
    "print(\"device =\", device)"
   ]
  },
  {
   "cell_type": "markdown",
   "metadata": {},
   "source": [
    "## Memory"
   ]
  },
  {
   "cell_type": "markdown",
   "metadata": {},
   "source": [
    "According to [this paper](https://arxiv.org/abs/1807.08518), memory content initialization is crucial for the success of an NTM. But, we'll address (no pun intended) this later."
   ]
  },
  {
   "cell_type": "code",
   "execution_count": 55,
   "metadata": {},
   "outputs": [],
   "source": [
    "class Memory(nn.Module):\n",
    "    def __init__(self, mem_size, cont_size):\n",
    "        super(Memory, self).__init__()\n",
    "        self.mem_size = mem_size\n",
    "        self.cont_size = cont_size\n",
    "        self.M = None\n",
    "        self.w = None\n",
    "        \n",
    "    def reset(self, batch_size):\n",
    "        # TODO: use a better initialization method\n",
    "        self.M = torch.zeros(batch_size, self.mem_size, self.cont_size)\n",
    "        self.w = torch.zeros(batch_size, self.mem_size)\n",
    "    \n",
    "    def read(self):\n",
    "        return torch.matmul(self.w, self.M)\n",
    "    \n",
    "    def write(self, e, a):\n",
    "        e = e.unsqueeze(1)\n",
    "        a = a.unsqueeze(1)\n",
    "        w = self.w.unsqueeze(-1)\n",
    "        self.mem -= self.M * torch.matmul(w, e)\n",
    "        self.mem += torch.matmul(w, a)\n",
    "        \n",
    "    def _content_addr(self, k, beta):\n",
    "        k = k.unsqueeze(1)\n",
    "        k = k.expand_as(self.M)\n",
    "        sim = F.cosine_similarity(self.M, k)\n",
    "        return F.softmax(sim, dim=-1)\n",
    "        \n",
    "    def _interpolate(self, wc, g):\n",
    "        return g * wc + (1 - g) * self.w\n",
    "        \n",
    "    def _conv_shift(self, s):\n",
    "        r = []\n",
    "        padding = s.size(-1) // 2\n",
    "        # NOTE: since a kernel for Conv1d cannot have\n",
    "        # a shape with the batch size, unfortunately,\n",
    "        # we have to loop through each batch to compute\n",
    "        # convolutional shift.\n",
    "        # TODO: find a better way to do this.\n",
    "        for w, k in zip(self.w, s):\n",
    "            shifted = F.conv1d(\n",
    "                w.view(1, 1, -1), \n",
    "                k.view(1, 1, -1), \n",
    "                padding=padding, \n",
    "                padding_mode='circular')\n",
    "            r.append(shifted.view(-1))\n",
    "        return torch.stack(r)\n",
    "    \n",
    "    def _sharpen(self, gamma):\n",
    "        w = self.w ** gamma\n",
    "        return w / (w.sum(1, keepdim=True)+1e-8)\n",
    "        \n",
    "    def _location_addr(self, wc, g, s, gamma):\n",
    "        self.w = self._interpolate(wc, g)\n",
    "        self.w = self._conv_shift(s)\n",
    "        self.w = self._sharpen(gamma)\n",
    "        \n",
    "    def forward(self, k, beta, g, s, gamma):\n",
    "        wc = self.content_addr(k, beta)\n",
    "        self.location_addr(wc, g, s, gamma)"
   ]
  },
  {
   "cell_type": "markdown",
   "metadata": {},
   "source": [
    "## Controller"
   ]
  },
  {
   "cell_type": "markdown",
   "metadata": {},
   "source": [
    "For the controller for our NTM, either a feedforward or recurrent network can be used; since we're implementing this for the first time, we're going to use a feedforward network for the sake of transparency in its behavior."
   ]
  },
  {
   "cell_type": "code",
   "execution_count": null,
   "metadata": {},
   "outputs": [],
   "source": [
    "# TODO: implement read head\n",
    "# TODO: implement write head\n",
    "# TODO: implement controller"
   ]
  }
 ],
 "metadata": {
  "kernelspec": {
   "display_name": "notebooks",
   "language": "python",
   "name": "notebooks"
  },
  "language_info": {
   "codemirror_mode": {
    "name": "ipython",
    "version": 3
   },
   "file_extension": ".py",
   "mimetype": "text/x-python",
   "name": "python",
   "nbconvert_exporter": "python",
   "pygments_lexer": "ipython3",
   "version": "3.7.3"
  }
 },
 "nbformat": 4,
 "nbformat_minor": 2
}
